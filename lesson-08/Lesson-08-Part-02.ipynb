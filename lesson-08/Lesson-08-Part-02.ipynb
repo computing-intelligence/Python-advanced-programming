{
 "cells": [
  {
   "cell_type": "markdown",
   "metadata": {},
   "source": [
    "## 任何一个语言的特性： \n",
    "\n",
    "1. cpp 有虚函数virtual funuction\n",
    "2. Java 里边 implement 和 inherit\n",
    "3. Python functional decorator\n",
    "\n",
    "：要解决的是什么问题？"
   ]
  },
  {
   "cell_type": "code",
   "execution_count": 3,
   "metadata": {},
   "outputs": [],
   "source": [
    "import numpy as np"
   ]
  },
  {
   "cell_type": "markdown",
   "metadata": {},
   "source": [
    "$$ \\frac{\\pi}{4} = \\sum_{k=0}^{\\infty} \\frac{(-1)^k}{2k + 1}$$"
   ]
  },
  {
   "cell_type": "code",
   "execution_count": 26,
   "metadata": {},
   "outputs": [],
   "source": [
    "_sum = 0"
   ]
  },
  {
   "cell_type": "code",
   "execution_count": 29,
   "metadata": {},
   "outputs": [],
   "source": [
    "for k, de in enumerate(2 * np.arange(100000) + 1):\n",
    "    _sum += (-1)**k / de"
   ]
  },
  {
   "cell_type": "code",
   "execution_count": 30,
   "metadata": {},
   "outputs": [
    {
     "data": {
      "text/plain": [
       "3.1415826535897198"
      ]
     },
     "execution_count": 30,
     "metadata": {},
     "output_type": "execute_result"
    }
   ],
   "source": [
    "_sum * 4"
   ]
  },
  {
   "cell_type": "code",
   "execution_count": 34,
   "metadata": {},
   "outputs": [],
   "source": [
    "@change_op\n",
    "def func(a, b): \n",
    "    return a + b"
   ]
  },
  {
   "cell_type": "code",
   "execution_count": 35,
   "metadata": {},
   "outputs": [],
   "source": [
    "def change_op(func): \n",
    "    def _wrap(*args, **kwargs):\n",
    "        x, y = args\n",
    "        return x - y\n",
    "    return _wrap"
   ]
  },
  {
   "cell_type": "code",
   "execution_count": 37,
   "metadata": {},
   "outputs": [
    {
     "data": {
      "text/plain": [
       "-9"
      ]
     },
     "execution_count": 37,
     "metadata": {},
     "output_type": "execute_result"
    }
   ],
   "source": [
    "func(1, 10)"
   ]
  },
  {
   "cell_type": "markdown",
   "metadata": {},
   "source": [
    "## AST: Abstract Syntax Tree"
   ]
  },
  {
   "cell_type": "markdown",
   "metadata": {},
   "source": [
    "```\n",
    "人称  = 你 | 我 | 他\n",
    "动作  = 爱 | 恨 | 羡慕\n",
    "句子 = 人称 动作 人称\n",
    "```"
   ]
  },
  {
   "cell_type": "markdown",
   "metadata": {},
   "source": [
    "```\n",
    "n = 0 | 1 | 2 | 3 | 4 | 5 | 6 | 7 | 8 | 9\n",
    "number = n | n number\n",
    "op = + | - | *  | / \n",
    "stmt = number op number\n",
    "```"
   ]
  },
  {
   "cell_type": "markdown",
   "metadata": {},
   "source": [
    "```\n",
    "-- ASDL's 4 builtin types are:\n",
    "-- identifier, int, string, constant\n",
    "\n",
    "module Python\n",
    "{\n",
    "    mod = Module(stmt* body, type_ignore* type_ignores)\n",
    "        | Interactive(stmt* body)\n",
    "        | Expression(expr body)\n",
    "        | FunctionType(expr* argtypes, expr returns)\n",
    "\n",
    "    stmt = FunctionDef(identifier name, arguments args,\n",
    "                       stmt* body, expr* decorator_list, expr? returns,\n",
    "                       string? type_comment)\n",
    "          | AsyncFunctionDef(identifier name, arguments args,\n",
    "                             stmt* body, expr* decorator_list, expr? returns,\n",
    "                             string? type_comment)\n",
    "\n",
    "          | ClassDef(identifier name,\n",
    "             expr* bases,\n",
    "             keyword* keywords,\n",
    "             stmt* body,\n",
    "             expr* decorator_list)\n",
    "          | Return(expr? value)\n",
    "\n",
    "          | Delete(expr* targets)\n",
    "          | Assign(expr* targets, expr value, string? type_comment)\n",
    "          | AugAssign(expr target, operator op, expr value)\n",
    "          -- 'simple' indicates that we annotate simple name without parens\n",
    "          | AnnAssign(expr target, expr annotation, expr? value, int simple)\n",
    "\n",
    "          -- use 'orelse' because else is a keyword in target languages\n",
    "          | For(expr target, expr iter, stmt* body, stmt* orelse, string? type_comment)\n",
    "          | AsyncFor(expr target, expr iter, stmt* body, stmt* orelse, string? type_comment)\n",
    "          | While(expr test, stmt* body, stmt* orelse)\n",
    "          | If(expr test, stmt* body, stmt* orelse)\n",
    "          | With(withitem* items, stmt* body, string? type_comment)\n",
    "          | AsyncWith(withitem* items, stmt* body, string? type_comment)\n",
    "\n",
    "          | Match(expr subject, match_case* cases)\n",
    "\n",
    "          | Raise(expr? exc, expr? cause)\n",
    "          | Try(stmt* body, excepthandler* handlers, stmt* orelse, stmt* finalbody)\n",
    "          | Assert(expr test, expr? msg)\n",
    "\n",
    "          | Import(alias* names)\n",
    "          | ImportFrom(identifier? module, alias* names, int? level)\n",
    "\n",
    "          | Global(identifier* names)\n",
    "          | Nonlocal(identifier* names)\n",
    "          | Expr(expr value)\n",
    "          | Pass | Break | Continue\n",
    "\n",
    "          -- col_offset is the byte offset in the utf8 string the parser uses\n",
    "          attributes (int lineno, int col_offset, int? end_lineno, int? end_col_offset)\n",
    "\n",
    "          -- BoolOp() can use left & right?\n",
    "    expr = BoolOp(boolop op, expr* values)\n",
    "         | NamedExpr(expr target, expr value)\n",
    "         | BinOp(expr left, operator op, expr right)\n",
    "         | UnaryOp(unaryop op, expr operand)\n",
    "         | Lambda(arguments args, expr body)\n",
    "         | IfExp(expr test, expr body, expr orelse)\n",
    "         | Dict(expr* keys, expr* values)\n",
    "         | Set(expr* elts)\n",
    "         | ListComp(expr elt, comprehension* generators)\n",
    "         | SetComp(expr elt, comprehension* generators)\n",
    "         | DictComp(expr key, expr value, comprehension* generators)\n",
    "         | GeneratorExp(expr elt, comprehension* generators)\n",
    "         -- the grammar constrains where yield expressions can occur\n",
    "         | Await(expr value)\n",
    "         | Yield(expr? value)\n",
    "         | YieldFrom(expr value)\n",
    "         -- need sequences for compare to distinguish between\n",
    "         -- x < 4 < 3 and (x < 4) < 3\n",
    "         | Compare(expr left, cmpop* ops, expr* comparators)\n",
    "         | Call(expr func, expr* args, keyword* keywords)\n",
    "         | FormattedValue(expr value, int conversion, expr? format_spec)\n",
    "         | JoinedStr(expr* values)\n",
    "         | Constant(constant value, string? kind)\n",
    "\n",
    "         -- the following expression can appear in assignment context\n",
    "         | Attribute(expr value, identifier attr, expr_context ctx)\n",
    "         | Subscript(expr value, expr slice, expr_context ctx)\n",
    "         | Starred(expr value, expr_context ctx)\n",
    "         | Name(identifier id, expr_context ctx)\n",
    "         | List(expr* elts, expr_context ctx)\n",
    "         | Tuple(expr* elts, expr_context ctx)\n",
    "\n",
    "         -- can appear only in Subscript\n",
    "         | Slice(expr? lower, expr? upper, expr? step)\n",
    "\n",
    "          -- col_offset is the byte offset in the utf8 string the parser uses\n",
    "          attributes (int lineno, int col_offset, int? end_lineno, int? end_col_offset)\n",
    "\n",
    "    expr_context = Load | Store | Del\n",
    "\n",
    "    boolop = And | Or\n",
    "\n",
    "    operator = Add | Sub | Mult | MatMult | Div | Mod | Pow | LShift\n",
    "                 | RShift | BitOr | BitXor | BitAnd | FloorDiv\n",
    "\n",
    "    unaryop = Invert | Not | UAdd | USub\n",
    "\n",
    "    cmpop = Eq | NotEq | Lt | LtE | Gt | GtE | Is | IsNot | In | NotIn\n",
    "\n",
    "    comprehension = (expr target, expr iter, expr* ifs, int is_async)\n",
    "\n",
    "    excepthandler = ExceptHandler(expr? type, identifier? name, stmt* body)\n",
    "                    attributes (int lineno, int col_offset, int? end_lineno, int? end_col_offset)\n",
    "\n",
    "    arguments = (arg* posonlyargs, arg* args, arg? vararg, arg* kwonlyargs,\n",
    "                 expr* kw_defaults, arg? kwarg, expr* defaults)\n",
    "\n",
    "    arg = (identifier arg, expr? annotation, string? type_comment)\n",
    "           attributes (int lineno, int col_offset, int? end_lineno, int? end_col_offset)\n",
    "\n",
    "    -- keyword arguments supplied to call (NULL identifier for **kwargs)\n",
    "    keyword = (identifier? arg, expr value)\n",
    "               attributes (int lineno, int col_offset, int? end_lineno, int? end_col_offset)\n",
    "\n",
    "    -- import name with optional 'as' alias.\n",
    "    alias = (identifier name, identifier? asname)\n",
    "             attributes (int lineno, int col_offset, int? end_lineno, int? end_col_offset)\n",
    "\n",
    "    withitem = (expr context_expr, expr? optional_vars)\n",
    "\n",
    "    match_case = (pattern pattern, expr? guard, stmt* body)\n",
    "\n",
    "    pattern = MatchValue(expr value)\n",
    "            | MatchSingleton(constant value)\n",
    "            | MatchSequence(pattern* patterns)\n",
    "            | MatchMapping(expr* keys, pattern* patterns, identifier? rest)\n",
    "            | MatchClass(expr cls, pattern* patterns, identifier* kwd_attrs, pattern* kwd_patterns)\n",
    "\n",
    "            | MatchStar(identifier? name)\n",
    "            -- The optional \"rest\" MatchMapping parameter handles capturing extra mapping keys\n",
    "\n",
    "            | MatchAs(pattern? pattern, identifier? name)\n",
    "            | MatchOr(pattern* patterns)\n",
    "\n",
    "             attributes (int lineno, int col_offset, int end_lineno, int end_col_offset)\n",
    "\n",
    "    type_ignore = TypeIgnore(int lineno, string tag)\n",
    "}\n",
    "```"
   ]
  },
  {
   "cell_type": "code",
   "execution_count": 39,
   "metadata": {},
   "outputs": [],
   "source": [
    "import ast"
   ]
  },
  {
   "cell_type": "code",
   "execution_count": 52,
   "metadata": {},
   "outputs": [
    {
     "data": {
      "text/plain": [
       "\"Module(body=[Assign(targets=[Name(id='num', ctx=Store())], value=BinOp(left=Num(n=1), op=Add(), right=Num(n=2)))])\""
      ]
     },
     "execution_count": 52,
     "metadata": {},
     "output_type": "execute_result"
    }
   ],
   "source": [
    "ast.dump(ast.parse(\"num = 1 + 2\"))"
   ]
  },
  {
   "cell_type": "markdown",
   "metadata": {},
   "source": [
    "## Breaking"
   ]
  },
  {
   "cell_type": "code",
   "execution_count": null,
   "metadata": {},
   "outputs": [],
   "source": []
  },
  {
   "cell_type": "code",
   "execution_count": null,
   "metadata": {},
   "outputs": [],
   "source": []
  },
  {
   "cell_type": "code",
   "execution_count": null,
   "metadata": {},
   "outputs": [],
   "source": []
  },
  {
   "cell_type": "code",
   "execution_count": null,
   "metadata": {},
   "outputs": [],
   "source": []
  },
  {
   "cell_type": "code",
   "execution_count": null,
   "metadata": {},
   "outputs": [],
   "source": []
  },
  {
   "cell_type": "code",
   "execution_count": null,
   "metadata": {},
   "outputs": [],
   "source": []
  }
 ],
 "metadata": {
  "kernelspec": {
   "display_name": "Python 3",
   "language": "python",
   "name": "python3"
  },
  "language_info": {
   "codemirror_mode": {
    "name": "ipython",
    "version": 3
   },
   "file_extension": ".py",
   "mimetype": "text/x-python",
   "name": "python",
   "nbconvert_exporter": "python",
   "pygments_lexer": "ipython3",
   "version": "3.7.3"
  }
 },
 "nbformat": 4,
 "nbformat_minor": 2
}

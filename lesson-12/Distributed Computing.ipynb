{
 "cells": [
  {
   "cell_type": "markdown",
   "metadata": {},
   "source": [
    "# Review \n",
    "\n",
    "1. Parallel Programming： \n",
    "    + Thread \n",
    "    + Process\n",
    "\n",
    "2. Async Programming：\n",
    "\n",
    "3. Distributed Computing\n",
    "    分布式计算考察主要是多台计算机进行计算\n",
    "    + 任务的分发\n",
    "    + 任务结果的收集\n",
    "    + 存储关系\n",
    "    + Hadoop & Spark计算框架\n",
    "    + Hadoop 文件分布式存储 + 计算\n",
    "    + Python机器学习、AI相关的编程\n",
    "    + Ray, Dask 这两个都是封装的比较好的两个分布式框架\n",
    "\n",
    "    "
   ]
  },
  {
   "cell_type": "markdown",
   "metadata": {},
   "source": [
    "+ Ray:  机器学习，尤其是深度学习框架。\n",
    "+ Dask： 数据处理，数据分析的时候分布式框架；\n",
    "+ Map Reduce： \n",
    "    + Co-occurance： 共同出现，给定任意长的文本，对于一个单词来说，windows=5 生成这样的一个table，每个单词之间的co-occurance个数\n",
    "    + MapReduce 的思维方法，能够将问题拆解成MR解决，或者说用MapReduce，加速我们的原本任务。\n",
    "    + 强化学习问题，双方策略pk； \n",
    "        + 2, 3, 4, 5,6 7, 8,9, A -> 1 | 11, \n",
    "        + J, Q, K = 10\n",
    "        + 要牌，不要\n",
    "        + Player-A：4， K ： 14 \n",
    "        + Player-B：9， K ： 19 \n",
    "        + Agent -> 我现在已有的牌，和对手的牌，给出要牌|不要选择\n",
    "    + 不同长度的木头，单价也不一样。给定任意长度的木头，我们要能够计算出最优的分割方案。\n",
    "        + 每次切割，我们需要一定的成本"
   ]
  },
  {
   "cell_type": "markdown",
   "metadata": {},
   "source": [
    "## Ray框架的介绍"
   ]
  },
  {
   "cell_type": "code",
   "execution_count": 1,
   "metadata": {},
   "outputs": [
    {
     "name": "stdout",
     "output_type": "stream",
     "text": [
      "Looking in indexes: https://pypi.douban.com/simple\n",
      "Collecting ray\n",
      "\u001b[?25l  Downloading https://pypi.doubanio.com/packages/26/c2/2ad5a44f2b99b1721254bfe28e3aa52c1b237be5e20604d842e56b6cd4f8/ray-1.13.0-cp37-cp37m-macosx_10_15_intel.whl (57.1MB)\n",
      "\u001b[K    100% |████████████████████████████████| 57.1MB 399kB/s ta 0:00:0111████████▉ | 55.0MB 3.1MB/s eta 0:00:01\n",
      "\u001b[?25hCollecting msgpack<2.0.0,>=1.0.0 (from ray)\n",
      "\u001b[?25l  Downloading https://pypi.doubanio.com/packages/a6/65/5b283e66b89d3b41f1b30fd42da70a609b5432b764f5cd6fed23d3b4699b/msgpack-1.0.4-cp37-cp37m-macosx_10_9_x86_64.whl (72kB)\n",
      "\u001b[K    100% |████████████████████████████████| 81kB 141kB/s ta 0:00:01\n",
      "\u001b[?25hCollecting aiosignal (from ray)\n",
      "  Downloading https://pypi.doubanio.com/packages/3b/87/fe94898f2d44a93a35d5aa74671ed28094d80753a1113d68b799fab6dc22/aiosignal-1.2.0-py3-none-any.whl\n",
      "Requirement already satisfied: filelock in /Users/gaominquan/anaconda3/lib/python3.7/site-packages (from ray) (3.0.10)\n",
      "Requirement already satisfied: requests in /Users/gaominquan/anaconda3/lib/python3.7/site-packages (from ray) (2.21.0)\n",
      "Requirement already satisfied: attrs in /Users/gaominquan/anaconda3/lib/python3.7/site-packages (from ray) (19.1.0)\n",
      "Collecting grpcio<=1.43.0,>=1.28.1 (from ray)\n",
      "\u001b[?25l  Downloading https://pypi.doubanio.com/packages/a2/10/ca297b8d07f91ecb23ec74fcaba9afb68e34d1dc3758a04d31e2944a33b4/grpcio-1.43.0-cp37-cp37m-macosx_10_10_x86_64.whl (4.1MB)\n",
      "\u001b[K    100% |████████████████████████████████| 4.2MB 17.6MB/s eta 0:00:01\n",
      "\u001b[?25hCollecting protobuf<4.0.0,>=3.15.3 (from ray)\n",
      "\u001b[?25l  Downloading https://pypi.doubanio.com/packages/92/0e/b8a60441178c8725fb3afa648e80c312a77feab31e7831d69c672b3c18cc/protobuf-3.20.1-cp37-cp37m-macosx_10_9_x86_64.whl (961kB)\n",
      "\u001b[K    100% |████████████████████████████████| 962kB 3.8MB/s ta 0:00:011\n",
      "\u001b[?25hRequirement already satisfied: click<=8.0.4,>=7.0 in /Users/gaominquan/anaconda3/lib/python3.7/site-packages (from ray) (8.0.1)\n",
      "Requirement already satisfied: numpy>=1.16; python_version < \"3.9\" in /Users/gaominquan/anaconda3/lib/python3.7/site-packages (from ray) (1.18.0)\n",
      "Requirement already satisfied: virtualenv in /Users/gaominquan/anaconda3/lib/python3.7/site-packages (from ray) (20.0.21)\n",
      "Requirement already satisfied: jsonschema in /Users/gaominquan/anaconda3/lib/python3.7/site-packages (from ray) (3.0.1)\n",
      "Collecting frozenlist (from ray)\n",
      "  Downloading https://pypi.doubanio.com/packages/7c/da/3b85d228878b9204a62ab259871790e7a38abf6c835cab25322831436200/frozenlist-1.3.0-cp37-cp37m-macosx_10_9_x86_64.whl\n",
      "Requirement already satisfied: pyyaml in /Users/gaominquan/anaconda3/lib/python3.7/site-packages (from ray) (6.0)\n",
      "Requirement already satisfied: urllib3<1.25,>=1.21.1 in /Users/gaominquan/anaconda3/lib/python3.7/site-packages (from requests->ray) (1.24.3)\n",
      "Requirement already satisfied: chardet<3.1.0,>=3.0.2 in /Users/gaominquan/anaconda3/lib/python3.7/site-packages (from requests->ray) (3.0.4)\n",
      "Requirement already satisfied: certifi>=2017.4.17 in /Users/gaominquan/anaconda3/lib/python3.7/site-packages (from requests->ray) (2021.5.30)\n",
      "Requirement already satisfied: idna<2.9,>=2.5 in /Users/gaominquan/anaconda3/lib/python3.7/site-packages (from requests->ray) (2.8)\n",
      "Requirement already satisfied: six>=1.5.2 in /Users/gaominquan/anaconda3/lib/python3.7/site-packages (from grpcio<=1.43.0,>=1.28.1->ray) (1.16.0)\n",
      "Requirement already satisfied: importlib-metadata; python_version < \"3.8\" in /Users/gaominquan/anaconda3/lib/python3.7/site-packages (from click<=8.0.4,>=7.0->ray) (4.8.2)\n",
      "Requirement already satisfied: appdirs<2,>=1.4.3 in /Users/gaominquan/anaconda3/lib/python3.7/site-packages (from virtualenv->ray) (1.4.4)\n",
      "Requirement already satisfied: distlib<1,>=0.3.0 in /Users/gaominquan/anaconda3/lib/python3.7/site-packages (from virtualenv->ray) (0.3.0)\n",
      "Requirement already satisfied: pyrsistent>=0.14.0 in /Users/gaominquan/anaconda3/lib/python3.7/site-packages (from jsonschema->ray) (0.14.11)\n",
      "Requirement already satisfied: setuptools in /Users/gaominquan/.local/lib/python3.7/site-packages (from jsonschema->ray) (51.1.0.post20201221)\n",
      "Requirement already satisfied: zipp>=0.5 in /Users/gaominquan/anaconda3/lib/python3.7/site-packages (from importlib-metadata; python_version < \"3.8\"->click<=8.0.4,>=7.0->ray) (3.5.0)\n",
      "Requirement already satisfied: typing-extensions>=3.6.4; python_version < \"3.8\" in /Users/gaominquan/anaconda3/lib/python3.7/site-packages (from importlib-metadata; python_version < \"3.8\"->click<=8.0.4,>=7.0->ray) (3.10.0.0)\n",
      "Installing collected packages: msgpack, frozenlist, aiosignal, grpcio, protobuf, ray\n",
      "  Found existing installation: msgpack 0.6.1\n",
      "    Uninstalling msgpack-0.6.1:\n",
      "      Successfully uninstalled msgpack-0.6.1\n",
      "  Found existing installation: grpcio 1.20.1\n",
      "    Uninstalling grpcio-1.20.1:\n",
      "      Successfully uninstalled grpcio-1.20.1\n",
      "  Found existing installation: protobuf 3.7.1\n",
      "    Uninstalling protobuf-3.7.1:\n",
      "      Successfully uninstalled protobuf-3.7.1\n",
      "Successfully installed aiosignal-1.2.0 frozenlist-1.3.0 grpcio-1.43.0 msgpack-1.0.4 protobuf-3.20.1 ray-1.13.0\n"
     ]
    }
   ],
   "source": [
    "!pip install ray"
   ]
  },
  {
   "cell_type": "code",
   "execution_count": 2,
   "metadata": {},
   "outputs": [],
   "source": [
    "import ray"
   ]
  },
  {
   "cell_type": "code",
   "execution_count": 3,
   "metadata": {},
   "outputs": [],
   "source": [
    "import time"
   ]
  },
  {
   "cell_type": "markdown",
   "metadata": {},
   "source": [
    "## A very simple example "
   ]
  },
  {
   "cell_type": "code",
   "execution_count": 4,
   "metadata": {},
   "outputs": [
    {
     "data": {
      "text/plain": [
       "RayContext(dashboard_url='', python_version='3.7.3', ray_version='1.13.0', ray_commit='e4ce38d001dbbe09cd21c497fedd03d692b2be3e', address_info={'node_ip_address': '127.0.0.1', 'raylet_ip_address': '127.0.0.1', 'redis_address': None, 'object_store_address': '/tmp/ray/session_2022-07-17_15-17-47_741046_83045/sockets/plasma_store', 'raylet_socket_name': '/tmp/ray/session_2022-07-17_15-17-47_741046_83045/sockets/raylet', 'webui_url': '', 'session_dir': '/tmp/ray/session_2022-07-17_15-17-47_741046_83045', 'metrics_export_port': 55645, 'gcs_address': '127.0.0.1:55221', 'address': '127.0.0.1:55221', 'node_id': '0d6d6d2bef3a3b5ab1df7f41c14b43483e6f848d5050288f6fdf2339'})"
      ]
     },
     "execution_count": 4,
     "metadata": {},
     "output_type": "execute_result"
    }
   ],
   "source": [
    "ray.init()"
   ]
  },
  {
   "cell_type": "code",
   "execution_count": 10,
   "metadata": {},
   "outputs": [
    {
     "name": "stdout",
     "output_type": "stream",
     "text": [
      "Help on function remote in module ray.worker:\n",
      "\n",
      "remote(*args, **kwargs)\n",
      "    Defines a remote function or an actor class.\n",
      "    \n",
      "    This can be used with no arguments to define a remote function or actor as\n",
      "    follows:\n",
      "    \n",
      "    .. code-block:: python\n",
      "    \n",
      "        @ray.remote\n",
      "        def f():\n",
      "            return 1\n",
      "    \n",
      "        @ray.remote\n",
      "        class Foo:\n",
      "            def method(self):\n",
      "                return 1\n",
      "    \n",
      "    It can also be used with specific keyword arguments as follows:\n",
      "    \n",
      "    .. code-block:: python\n",
      "    \n",
      "        @ray.remote(num_gpus=1, max_calls=1, num_returns=2)\n",
      "        def f():\n",
      "            return 1, 2\n",
      "    \n",
      "        @ray.remote(num_cpus=2, resources={\"CustomResource\": 1})\n",
      "        class Foo:\n",
      "            def method(self):\n",
      "                return 1\n",
      "    \n",
      "    Remote task and actor objects returned by @ray.remote can also be\n",
      "    dynamically modified with the same arguments as above using\n",
      "    ``.options()`` as follows:\n",
      "    \n",
      "    .. code-block:: python\n",
      "    \n",
      "        @ray.remote(num_gpus=1, max_calls=1, num_returns=2)\n",
      "        def f():\n",
      "            return 1, 2\n",
      "        g = f.options(num_gpus=2)\n",
      "    \n",
      "        @ray.remote(num_cpus=2, resources={\"CustomResource\": 1})\n",
      "        class Foo:\n",
      "            def method(self):\n",
      "                return 1\n",
      "        Bar = Foo.options(num_cpus=1, resources=None)\n",
      "    \n",
      "    Running remote actors will be terminated when the actor handle to them\n",
      "    in Python is deleted, which will cause them to complete any outstanding\n",
      "    work and then shut down. If you want to kill them immediately, you can\n",
      "    also call ``ray.kill(actor)``.\n",
      "    \n",
      "    Args:\n",
      "        num_returns (int): This is only for *remote functions*. It specifies\n",
      "            the number of object refs returned by\n",
      "            the remote function invocation.\n",
      "        num_cpus (float): The quantity of CPU cores to reserve\n",
      "            for this task or for the lifetime of the actor.\n",
      "        num_gpus (int): The quantity of GPUs to reserve\n",
      "            for this task or for the lifetime of the actor.\n",
      "        resources (Dict[str, float]): The quantity of various custom resources\n",
      "            to reserve for this task or for the lifetime of the actor.\n",
      "            This is a dictionary mapping strings (resource names) to floats.\n",
      "        accelerator_type: If specified, requires that the task or actor run\n",
      "            on a node with the specified type of accelerator.\n",
      "            See `ray.accelerators` for accelerator types.\n",
      "        memory (float): The heap memory request for this task/actor.\n",
      "        object_store_memory (int): The object store memory request for this task/actor.\n",
      "        max_calls (int): Only for *remote functions*. This specifies the\n",
      "            maximum number of times that a given worker can execute\n",
      "            the given remote function before it must exit\n",
      "            (this can be used to address memory leaks in third-party\n",
      "            libraries or to reclaim resources that cannot easily be\n",
      "            released, e.g., GPU memory that was acquired by TensorFlow).\n",
      "            By default this is infinite.\n",
      "        max_restarts (int): Only for *actors*. This specifies the maximum\n",
      "            number of times that the actor should be restarted when it dies\n",
      "            unexpectedly. The minimum valid value is 0 (default),\n",
      "            which indicates that the actor doesn't need to be restarted.\n",
      "            A value of -1 indicates that an actor should be restarted\n",
      "            indefinitely.\n",
      "        max_task_retries (int): Only for *actors*. How many times to\n",
      "            retry an actor task if the task fails due to a system error,\n",
      "            e.g., the actor has died. If set to -1, the system will\n",
      "            retry the failed task until the task succeeds, or the actor\n",
      "            has reached its max_restarts limit. If set to `n > 0`, the\n",
      "            system will retry the failed task up to n times, after which the\n",
      "            task will throw a `RayActorError` exception upon :obj:`ray.get`.\n",
      "            Note that Python exceptions are not considered system errors\n",
      "            and will not trigger retries.\n",
      "        max_retries (int): Only for *remote functions*. This specifies\n",
      "            the maximum number of times that the remote function\n",
      "            should be rerun when the worker process executing it\n",
      "            crashes unexpectedly. The minimum valid value is 0,\n",
      "            the default is 4 (default), and a value of -1 indicates\n",
      "            infinite retries.\n",
      "        runtime_env (Dict[str, Any]): Specifies the runtime environment for\n",
      "            this actor or task and its children. See\n",
      "            :ref:`runtime-environments` for detailed documentation. This API is\n",
      "            in beta and may change before becoming stable.\n",
      "        retry_exceptions (bool): Only for *remote functions*. This specifies\n",
      "            whether application-level errors should be retried\n",
      "            up to max_retries times.\n",
      "        scheduling_strategy (SchedulingStrategyT): Strategy about how to\n",
      "            schedule a remote function or actor. Possible values are\n",
      "            None: ray will figure out the scheduling strategy to use, it\n",
      "            will either be the PlacementGroupSchedulingStrategy using parent's\n",
      "            placement group if parent has one and has\n",
      "            placement_group_capture_child_tasks set to true,\n",
      "            or \"DEFAULT\";\n",
      "            \"DEFAULT\": default hybrid scheduling;\n",
      "            \"SPREAD\": best effort spread scheduling;\n",
      "            `PlacementGroupSchedulingStrategy`:\n",
      "            placement group based scheduling.\n",
      "        _metadata: Extended options for Ray libraries. For example,\n",
      "            _metadata={\"workflows.io/options\": <workflow options>} for Ray workflows.\n",
      "    \n",
      "    PublicAPI: This API is stable across Ray releases.\n",
      "\n"
     ]
    }
   ],
   "source": [
    "help(ray.remote)"
   ]
  },
  {
   "cell_type": "code",
   "execution_count": 17,
   "metadata": {},
   "outputs": [],
   "source": [
    "@ray.remote\n",
    "def slow_func(x):\n",
    "    print(f'get {x}')\n",
    "    time.sleep(0.1)\n",
    "    return x ** 2"
   ]
  },
  {
   "cell_type": "code",
   "execution_count": 18,
   "metadata": {},
   "outputs": [
    {
     "name": "stdout",
     "output_type": "stream",
     "text": [
      "used time: 0.0054628849029541016\n",
      "\u001b[2m\u001b[36m(slow_func pid=84387)\u001b[0m get 6\n",
      "\u001b[2m\u001b[36m(slow_func pid=84392)\u001b[0m get 3\n",
      "\u001b[2m\u001b[36m(slow_func pid=84385)\u001b[0m get 7\n",
      "\u001b[2m\u001b[36m(slow_func pid=84386)\u001b[0m get 5\n",
      "\u001b[2m\u001b[36m(slow_func pid=84389)\u001b[0m get 4\n",
      "\u001b[2m\u001b[36m(slow_func pid=84391)\u001b[0m get 0\n",
      "\u001b[2m\u001b[36m(slow_func pid=84382)\u001b[0m get 1\n",
      "\u001b[2m\u001b[36m(slow_func pid=84390)\u001b[0m get 2\n"
     ]
    }
   ],
   "source": [
    "results = []\n",
    "start = time.time()\n",
    "for i in range(8):\n",
    "    results.append(slow_func.remote(i))\n",
    "    \n",
    "print('used time: {}'.format(time.time() - start))\n",
    "    \n",
    "#ray.get(results)"
   ]
  },
  {
   "cell_type": "code",
   "execution_count": 25,
   "metadata": {},
   "outputs": [
    {
     "name": "stdout",
     "output_type": "stream",
     "text": [
      "Help on function remote in module ray.worker:\n",
      "\n",
      "remote(*args, **kwargs)\n",
      "    Defines a remote function or an actor class.\n",
      "    \n",
      "    This can be used with no arguments to define a remote function or actor as\n",
      "    follows:\n",
      "    \n",
      "    .. code-block:: python\n",
      "    \n",
      "        @ray.remote\n",
      "        def f():\n",
      "            return 1\n",
      "    \n",
      "        @ray.remote\n",
      "        class Foo:\n",
      "            def method(self):\n",
      "                return 1\n",
      "    \n",
      "    It can also be used with specific keyword arguments as follows:\n",
      "    \n",
      "    .. code-block:: python\n",
      "    \n",
      "        @ray.remote(num_gpus=1, max_calls=1, num_returns=2)\n",
      "        def f():\n",
      "            return 1, 2\n",
      "    \n",
      "        @ray.remote(num_cpus=2, resources={\"CustomResource\": 1})\n",
      "        class Foo:\n",
      "            def method(self):\n",
      "                return 1\n",
      "    \n",
      "    Remote task and actor objects returned by @ray.remote can also be\n",
      "    dynamically modified with the same arguments as above using\n",
      "    ``.options()`` as follows:\n",
      "    \n",
      "    .. code-block:: python\n",
      "    \n",
      "        @ray.remote(num_gpus=1, max_calls=1, num_returns=2)\n",
      "        def f():\n",
      "            return 1, 2\n",
      "        g = f.options(num_gpus=2)\n",
      "    \n",
      "        @ray.remote(num_cpus=2, resources={\"CustomResource\": 1})\n",
      "        class Foo:\n",
      "            def method(self):\n",
      "                return 1\n",
      "        Bar = Foo.options(num_cpus=1, resources=None)\n",
      "    \n",
      "    Running remote actors will be terminated when the actor handle to them\n",
      "    in Python is deleted, which will cause them to complete any outstanding\n",
      "    work and then shut down. If you want to kill them immediately, you can\n",
      "    also call ``ray.kill(actor)``.\n",
      "    \n",
      "    Args:\n",
      "        num_returns (int): This is only for *remote functions*. It specifies\n",
      "            the number of object refs returned by\n",
      "            the remote function invocation.\n",
      "        num_cpus (float): The quantity of CPU cores to reserve\n",
      "            for this task or for the lifetime of the actor.\n",
      "        num_gpus (int): The quantity of GPUs to reserve\n",
      "            for this task or for the lifetime of the actor.\n",
      "        resources (Dict[str, float]): The quantity of various custom resources\n",
      "            to reserve for this task or for the lifetime of the actor.\n",
      "            This is a dictionary mapping strings (resource names) to floats.\n",
      "        accelerator_type: If specified, requires that the task or actor run\n",
      "            on a node with the specified type of accelerator.\n",
      "            See `ray.accelerators` for accelerator types.\n",
      "        memory (float): The heap memory request for this task/actor.\n",
      "        object_store_memory (int): The object store memory request for this task/actor.\n",
      "        max_calls (int): Only for *remote functions*. This specifies the\n",
      "            maximum number of times that a given worker can execute\n",
      "            the given remote function before it must exit\n",
      "            (this can be used to address memory leaks in third-party\n",
      "            libraries or to reclaim resources that cannot easily be\n",
      "            released, e.g., GPU memory that was acquired by TensorFlow).\n",
      "            By default this is infinite.\n",
      "        max_restarts (int): Only for *actors*. This specifies the maximum\n",
      "            number of times that the actor should be restarted when it dies\n",
      "            unexpectedly. The minimum valid value is 0 (default),\n",
      "            which indicates that the actor doesn't need to be restarted.\n",
      "            A value of -1 indicates that an actor should be restarted\n",
      "            indefinitely.\n",
      "        max_task_retries (int): Only for *actors*. How many times to\n",
      "            retry an actor task if the task fails due to a system error,\n",
      "            e.g., the actor has died. If set to -1, the system will\n",
      "            retry the failed task until the task succeeds, or the actor\n",
      "            has reached its max_restarts limit. If set to `n > 0`, the\n",
      "            system will retry the failed task up to n times, after which the\n",
      "            task will throw a `RayActorError` exception upon :obj:`ray.get`.\n",
      "            Note that Python exceptions are not considered system errors\n",
      "            and will not trigger retries.\n",
      "        max_retries (int): Only for *remote functions*. This specifies\n",
      "            the maximum number of times that the remote function\n",
      "            should be rerun when the worker process executing it\n",
      "            crashes unexpectedly. The minimum valid value is 0,\n",
      "            the default is 4 (default), and a value of -1 indicates\n",
      "            infinite retries.\n",
      "        runtime_env (Dict[str, Any]): Specifies the runtime environment for\n",
      "            this actor or task and its children. See\n",
      "            :ref:`runtime-environments` for detailed documentation. This API is\n",
      "            in beta and may change before becoming stable.\n",
      "        retry_exceptions (bool): Only for *remote functions*. This specifies\n",
      "            whether application-level errors should be retried\n",
      "            up to max_retries times.\n",
      "        scheduling_strategy (SchedulingStrategyT): Strategy about how to\n",
      "            schedule a remote function or actor. Possible values are\n",
      "            None: ray will figure out the scheduling strategy to use, it\n",
      "            will either be the PlacementGroupSchedulingStrategy using parent's\n",
      "            placement group if parent has one and has\n",
      "            placement_group_capture_child_tasks set to true,\n",
      "            or \"DEFAULT\";\n",
      "            \"DEFAULT\": default hybrid scheduling;\n",
      "            \"SPREAD\": best effort spread scheduling;\n",
      "            `PlacementGroupSchedulingStrategy`:\n",
      "            placement group based scheduling.\n",
      "        _metadata: Extended options for Ray libraries. For example,\n",
      "            _metadata={\"workflows.io/options\": <workflow options>} for Ray workflows.\n",
      "    \n",
      "    PublicAPI: This API is stable across Ray releases.\n",
      "\n"
     ]
    }
   ],
   "source": [
    "help(ray.remote)"
   ]
  },
  {
   "cell_type": "code",
   "execution_count": 20,
   "metadata": {},
   "outputs": [
    {
     "data": {
      "text/plain": [
       "[0, 1, 4, 9, 16, 25, 36, 49]"
      ]
     },
     "execution_count": 20,
     "metadata": {},
     "output_type": "execute_result"
    }
   ],
   "source": [
    "ray.get(results)"
   ]
  },
  {
   "cell_type": "markdown",
   "metadata": {},
   "source": [
    "## Computing Graph dependancy"
   ]
  },
  {
   "cell_type": "code",
   "execution_count": 21,
   "metadata": {},
   "outputs": [],
   "source": [
    "import numpy as np\n",
    "\n",
    "@ray.remote\n",
    "def create_matrix(size):\n",
    "    return np.random.normal(size=size)\n",
    "\n",
    "@ray.remote\n",
    "def multiply_matrices(x, y):\n",
    "    return np.dot(x, y)\n",
    "\n",
    "x_id = create_matrix.remote([1000, 1000])\n",
    "y_id = create_matrix.remote([1000, 1000])\n",
    "z_id = multiply_matrices.remote(x_id, y_id)\n",
    "\n",
    "# Get the results.\n",
    "z = ray.get(z_id)"
   ]
  },
  {
   "cell_type": "code",
   "execution_count": 22,
   "metadata": {},
   "outputs": [
    {
     "data": {
      "text/plain": [
       "array([[ -3.51428128,  34.64226096,  -5.87251538, ...,  30.70381484,\n",
       "         -8.2702451 ,  16.21409565],\n",
       "       [  5.25147085,  27.7021359 , -12.14369702, ...,  34.81759662,\n",
       "         38.13102252,  16.39208059],\n",
       "       [ -7.86619008,  -0.70740712,  -0.87713585, ...,  13.36762493,\n",
       "         26.9289745 ,   3.22662272],\n",
       "       ...,\n",
       "       [-11.29233165,  23.08875569,   9.87686085, ..., -23.74341239,\n",
       "         14.90802303,  27.43426307],\n",
       "       [-17.54001632,  40.06037422,  -3.5513981 , ...,  13.33781299,\n",
       "        -10.41539373,  40.41308771],\n",
       "       [  8.6272977 , -30.93738528,  33.45181306, ..., -36.11923274,\n",
       "        -57.57986602,  20.25787951]])"
      ]
     },
     "execution_count": 22,
     "metadata": {},
     "output_type": "execute_result"
    }
   ],
   "source": [
    "z"
   ]
  },
  {
   "cell_type": "markdown",
   "metadata": {},
   "source": [
    "## Computing Dependancy -> Efficiency "
   ]
  },
  {
   "cell_type": "code",
   "execution_count": 31,
   "metadata": {},
   "outputs": [
    {
     "name": "stdout",
     "output_type": "stream",
     "text": [
      "consumed time: 7.097330093383789\n",
      "consumed time: 3.039565086364746\n"
     ]
    }
   ],
   "source": [
    "# Aggregate the values slowly. This approach takes O(n) where n is the\n",
    "# number of values being aggregated. In this case, 7 seconds.\n",
    "s = time.time()\n",
    "id1 = add.remote(1, 2)\n",
    "id2 = add.remote(id1, 3)\n",
    "id3 = add.remote(id2, 4)\n",
    "id4 = add.remote(id3, 5)\n",
    "id5 = add.remote(id4, 6)\n",
    "id6 = add.remote(id5, 7)\n",
    "id7 = add.remote(id6, 8)\n",
    "result = ray.get(id7)\n",
    "print(f'consumed time: {time.time() - s}')\n",
    "# Aggregate the values in a tree-structured pattern. This approach\n",
    "# takes O(log(n)). In this case, 3 seconds.\n",
    "\n",
    "s = time.time()\n",
    "id1 = add.remote(1, 2)\n",
    "id2 = add.remote(3, 4)\n",
    "id3 = add.remote(5, 6)\n",
    "id4 = add.remote(7, 8)\n",
    "id5 = add.remote(id1, id2)\n",
    "id6 = add.remote(id3, id4)\n",
    "id7 = add.remote(id5, id6)\n",
    "result = ray.get(id7)\n",
    "print(f'consumed time: {time.time() - s}')"
   ]
  },
  {
   "cell_type": "code",
   "execution_count": 30,
   "metadata": {},
   "outputs": [],
   "source": [
    "@ray.remote\n",
    "def add(x, y): \n",
    "    time.sleep(1)\n",
    "    return x + y"
   ]
  },
  {
   "cell_type": "code",
   "execution_count": 77,
   "metadata": {},
   "outputs": [
    {
     "ename": "TypeError",
     "evalue": "Remote functions cannot be called directly. Instead of running '__main__.add()', try '__main__.add.remote()'.",
     "output_type": "error",
     "traceback": [
      "\u001b[0;31m---------------------------------------------------------------------------\u001b[0m",
      "\u001b[0;31mTypeError\u001b[0m                                 Traceback (most recent call last)",
      "\u001b[0;32m<ipython-input-77-d8e91f142e11>\u001b[0m in \u001b[0;36m<module>\u001b[0;34m\u001b[0m\n\u001b[0;32m----> 1\u001b[0;31m \u001b[0madd\u001b[0m\u001b[0;34m(\u001b[0m\u001b[0;36m1\u001b[0m\u001b[0;34m,\u001b[0m \u001b[0;36m2\u001b[0m\u001b[0;34m)\u001b[0m\u001b[0;34m\u001b[0m\u001b[0;34m\u001b[0m\u001b[0m\n\u001b[0m",
      "\u001b[0;32m~/anaconda3/lib/python3.7/site-packages/ray/remote_function.py\u001b[0m in \u001b[0;36m__call__\u001b[0;34m(self, *args, **kwargs)\u001b[0m\n\u001b[1;32m    115\u001b[0m     \u001b[0;32mdef\u001b[0m \u001b[0m__call__\u001b[0m\u001b[0;34m(\u001b[0m\u001b[0mself\u001b[0m\u001b[0;34m,\u001b[0m \u001b[0;34m*\u001b[0m\u001b[0margs\u001b[0m\u001b[0;34m,\u001b[0m \u001b[0;34m**\u001b[0m\u001b[0mkwargs\u001b[0m\u001b[0;34m)\u001b[0m\u001b[0;34m:\u001b[0m\u001b[0;34m\u001b[0m\u001b[0;34m\u001b[0m\u001b[0m\n\u001b[1;32m    116\u001b[0m         raise TypeError(\n\u001b[0;32m--> 117\u001b[0;31m             \u001b[0;34m\"Remote functions cannot be called directly. Instead \"\u001b[0m\u001b[0;34m\u001b[0m\u001b[0;34m\u001b[0m\u001b[0m\n\u001b[0m\u001b[1;32m    118\u001b[0m             \u001b[0;34mf\"of running '{self._function_name}()', \"\u001b[0m\u001b[0;34m\u001b[0m\u001b[0;34m\u001b[0m\u001b[0m\n\u001b[1;32m    119\u001b[0m             \u001b[0;34mf\"try '{self._function_name}.remote()'.\"\u001b[0m\u001b[0;34m\u001b[0m\u001b[0;34m\u001b[0m\u001b[0m\n",
      "\u001b[0;31mTypeError\u001b[0m: Remote functions cannot be called directly. Instead of running '__main__.add()', try '__main__.add.remote()'."
     ]
    }
   ],
   "source": [
    "add(1, 2)"
   ]
  },
  {
   "cell_type": "code",
   "execution_count": 29,
   "metadata": {},
   "outputs": [],
   "source": [
    "# Slow approach.\n",
    "values = [1, 2, 3, 4, 5, 6, 7, 8, 9, 10, 11, 12]\n",
    "while len(values) > 1:\n",
    "    values = [add.remote(values[0], values[1])] + values[2:]\n",
    "result = ray.get(values[0])\n",
    "\n",
    "\n",
    "# Fast approach.\n",
    "values = [1, 2, 3, 4, 5, 6, 7, 8]\n",
    "while len(values) > 1:\n",
    "    values = values[2:] + [add.remote(values[0], values[1])]\n",
    "result = ray.get(values[0])"
   ]
  },
  {
   "cell_type": "markdown",
   "metadata": {},
   "source": [
    "## Actor"
   ]
  },
  {
   "cell_type": "code",
   "execution_count": 75,
   "metadata": {},
   "outputs": [
    {
     "name": "stdout",
     "output_type": "stream",
     "text": [
      "\u001b[2m\u001b[36m(Player pid=84982)\u001b[0m testing: 91 \n",
      "\u001b[2m\u001b[36m(Player pid=84981)\u001b[0m testing: 91 \n",
      "\u001b[2m\u001b[36m(Player pid=84980)\u001b[0m testing: 64 \n",
      "\u001b[2m\u001b[36m(Player pid=84980)\u001b[0m testing: 65 \n",
      "\u001b[2m\u001b[36m(Player pid=84982)\u001b[0m testing: 92 \n",
      "\u001b[2m\u001b[36m(Player pid=84981)\u001b[0m testing: 92 \n",
      "\u001b[2m\u001b[36m(Player pid=84982)\u001b[0m testing: 93 \n",
      "\u001b[2m\u001b[36m(Player pid=84981)\u001b[0m testing: 93 \n",
      "\u001b[2m\u001b[36m(Player pid=84980)\u001b[0m testing: 66 \n",
      "\u001b[2m\u001b[36m(Player pid=84980)\u001b[0m testing: 67 \n",
      "\u001b[2m\u001b[36m(Player pid=84982)\u001b[0m testing: 94 \n",
      "\u001b[2m\u001b[36m(Player pid=84981)\u001b[0m testing: 94 \n",
      "\u001b[2m\u001b[36m(Player pid=84982)\u001b[0m testing: 95 \n",
      "\u001b[2m\u001b[36m(Player pid=84981)\u001b[0m testing: 95 \n",
      "\u001b[2m\u001b[36m(Player pid=84980)\u001b[0m testing: 68 \n",
      "\u001b[2m\u001b[36m(Player pid=84980)\u001b[0m testing: 69 \n",
      "\u001b[2m\u001b[36m(Player pid=84982)\u001b[0m testing: 96 \n",
      "\u001b[2m\u001b[36m(Player pid=84981)\u001b[0m testing: 96 \n",
      "\u001b[2m\u001b[36m(Player pid=84980)\u001b[0m testing: 70 \n",
      "\u001b[2m\u001b[36m(Player pid=84982)\u001b[0m testing: 97 \n",
      "\u001b[2m\u001b[36m(Player pid=84981)\u001b[0m testing: 97 \n",
      "\u001b[2m\u001b[36m(Player pid=84980)\u001b[0m testing: 71 \n",
      "\u001b[2m\u001b[36m(Player pid=84982)\u001b[0m testing: 98 \n",
      "\u001b[2m\u001b[36m(Player pid=84981)\u001b[0m testing: 98 \n",
      "\u001b[2m\u001b[36m(Player pid=84980)\u001b[0m testing: 72 \n",
      "\u001b[2m\u001b[36m(Player pid=84982)\u001b[0m testing: 99 \n",
      "\u001b[2m\u001b[36m(Player pid=84981)\u001b[0m testing: 99 \n",
      "\u001b[2m\u001b[36m(Player pid=84980)\u001b[0m testing: 73 \n",
      "\u001b[2m\u001b[36m(Player pid=84980)\u001b[0m testing: 74 \n",
      "\u001b[2m\u001b[36m(Player pid=84980)\u001b[0m testing: 75 \n",
      "\u001b[2m\u001b[36m(Player pid=84980)\u001b[0m testing: 76 \n",
      "\u001b[2m\u001b[36m(Player pid=84980)\u001b[0m testing: 77 \n",
      "\u001b[2m\u001b[36m(Player pid=84980)\u001b[0m testing: 78 \n",
      "\u001b[2m\u001b[36m(Player pid=84980)\u001b[0m testing: 79 \n",
      "\u001b[2m\u001b[36m(Player pid=84980)\u001b[0m testing: 80 \n",
      "\u001b[2m\u001b[36m(Player pid=84980)\u001b[0m testing: 81 \n",
      "\u001b[2m\u001b[36m(Player pid=84980)\u001b[0m testing: 82 \n",
      "\u001b[2m\u001b[36m(Player pid=84980)\u001b[0m testing: 83 \n",
      "\u001b[2m\u001b[36m(Player pid=84980)\u001b[0m testing: 84 \n",
      "\u001b[2m\u001b[36m(Player pid=84980)\u001b[0m testing: 85 \n",
      "\u001b[2m\u001b[36m(Player pid=84980)\u001b[0m testing: 86 \n",
      "\u001b[2m\u001b[36m(Player pid=84980)\u001b[0m testing: 87 \n",
      "\u001b[2m\u001b[36m(Player pid=84980)\u001b[0m testing: 88 \n",
      "\u001b[2m\u001b[36m(Player pid=84980)\u001b[0m testing: 89 \n",
      "\u001b[2m\u001b[36m(Player pid=84980)\u001b[0m testing: 90 \n",
      "\u001b[2m\u001b[36m(Player pid=84980)\u001b[0m testing: 91 \n",
      "\u001b[2m\u001b[36m(Player pid=84980)\u001b[0m testing: 92 \n",
      "\u001b[2m\u001b[36m(Player pid=84980)\u001b[0m testing: 93 \n",
      "\u001b[2m\u001b[36m(Player pid=84980)\u001b[0m testing: 94 \n",
      "\u001b[2m\u001b[36m(Player pid=84980)\u001b[0m testing: 95 \n",
      "\u001b[2m\u001b[36m(Player pid=84980)\u001b[0m testing: 96 \n",
      "\u001b[2m\u001b[36m(Player pid=84980)\u001b[0m testing: 97 \n",
      "\u001b[2m\u001b[36m(Player pid=84980)\u001b[0m testing: 98 \n",
      "\u001b[2m\u001b[36m(Player pid=84980)\u001b[0m testing: 99 \n"
     ]
    }
   ],
   "source": [
    "import random"
   ]
  },
  {
   "cell_type": "code",
   "execution_count": 71,
   "metadata": {},
   "outputs": [
    {
     "name": "stdout",
     "output_type": "stream",
     "text": [
      "\u001b[2m\u001b[36m(Player pid=84980)\u001b[0m testing: 21 \n",
      "\u001b[2m\u001b[36m(Player pid=84982)\u001b[0m testing: 48 \n",
      "\u001b[2m\u001b[36m(Player pid=84981)\u001b[0m testing: 48 \n",
      "\u001b[2m\u001b[36m(Player pid=84982)\u001b[0m testing: 49 \n",
      "\u001b[2m\u001b[36m(Player pid=84981)\u001b[0m testing: 49 \n",
      "\u001b[2m\u001b[36m(Player pid=84980)\u001b[0m testing: 22 \n",
      "\u001b[2m\u001b[36m(Player pid=84980)\u001b[0m testing: 23 \n",
      "\u001b[2m\u001b[36m(Player pid=84982)\u001b[0m testing: 50 \n",
      "\u001b[2m\u001b[36m(Player pid=84981)\u001b[0m testing: 50 \n",
      "\u001b[2m\u001b[36m(Player pid=84980)\u001b[0m testing: 24 \n",
      "\u001b[2m\u001b[36m(Player pid=84982)\u001b[0m testing: 51 \n",
      "\u001b[2m\u001b[36m(Player pid=84981)\u001b[0m testing: 51 \n",
      "\u001b[2m\u001b[36m(Player pid=84980)\u001b[0m testing: 25 \n",
      "\u001b[2m\u001b[36m(Player pid=84982)\u001b[0m testing: 52 \n",
      "\u001b[2m\u001b[36m(Player pid=84981)\u001b[0m testing: 52 \n",
      "\u001b[2m\u001b[36m(Player pid=84980)\u001b[0m testing: 26 \n",
      "\u001b[2m\u001b[36m(Player pid=84982)\u001b[0m testing: 53 \n",
      "\u001b[2m\u001b[36m(Player pid=84981)\u001b[0m testing: 53 \n"
     ]
    }
   ],
   "source": [
    "@ray.remote\n",
    "class Player:\n",
    "    def __init__(self):\n",
    "        self.win = 0 \n",
    "        self.decision_time = 0\n",
    "    \n",
    "    def judge(self):\n",
    "        self.decision_time += 1\n",
    "        time.sleep(0.5)\n",
    "        return random.randint(0, 1)\n",
    "    \n",
    "    def play_one_round(self):\n",
    "        print(' -- ')\n",
    "        for n in range(100):\n",
    "            print(f'testing: {n}', end=' ')\n",
    "            self.judge()\n",
    "            \n",
    "    def feedback(self, other):\n",
    "        if self.n > other.n:\n",
    "            self.win += 1\n",
    "        else:\n",
    "            self.win += 0"
   ]
  },
  {
   "cell_type": "code",
   "execution_count": 70,
   "metadata": {},
   "outputs": [
    {
     "name": "stdout",
     "output_type": "stream",
     "text": [
      "\u001b[2m\u001b[36m(Player pid=84980)\u001b[0m testing: 15 \n",
      "\u001b[2m\u001b[36m(Player pid=84982)\u001b[0m testing: 42 \n",
      "\u001b[2m\u001b[36m(Player pid=84981)\u001b[0m testing: 42 \n",
      "\u001b[2m\u001b[36m(Player pid=84980)\u001b[0m testing: 16 \n",
      "\u001b[2m\u001b[36m(Player pid=84982)\u001b[0m testing: 43 \n",
      "\u001b[2m\u001b[36m(Player pid=84981)\u001b[0m testing: 43 \n",
      "\u001b[2m\u001b[36m(Player pid=84980)\u001b[0m testing: 17 \n",
      "\u001b[2m\u001b[36m(Player pid=84982)\u001b[0m testing: 44 \n",
      "\u001b[2m\u001b[36m(Player pid=84981)\u001b[0m testing: 44 \n",
      "\u001b[2m\u001b[36m(Player pid=84982)\u001b[0m testing: 45 \n",
      "\u001b[2m\u001b[36m(Player pid=84981)\u001b[0m testing: 45 \n",
      "\u001b[2m\u001b[36m(Player pid=84980)\u001b[0m testing: 18 \n",
      "\u001b[2m\u001b[36m(Player pid=84980)\u001b[0m testing: 19 \n",
      "\u001b[2m\u001b[36m(Player pid=84982)\u001b[0m testing: 46 \n",
      "\u001b[2m\u001b[36m(Player pid=84981)\u001b[0m testing: 46 \n",
      "\u001b[2m\u001b[36m(Player pid=84982)\u001b[0m testing: 47 \n",
      "\u001b[2m\u001b[36m(Player pid=84980)\u001b[0m testing: 20 \n",
      "\u001b[2m\u001b[36m(Player pid=84981)\u001b[0m testing: 47 \n"
     ]
    }
   ],
   "source": [
    "p1 = Player.remote()\n",
    "p2 = Player.remote()\n",
    "p3 = Player.remote()"
   ]
  },
  {
   "cell_type": "code",
   "execution_count": 68,
   "metadata": {},
   "outputs": [
    {
     "data": {
      "text/plain": [
       "ObjectRef(a46bb8530f4064fd82ae045d831cbd6267f5ae5f0100000001000000)"
      ]
     },
     "execution_count": 68,
     "metadata": {},
     "output_type": "execute_result"
    },
    {
     "name": "stdout",
     "output_type": "stream",
     "text": [
      "\u001b[2m\u001b[36m(Player pid=84980)\u001b[0m testing: 73 \n",
      "\u001b[2m\u001b[36m(Player pid=84982)\u001b[0m  -- \n",
      "\u001b[2m\u001b[36m(Player pid=84982)\u001b[0m testing: 0 \n",
      "\u001b[2m\u001b[36m(Player pid=84981)\u001b[0m  -- \n",
      "\u001b[2m\u001b[36m(Player pid=84981)\u001b[0m testing: 0 \n",
      "\u001b[2m\u001b[36m(Player pid=84980)\u001b[0m testing: 74 \n",
      "\u001b[2m\u001b[36m(Player pid=84982)\u001b[0m testing: 1 \n",
      "\u001b[2m\u001b[36m(Player pid=84981)\u001b[0m testing: 1 \n",
      "\u001b[2m\u001b[36m(Player pid=84980)\u001b[0m testing: 75 \n",
      "\u001b[2m\u001b[36m(Player pid=84982)\u001b[0m testing: 2 \n",
      "\u001b[2m\u001b[36m(Player pid=84981)\u001b[0m testing: 2 \n",
      "\u001b[2m\u001b[36m(Player pid=84980)\u001b[0m testing: 76 \n",
      "\u001b[2m\u001b[36m(Player pid=84982)\u001b[0m testing: 3 \n",
      "\u001b[2m\u001b[36m(Player pid=84981)\u001b[0m testing: 3 \n",
      "\u001b[2m\u001b[36m(Player pid=84980)\u001b[0m testing: 77 \n",
      "\u001b[2m\u001b[36m(Player pid=84982)\u001b[0m testing: 4 \n",
      "\u001b[2m\u001b[36m(Player pid=84981)\u001b[0m testing: 4 \n",
      "\u001b[2m\u001b[36m(Player pid=84980)\u001b[0m testing: 78 \n",
      "\u001b[2m\u001b[36m(Player pid=84982)\u001b[0m testing: 5 \n",
      "\u001b[2m\u001b[36m(Player pid=84981)\u001b[0m testing: 5 \n",
      "\u001b[2m\u001b[36m(Player pid=84980)\u001b[0m testing: 79 \n",
      "\u001b[2m\u001b[36m(Player pid=84982)\u001b[0m testing: 6 \n",
      "\u001b[2m\u001b[36m(Player pid=84981)\u001b[0m testing: 6 \n",
      "\u001b[2m\u001b[36m(Player pid=84980)\u001b[0m testing: 80 \n",
      "\u001b[2m\u001b[36m(Player pid=84982)\u001b[0m testing: 7 \n",
      "\u001b[2m\u001b[36m(Player pid=84981)\u001b[0m testing: 7 \n",
      "\u001b[2m\u001b[36m(Player pid=84980)\u001b[0m testing: 81 \n",
      "\u001b[2m\u001b[36m(Player pid=84982)\u001b[0m testing: 8 \n",
      "\u001b[2m\u001b[36m(Player pid=84981)\u001b[0m testing: 8 \n",
      "\u001b[2m\u001b[36m(Player pid=84982)\u001b[0m testing: 9 \n",
      "\u001b[2m\u001b[36m(Player pid=84981)\u001b[0m testing: 9 \n",
      "\u001b[2m\u001b[36m(Player pid=84980)\u001b[0m testing: 82 \n",
      "\u001b[2m\u001b[36m(Player pid=84980)\u001b[0m testing: 83 \n",
      "\u001b[2m\u001b[36m(Player pid=84982)\u001b[0m testing: 10 \n",
      "\u001b[2m\u001b[36m(Player pid=84981)\u001b[0m testing: 10 \n",
      "\u001b[2m\u001b[36m(Player pid=84980)\u001b[0m testing: 84 \n",
      "\u001b[2m\u001b[36m(Player pid=84982)\u001b[0m testing: 11 \n",
      "\u001b[2m\u001b[36m(Player pid=84981)\u001b[0m testing: 11 \n",
      "\u001b[2m\u001b[36m(Player pid=84980)\u001b[0m testing: 85 \n",
      "\u001b[2m\u001b[36m(Player pid=84982)\u001b[0m testing: 12 \n",
      "\u001b[2m\u001b[36m(Player pid=84981)\u001b[0m testing: 12 \n",
      "\u001b[2m\u001b[36m(Player pid=84982)\u001b[0m testing: 13 \n",
      "\u001b[2m\u001b[36m(Player pid=84981)\u001b[0m testing: 13 \n",
      "\u001b[2m\u001b[36m(Player pid=84980)\u001b[0m testing: 86 \n",
      "\u001b[2m\u001b[36m(Player pid=84980)\u001b[0m testing: 87 \n",
      "\u001b[2m\u001b[36m(Player pid=84982)\u001b[0m testing: 14 \n",
      "\u001b[2m\u001b[36m(Player pid=84981)\u001b[0m testing: 14 \n",
      "\u001b[2m\u001b[36m(Player pid=84982)\u001b[0m testing: 15 \n",
      "\u001b[2m\u001b[36m(Player pid=84981)\u001b[0m testing: 15 \n",
      "\u001b[2m\u001b[36m(Player pid=84980)\u001b[0m testing: 88 \n",
      "\u001b[2m\u001b[36m(Player pid=84980)\u001b[0m testing: 89 \n",
      "\u001b[2m\u001b[36m(Player pid=84982)\u001b[0m testing: 16 \n",
      "\u001b[2m\u001b[36m(Player pid=84981)\u001b[0m testing: 16 \n",
      "\u001b[2m\u001b[36m(Player pid=84980)\u001b[0m testing: 90 \n",
      "\u001b[2m\u001b[36m(Player pid=84982)\u001b[0m testing: 17 \n",
      "\u001b[2m\u001b[36m(Player pid=84981)\u001b[0m testing: 17 \n",
      "\u001b[2m\u001b[36m(Player pid=84980)\u001b[0m testing: 91 \n",
      "\u001b[2m\u001b[36m(Player pid=84982)\u001b[0m testing: 18 \n",
      "\u001b[2m\u001b[36m(Player pid=84981)\u001b[0m testing: 18 \n",
      "\u001b[2m\u001b[36m(Player pid=84982)\u001b[0m testing: 19 \n",
      "\u001b[2m\u001b[36m(Player pid=84981)\u001b[0m testing: 19 \n",
      "\u001b[2m\u001b[36m(Player pid=84980)\u001b[0m testing: 92 \n",
      "\u001b[2m\u001b[36m(Player pid=84980)\u001b[0m testing: 93 \n",
      "\u001b[2m\u001b[36m(Player pid=84982)\u001b[0m testing: 20 \n",
      "\u001b[2m\u001b[36m(Player pid=84981)\u001b[0m testing: 20 \n",
      "\u001b[2m\u001b[36m(Player pid=84980)\u001b[0m testing: 94 \n",
      "\u001b[2m\u001b[36m(Player pid=84982)\u001b[0m testing: 21 \n",
      "\u001b[2m\u001b[36m(Player pid=84981)\u001b[0m testing: 21 \n",
      "\u001b[2m\u001b[36m(Player pid=84980)\u001b[0m testing: 95 \n",
      "\u001b[2m\u001b[36m(Player pid=84982)\u001b[0m testing: 22 \n",
      "\u001b[2m\u001b[36m(Player pid=84981)\u001b[0m testing: 22 \n",
      "\u001b[2m\u001b[36m(Player pid=84980)\u001b[0m testing: 96 \n",
      "\u001b[2m\u001b[36m(Player pid=84982)\u001b[0m testing: 23 \n",
      "\u001b[2m\u001b[36m(Player pid=84981)\u001b[0m testing: 23 \n",
      "\u001b[2m\u001b[36m(Player pid=84980)\u001b[0m testing: 97 \n",
      "\u001b[2m\u001b[36m(Player pid=84982)\u001b[0m testing: 24 \n",
      "\u001b[2m\u001b[36m(Player pid=84981)\u001b[0m testing: 24 \n",
      "\u001b[2m\u001b[36m(Player pid=84980)\u001b[0m testing: 98 \n",
      "\u001b[2m\u001b[36m(Player pid=84982)\u001b[0m testing: 25 \n",
      "\u001b[2m\u001b[36m(Player pid=84981)\u001b[0m testing: 25 \n",
      "\u001b[2m\u001b[36m(Player pid=84980)\u001b[0m testing: 99 \n",
      "\u001b[2m\u001b[36m(Player pid=84982)\u001b[0m testing: 26 \n",
      "\u001b[2m\u001b[36m(Player pid=84981)\u001b[0m testing: 26 \n",
      "\u001b[2m\u001b[36m(Player pid=84980)\u001b[0m  -- \n",
      "\u001b[2m\u001b[36m(Player pid=84980)\u001b[0m testing: 0 \n",
      "\u001b[2m\u001b[36m(Player pid=84982)\u001b[0m testing: 27 \n",
      "\u001b[2m\u001b[36m(Player pid=84981)\u001b[0m testing: 27 \n",
      "\u001b[2m\u001b[36m(Player pid=84980)\u001b[0m testing: 1 \n",
      "\u001b[2m\u001b[36m(Player pid=84982)\u001b[0m testing: 28 \n",
      "\u001b[2m\u001b[36m(Player pid=84981)\u001b[0m testing: 28 \n",
      "\u001b[2m\u001b[36m(Player pid=84980)\u001b[0m testing: 2 \n",
      "\u001b[2m\u001b[36m(Player pid=84982)\u001b[0m testing: 29 \n",
      "\u001b[2m\u001b[36m(Player pid=84981)\u001b[0m testing: 29 \n",
      "\u001b[2m\u001b[36m(Player pid=84982)\u001b[0m testing: 30 \n",
      "\u001b[2m\u001b[36m(Player pid=84981)\u001b[0m testing: 30 \n",
      "\u001b[2m\u001b[36m(Player pid=84980)\u001b[0m testing: 3 \n",
      "\u001b[2m\u001b[36m(Player pid=84980)\u001b[0m testing: 4 \n",
      "\u001b[2m\u001b[36m(Player pid=84982)\u001b[0m testing: 31 \n",
      "\u001b[2m\u001b[36m(Player pid=84981)\u001b[0m testing: 31 \n",
      "\u001b[2m\u001b[36m(Player pid=84980)\u001b[0m testing: 5 \n",
      "\u001b[2m\u001b[36m(Player pid=84982)\u001b[0m testing: 32 \n",
      "\u001b[2m\u001b[36m(Player pid=84981)\u001b[0m testing: 32 \n",
      "\u001b[2m\u001b[36m(Player pid=84980)\u001b[0m testing: 6 \n",
      "\u001b[2m\u001b[36m(Player pid=84982)\u001b[0m testing: 33 \n",
      "\u001b[2m\u001b[36m(Player pid=84981)\u001b[0m testing: 33 \n",
      "\u001b[2m\u001b[36m(Player pid=84980)\u001b[0m testing: 7 \n",
      "\u001b[2m\u001b[36m(Player pid=84982)\u001b[0m testing: 34 \n",
      "\u001b[2m\u001b[36m(Player pid=84981)\u001b[0m testing: 34 \n",
      "\u001b[2m\u001b[36m(Player pid=84980)\u001b[0m testing: 8 \n",
      "\u001b[2m\u001b[36m(Player pid=84982)\u001b[0m testing: 35 \n",
      "\u001b[2m\u001b[36m(Player pid=84981)\u001b[0m testing: 35 \n",
      "\u001b[2m\u001b[36m(Player pid=84980)\u001b[0m testing: 9 \n",
      "\u001b[2m\u001b[36m(Player pid=84982)\u001b[0m testing: 36 \n",
      "\u001b[2m\u001b[36m(Player pid=84981)\u001b[0m testing: 36 \n",
      "\u001b[2m\u001b[36m(Player pid=84980)\u001b[0m testing: 10 \n",
      "\u001b[2m\u001b[36m(Player pid=84982)\u001b[0m testing: 37 \n",
      "\u001b[2m\u001b[36m(Player pid=84981)\u001b[0m testing: 37 \n",
      "\u001b[2m\u001b[36m(Player pid=84980)\u001b[0m testing: 11 \n",
      "\u001b[2m\u001b[36m(Player pid=84982)\u001b[0m testing: 38 \n",
      "\u001b[2m\u001b[36m(Player pid=84981)\u001b[0m testing: 38 \n",
      "\u001b[2m\u001b[36m(Player pid=84980)\u001b[0m testing: 12 \n",
      "\u001b[2m\u001b[36m(Player pid=84982)\u001b[0m testing: 39 \n",
      "\u001b[2m\u001b[36m(Player pid=84981)\u001b[0m testing: 39 \n",
      "\u001b[2m\u001b[36m(Player pid=84980)\u001b[0m testing: 13 \n",
      "\u001b[2m\u001b[36m(Player pid=84982)\u001b[0m testing: 40 \n",
      "\u001b[2m\u001b[36m(Player pid=84981)\u001b[0m testing: 40 \n"
     ]
    }
   ],
   "source": [
    "p1.play_one_round.remote()\n",
    "p2.play_one_round.remote()\n",
    "p3.play_one_round.remote()"
   ]
  },
  {
   "cell_type": "code",
   "execution_count": 93,
   "metadata": {},
   "outputs": [],
   "source": [
    "@ray.remote\n",
    "class MessageActor:\n",
    "    def __init__(self):\n",
    "        self.messages = []\n",
    "        \n",
    "    def add_message(self, m):\n",
    "        self.messages.append(m)\n",
    "        \n",
    "    def pop_all(self):\n",
    "        m = self.messages\n",
    "        self.messages = []\n",
    "        return m"
   ]
  },
  {
   "cell_type": "code",
   "execution_count": 99,
   "metadata": {},
   "outputs": [],
   "source": [
    "@ray.remote\n",
    "def worker(actor, index):\n",
    "    for i in range(10):\n",
    "        time.sleep(0.1)\n",
    "        actor.add_message.remote(\n",
    "            \"message: {} from worker {}\".format(i, index)\n",
    "        )"
   ]
  },
  {
   "cell_type": "code",
   "execution_count": 100,
   "metadata": {},
   "outputs": [],
   "source": [
    "actor = MessageActor.remote()"
   ]
  },
  {
   "cell_type": "code",
   "execution_count": 101,
   "metadata": {},
   "outputs": [],
   "source": [
    "workers = [worker.remote(actor, i) for i in range(3)]"
   ]
  },
  {
   "cell_type": "code",
   "execution_count": 105,
   "metadata": {},
   "outputs": [
    {
     "data": {
      "text/plain": [
       "['message: 0 from worker 1',\n",
       " 'message: 1 from worker 1',\n",
       " 'message: 0 from worker 2',\n",
       " 'message: 1 from worker 2',\n",
       " 'message: 0 from worker 0',\n",
       " 'message: 1 from worker 0',\n",
       " 'message: 2 from worker 2',\n",
       " 'message: 2 from worker 1',\n",
       " 'message: 2 from worker 0',\n",
       " 'message: 3 from worker 0',\n",
       " 'message: 3 from worker 1',\n",
       " 'message: 3 from worker 2',\n",
       " 'message: 4 from worker 0',\n",
       " 'message: 4 from worker 2',\n",
       " 'message: 4 from worker 1',\n",
       " 'message: 5 from worker 0',\n",
       " 'message: 5 from worker 2',\n",
       " 'message: 5 from worker 1',\n",
       " 'message: 6 from worker 0',\n",
       " 'message: 6 from worker 2',\n",
       " 'message: 6 from worker 1',\n",
       " 'message: 7 from worker 2',\n",
       " 'message: 7 from worker 0',\n",
       " 'message: 7 from worker 1',\n",
       " 'message: 8 from worker 2',\n",
       " 'message: 8 from worker 0',\n",
       " 'message: 8 from worker 1',\n",
       " 'message: 9 from worker 2',\n",
       " 'message: 9 from worker 0',\n",
       " 'message: 9 from worker 1']"
      ]
     },
     "execution_count": 105,
     "metadata": {},
     "output_type": "execute_result"
    }
   ],
   "source": [
    "ray.get(actor.pop_all.remote())"
   ]
  }
 ],
 "metadata": {
  "kernelspec": {
   "display_name": "Python 3",
   "language": "python",
   "name": "python3"
  },
  "language_info": {
   "codemirror_mode": {
    "name": "ipython",
    "version": 3
   },
   "file_extension": ".py",
   "mimetype": "text/x-python",
   "name": "python",
   "nbconvert_exporter": "python",
   "pygments_lexer": "ipython3",
   "version": "3.7.3"
  }
 },
 "nbformat": 4,
 "nbformat_minor": 2
}

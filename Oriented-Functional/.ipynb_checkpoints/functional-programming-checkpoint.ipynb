{
 "cells": [
  {
   "cell_type": "markdown",
   "metadata": {},
   "source": [
    "## Learning Functional Programming"
   ]
  },
  {
   "cell_type": "markdown",
   "metadata": {},
   "source": [
    "+ filter, map, list comphresion ([]) "
   ]
  },
  {
   "cell_type": "markdown",
   "metadata": {},
   "source": [
    "## 函数式编程是一种编程思想"
   ]
  },
  {
   "cell_type": "markdown",
   "metadata": {},
   "source": [
    "## 问题1：有两个list，这两个list均是具有任意嵌套深度，任意嵌套个数的。我们需要一个函数来判断，这两个list的层次结构是否一样。 \n",
    "\n",
    "```\n",
    "例如： \n",
    "   list-a: [[1], [2], [3]] == list-b: [[4], [6], [7]]\n",
    "   list-a: [[[[10]]], [11]] == list-b: [[[[12]]], [13]]\n",
    "   list-a: [[[1]], [2]] != [[[1]], [[2]]]\n",
    "```"
   ]
  },
  {
   "cell_type": "markdown",
   "metadata": {},
   "source": [
    "+ 数据库存储的时候，我们需要规定输入的元素的格式； \n",
    "+ 处理数据的时候，我们需要让输入的数据满足某种Pattern \n"
   ]
  },
  {
   "cell_type": "code",
   "execution_count": 8,
   "metadata": {},
   "outputs": [
    {
     "data": {
      "text/plain": [
       "False"
      ]
     },
     "execution_count": 8,
     "metadata": {},
     "output_type": "execute_result"
    }
   ],
   "source": [
    "isinstance(9, float)"
   ]
  },
  {
   "cell_type": "code",
   "execution_count": 9,
   "metadata": {},
   "outputs": [
    {
     "data": {
      "text/plain": [
       "int"
      ]
     },
     "execution_count": 9,
     "metadata": {},
     "output_type": "execute_result"
    }
   ],
   "source": [
    "type(9)"
   ]
  },
  {
   "cell_type": "markdown",
   "metadata": {},
   "source": [
    "inputs: \n",
    "   + inputs: [n1], [n2];\n",
    "   + inputs: [n1], [[n2]];\n",
    "   + inputs: [[1]], [[[2]]]\n",
    "   + inputs: [[[3]], [4]] | [[[6]], [7]]\n",
    "   + inputs: [2, [[[-5]]], [10, [[[11]]]]\n",
    "   \n",
    "```\n",
    "def is_number(n):\n",
    "    return isinstance(n, (float, int))\n",
    "    \n",
    "def only_numbers(elements):\n",
    "    return is_number(elements) or (list not in set(type(e) for e in elements))\n",
    "\n",
    "def both_empty(test1, test2):\n",
    "    return len(test1) == len(test2) == 0\n",
    "    \n",
    "def both_only_numbers(test1, test2):\n",
    "    return only_numbers(test1) and only_numbers(test2)\n",
    "    \n",
    "def struc_equal(list1, list2):\n",
    "    if len(list1) != len(list2):  return False\n",
    "    elif both_empty(list1, list2) or both_only_numbers(list1, list2): return True\n",
    "    else:\n",
    "        return struc_equal(list1[0], list2[0]) and struc_equal(list1[1:], list2[:]) \n",
    "```     \n",
    "\n",
    "   \n",
    "      "
   ]
  },
  {
   "cell_type": "markdown",
   "metadata": {},
   "source": [
    "## 问题2： 我们现在已知一个数据库，该数据库里包含了任意两个人之间的转账关系： \n",
    "\n",
    "```\n",
    "Custorm-id receiver-id\n",
    "\n",
    "   01101.    00110\n",
    "   00110     00101\n",
    "```"
   ]
  },
  {
   "cell_type": "markdown",
   "metadata": {},
   "source": [
    "给定任意多的数据，我们要找出所有的 Connected Group： 在该用户群中，每一个用户之间都转过帐"
   ]
  },
  {
   "cell_type": "markdown",
   "metadata": {},
   "source": [
    "## 第三题\n",
    "\n",
    "```\n",
    " '-10 2 2 2 2 6 1 -1 2 4 6 4 -2 2 2 2 2 4 2 2 -1 1 2 8 -2 2 2 2 2 6 1 -1 2 4 6 4, -2 2 2 2 2 4 2 2 -1 1 2 12 -4',\n",
    " \n",
    " '61 65 65 65 65 65 65 70 68 65 65 65 68 70 68 68 68 68 68 70 61 63 63 65 68 65 65 70 68 61 65 68 68 70 68 65 68 68 70 70'\n",
    " \n",
    "根据第一行数据，对第二行数据进行拆分。计算两个负数之间的数字个数，例如第一行，-10和-1之间，有数字6个，则在第二行中数6个数，61 65 65 65 65 65 ，组成一组，为 \"61 65 65 65 65 65\" ,按照这个规则，对第二行依次进行处理， “65 70 68 65”\n",
    "最后得到这样的格式    [[\"61 65 65 65 65 65\", “65 70 68 65”,  \"65 65 68 70 68 68 68\", \" 68 68 70\"],[\" 61 63 63 65 68 65 \", \" 61 63 63 65\",  \"65 68 68 70 68 65 68\" ,\"68 70 70\"]]\n",
    "```"
   ]
  },
  {
   "cell_type": "markdown",
   "metadata": {},
   "source": [
    "## 第四题"
   ]
  },
  {
   "cell_type": "markdown",
   "metadata": {},
   "source": [
    "### 给定一个字符串，找到第一个不重复的字符的位置。"
   ]
  },
  {
   "cell_type": "markdown",
   "metadata": {},
   "source": [
    "+ 'abcdefga' : b -> index == 1\n",
    "+ 'abcdefg' : index == -1\n",
    "+ 'abca' : a -> idex == 0"
   ]
  },
  {
   "cell_type": "markdown",
   "metadata": {},
   "source": [
    "## 自顶向下，逐步分解： 针对解决方案已经比较明确，或者问题比较常见，能够快速分析出解决方案的\n",
    "## 自下而上，从小到大"
   ]
  },
  {
   "cell_type": "markdown",
   "metadata": {},
   "source": [
    "## 我们面向的，思考的是，我们需要哪些小功能，哪些功能可以组合成更加复杂的功能（functions）\n",
    "\n",
    "## Oriented Functions =》 面向函数"
   ]
  },
  {
   "cell_type": "markdown",
   "metadata": {},
   "source": [
    "面向 Oridented：\n",
    "+ 某个东西可以作为变量\n",
    "+ 某个东西可以作为函数参数\n",
    "+ 某个东西可以作为函数返回值"
   ]
  }
 ],
 "metadata": {
  "kernelspec": {
   "display_name": "Python 3",
   "language": "python",
   "name": "python3"
  },
  "language_info": {
   "codemirror_mode": {
    "name": "ipython",
    "version": 3
   },
   "file_extension": ".py",
   "mimetype": "text/x-python",
   "name": "python",
   "nbconvert_exporter": "python",
   "pygments_lexer": "ipython3",
   "version": "3.7.3"
  }
 },
 "nbformat": 4,
 "nbformat_minor": 2
}

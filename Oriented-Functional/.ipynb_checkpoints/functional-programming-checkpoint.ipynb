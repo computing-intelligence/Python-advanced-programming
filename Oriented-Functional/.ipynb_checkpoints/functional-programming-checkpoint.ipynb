{
 "cells": [
  {
   "cell_type": "markdown",
   "metadata": {},
   "source": [
    "## Learning Functional Programming"
   ]
  },
  {
   "cell_type": "markdown",
   "metadata": {},
   "source": [
    "+ filter, map, list comphresion ([]) "
   ]
  },
  {
   "cell_type": "markdown",
   "metadata": {},
   "source": [
    "## 函数式编程是一种编程思想"
   ]
  },
  {
   "cell_type": "markdown",
   "metadata": {},
   "source": [
    "## 问题1：有两个list，这两个list均是具有任意嵌套深度，任意嵌套个数的。我们需要一个函数来判断，这两个list的层次结构是否一样。 \n",
    "\n",
    "```\n",
    "例如： \n",
    "   list-a: [[1], [2], [3]] == list-b: [[4], [6], [7]]\n",
    "   list-a: [[[[10]]], [11]] == list-b: [[[[12]]], [13]]\n",
    "   list-a: [[[1]], [2]] != [[[1]], [[2]]]\n",
    "```"
   ]
  },
  {
   "cell_type": "markdown",
   "metadata": {},
   "source": [
    "+ 数据库存储的时候，我们需要规定输入的元素的格式； \n",
    "+ 处理数据的时候，我们需要让输入的数据满足某种Pattern \n"
   ]
  },
  {
   "cell_type": "code",
   "execution_count": 8,
   "metadata": {},
   "outputs": [
    {
     "data": {
      "text/plain": [
       "False"
      ]
     },
     "execution_count": 8,
     "metadata": {},
     "output_type": "execute_result"
    }
   ],
   "source": [
    "isinstance(9, float)"
   ]
  },
  {
   "cell_type": "code",
   "execution_count": 9,
   "metadata": {},
   "outputs": [
    {
     "data": {
      "text/plain": [
       "int"
      ]
     },
     "execution_count": 9,
     "metadata": {},
     "output_type": "execute_result"
    }
   ],
   "source": [
    "type(9)"
   ]
  },
  {
   "cell_type": "markdown",
   "metadata": {},
   "source": [
    "inputs: \n",
    "   + inputs: [n1], [n2];\n",
    "   + inputs: [n1], [[n2]];\n",
    "   + inputs: [[1]], [[[2]]]\n",
    "   + inputs: [[[3]], [4]] | [[[6]], [7]]\n",
    "   + inputs: [2, [[[-5]]], [10, [[[11]]]]\n",
    "   \n",
    "```\n",
    "def is_number(n):\n",
    "    return isinstance(n, (float, int))\n",
    "    \n",
    "def only_numbers(elements):\n",
    "    return is_number(elements) or (list not in set(type(e) for e in elements))\n",
    "\n",
    "def both_empty(test1, test2):\n",
    "    return len(test1) == len(test2) == 0\n",
    "    \n",
    "def both_only_numbers(test1, test2):\n",
    "    return only_numbers(test1) and only_numbers(test2)\n",
    "    \n",
    "def struc_equal(list1, list2):\n",
    "    if len(list1) != len(list2):  return False\n",
    "    elif both_empty(list1, list2) or both_only_numbers(list1, list2): return True\n",
    "    else:\n",
    "        return struc_equal(list1[0], list2[0]) and struc_equal(list1[1:], list2[:]) \n",
    "```     \n",
    "\n",
    "   \n",
    "      "
   ]
  },
  {
   "cell_type": "markdown",
   "metadata": {},
   "source": [
    "## 问题2： 我们现在已知一个数据库，该数据库里包含了任意两个人之间的转账关系： \n",
    "\n",
    "```\n",
    "Custorm-id receiver-id\n",
    "\n",
    "   01101.    00110\n",
    "   00110     00101\n",
    "```"
   ]
  },
  {
   "cell_type": "markdown",
   "metadata": {},
   "source": [
    "给定任意多的数据，我们要找出所有的 Connected Group： 在该用户群中，每一个用户之间都转过帐"
   ]
  },
  {
   "cell_type": "markdown",
   "metadata": {},
   "source": [
    "## 第三题\n",
    "\n",
    "```\n",
    " '-10 2 2 2 2 6 1 -1 2 4 6 4 -2 2 2 2 2 4 2 2 -1 1 2 8 -2 2 2 2 2 6 1 -1 2 4 6 4, -2 2 2 2 2 4 2 2 -1 1 2 12 -4',\n",
    " \n",
    " '61 65 65 65 65 65 65 70 68 65 65 65 68 70 68 68 68 68 68 70 61 63 63 65 68 65 65 70 68 61 65 68 68 70 68 65 68 68 70 70'\n",
    " \n",
    "根据第一行数据，对第二行数据进行拆分。计算两个负数之间的数字个数，例如第一行，-10和-1之间，有数字6个，则在第二行中数6个数，61 65 65 65 65 65 ，组成一组，为 \"61 65 65 65 65 65\" ,按照这个规则，对第二行依次进行处理， “65 70 68 65”\n",
    "最后得到这样的格式    [[\"61 65 65 65 65 65\", “65 70 68 65”,  \"65 65 68 70 68 68 68\", \" 68 68 70\"],[\" 61 63 63 65 68 65 \", \" 61 63 63 65\",  \"65 68 68 70 68 65 68\" ,\"68 70 70\"]]\n",
    "```"
   ]
  },
  {
   "cell_type": "markdown",
   "metadata": {},
   "source": [
    "## 第四题"
   ]
  },
  {
   "cell_type": "markdown",
   "metadata": {},
   "source": [
    "### 给定一个字符串，找到第一个不重复的字符的位置。"
   ]
  },
  {
   "cell_type": "markdown",
   "metadata": {},
   "source": [
    "+ 'abcdefga' : b -> index == 1\n",
    "+ 'abcdefg' : index == -1\n",
    "+ 'abcb' : a -> idex == 0"
   ]
  },
  {
   "cell_type": "markdown",
   "metadata": {},
   "source": [
    "step1: simplify \n",
    "\n",
    "```\n",
    "'' -> -1 \n",
    "'a' -> 0\n",
    "'aa' -> -1\n",
    "'aab' -> b -> 2 \n",
    "```\n"
   ]
  },
  {
   "cell_type": "markdown",
   "metadata": {},
   "source": [
    "index -> char\n"
   ]
  },
  {
   "cell_type": "markdown",
   "metadata": {},
   "source": [
    "```\n",
    "def get_first_distint_index(string):\n",
    "    char_num = OrderedDict()\n",
    " \n",
    "    for i, c in enumerate(string):\n",
    "        if c in char_num: char_num[1] += 1\n",
    "        else: char_num[c] = (i, 1)\n",
    "    \n",
    "    for c, (index, count) in char_num.items():\n",
    "        if count == 1: return index\n",
    "    return -1\n",
    "```"
   ]
  },
  {
   "cell_type": "code",
   "execution_count": 23,
   "metadata": {},
   "outputs": [],
   "source": [
    "from collections import defaultdict"
   ]
  },
  {
   "cell_type": "code",
   "execution_count": 16,
   "metadata": {},
   "outputs": [],
   "source": [
    "def get_first_distint_index(string):\n",
    "    char_num = OrderedDict()\n",
    "    \n",
    "    for i, c in enumerate(string):\n",
    "        if c in char_num: char_num[c][1] += 1\n",
    "        else: char_num[c] = [i, 1]\n",
    "    \n",
    "    for c, (index, count) in char_num.items():\n",
    "        if count == 1: return index\n",
    "        \n",
    "    return -1"
   ]
  },
  {
   "cell_type": "code",
   "execution_count": 17,
   "metadata": {},
   "outputs": [
    {
     "data": {
      "text/plain": [
       "0"
      ]
     },
     "execution_count": 17,
     "metadata": {},
     "output_type": "execute_result"
    }
   ],
   "source": [
    "get_first_distint_index('abc')"
   ]
  },
  {
   "cell_type": "code",
   "execution_count": 18,
   "metadata": {},
   "outputs": [
    {
     "data": {
      "text/plain": [
       "1"
      ]
     },
     "execution_count": 18,
     "metadata": {},
     "output_type": "execute_result"
    }
   ],
   "source": [
    "get_first_distint_index('abca')"
   ]
  },
  {
   "cell_type": "code",
   "execution_count": 19,
   "metadata": {},
   "outputs": [
    {
     "data": {
      "text/plain": [
       "2"
      ]
     },
     "execution_count": 19,
     "metadata": {},
     "output_type": "execute_result"
    }
   ],
   "source": [
    "get_first_distint_index('abcab')"
   ]
  },
  {
   "cell_type": "code",
   "execution_count": 21,
   "metadata": {},
   "outputs": [
    {
     "data": {
      "text/plain": [
       "-1"
      ]
     },
     "execution_count": 21,
     "metadata": {},
     "output_type": "execute_result"
    }
   ],
   "source": [
    "get_first_distint_index('abcabac')"
   ]
  },
  {
   "cell_type": "code",
   "execution_count": 1,
   "metadata": {},
   "outputs": [],
   "source": [
    "from collections import OrderedDict"
   ]
  },
  {
   "cell_type": "code",
   "execution_count": 2,
   "metadata": {},
   "outputs": [
    {
     "name": "stdout",
     "output_type": "stream",
     "text": [
      "Help on class OrderedDict in module collections:\n",
      "\n",
      "class OrderedDict(builtins.dict)\n",
      " |  Dictionary that remembers insertion order\n",
      " |  \n",
      " |  Method resolution order:\n",
      " |      OrderedDict\n",
      " |      builtins.dict\n",
      " |      builtins.object\n",
      " |  \n",
      " |  Methods defined here:\n",
      " |  \n",
      " |  __delitem__(self, key, /)\n",
      " |      Delete self[key].\n",
      " |  \n",
      " |  __eq__(self, value, /)\n",
      " |      Return self==value.\n",
      " |  \n",
      " |  __ge__(self, value, /)\n",
      " |      Return self>=value.\n",
      " |  \n",
      " |  __gt__(self, value, /)\n",
      " |      Return self>value.\n",
      " |  \n",
      " |  __init__(self, /, *args, **kwargs)\n",
      " |      Initialize self.  See help(type(self)) for accurate signature.\n",
      " |  \n",
      " |  __iter__(self, /)\n",
      " |      Implement iter(self).\n",
      " |  \n",
      " |  __le__(self, value, /)\n",
      " |      Return self<=value.\n",
      " |  \n",
      " |  __lt__(self, value, /)\n",
      " |      Return self<value.\n",
      " |  \n",
      " |  __ne__(self, value, /)\n",
      " |      Return self!=value.\n",
      " |  \n",
      " |  __reduce__(...)\n",
      " |      Return state information for pickling\n",
      " |  \n",
      " |  __repr__(self, /)\n",
      " |      Return repr(self).\n",
      " |  \n",
      " |  __reversed__(...)\n",
      " |      od.__reversed__() <==> reversed(od)\n",
      " |  \n",
      " |  __setitem__(self, key, value, /)\n",
      " |      Set self[key] to value.\n",
      " |  \n",
      " |  __sizeof__(...)\n",
      " |      D.__sizeof__() -> size of D in memory, in bytes\n",
      " |  \n",
      " |  clear(...)\n",
      " |      od.clear() -> None.  Remove all items from od.\n",
      " |  \n",
      " |  copy(...)\n",
      " |      od.copy() -> a shallow copy of od\n",
      " |  \n",
      " |  items(...)\n",
      " |      D.items() -> a set-like object providing a view on D's items\n",
      " |  \n",
      " |  keys(...)\n",
      " |      D.keys() -> a set-like object providing a view on D's keys\n",
      " |  \n",
      " |  move_to_end(self, /, key, last=True)\n",
      " |      Move an existing element to the end (or beginning if last is false).\n",
      " |      \n",
      " |      Raise KeyError if the element does not exist.\n",
      " |  \n",
      " |  pop(...)\n",
      " |      od.pop(k[,d]) -> v, remove specified key and return the corresponding\n",
      " |      value.  If key is not found, d is returned if given, otherwise KeyError\n",
      " |      is raised.\n",
      " |  \n",
      " |  popitem(self, /, last=True)\n",
      " |      Remove and return a (key, value) pair from the dictionary.\n",
      " |      \n",
      " |      Pairs are returned in LIFO order if last is true or FIFO order if false.\n",
      " |  \n",
      " |  setdefault(self, /, key, default=None)\n",
      " |      Insert key with a value of default if key is not in the dictionary.\n",
      " |      \n",
      " |      Return the value for key if key is in the dictionary, else default.\n",
      " |  \n",
      " |  update(...)\n",
      " |      D.update([E, ]**F) -> None.  Update D from dict/iterable E and F.\n",
      " |      If E is present and has a .keys() method, then does:  for k in E: D[k] = E[k]\n",
      " |      If E is present and lacks a .keys() method, then does:  for k, v in E: D[k] = v\n",
      " |      In either case, this is followed by: for k in F:  D[k] = F[k]\n",
      " |  \n",
      " |  values(...)\n",
      " |      D.values() -> an object providing a view on D's values\n",
      " |  \n",
      " |  ----------------------------------------------------------------------\n",
      " |  Class methods defined here:\n",
      " |  \n",
      " |  fromkeys(iterable, value=None) from builtins.type\n",
      " |      Create a new ordered dictionary with keys from iterable and values set to value.\n",
      " |  \n",
      " |  ----------------------------------------------------------------------\n",
      " |  Data descriptors defined here:\n",
      " |  \n",
      " |  __dict__\n",
      " |  \n",
      " |  ----------------------------------------------------------------------\n",
      " |  Data and other attributes defined here:\n",
      " |  \n",
      " |  __hash__ = None\n",
      " |  \n",
      " |  ----------------------------------------------------------------------\n",
      " |  Methods inherited from builtins.dict:\n",
      " |  \n",
      " |  __contains__(self, key, /)\n",
      " |      True if the dictionary has the specified key, else False.\n",
      " |  \n",
      " |  __getattribute__(self, name, /)\n",
      " |      Return getattr(self, name).\n",
      " |  \n",
      " |  __getitem__(...)\n",
      " |      x.__getitem__(y) <==> x[y]\n",
      " |  \n",
      " |  __len__(self, /)\n",
      " |      Return len(self).\n",
      " |  \n",
      " |  get(self, key, default=None, /)\n",
      " |      Return the value for key if key is in the dictionary, else default.\n",
      " |  \n",
      " |  ----------------------------------------------------------------------\n",
      " |  Static methods inherited from builtins.dict:\n",
      " |  \n",
      " |  __new__(*args, **kwargs) from builtins.type\n",
      " |      Create and return a new object.  See help(type) for accurate signature.\n",
      "\n"
     ]
    }
   ],
   "source": [
    "help(OrderedDict)"
   ]
  },
  {
   "cell_type": "code",
   "execution_count": 5,
   "metadata": {},
   "outputs": [],
   "source": [
    "d = OrderedDict()"
   ]
  },
  {
   "cell_type": "code",
   "execution_count": 8,
   "metadata": {},
   "outputs": [],
   "source": [
    "d[0] = 1"
   ]
  },
  {
   "cell_type": "code",
   "execution_count": 7,
   "metadata": {},
   "outputs": [],
   "source": [
    "d[2] = 1"
   ]
  },
  {
   "cell_type": "code",
   "execution_count": 9,
   "metadata": {},
   "outputs": [
    {
     "name": "stdout",
     "output_type": "stream",
     "text": [
      "0\n",
      "2\n"
     ]
    }
   ],
   "source": [
    "for key in d:\n",
    "    print(key)"
   ]
  },
  {
   "cell_type": "markdown",
   "metadata": {},
   "source": [
    "## 自顶向下，逐步分解： 针对解决方案已经比较明确，或者问题比较常见，能够快速分析出解决方案的\n",
    "## 自下而上，从小到大"
   ]
  },
  {
   "cell_type": "markdown",
   "metadata": {},
   "source": [
    "## 我们面向的，思考的是，我们需要哪些小功能，哪些功能可以组合成更加复杂的功能（functions）\n",
    "\n",
    "## Oriented Functions =》 面向函数"
   ]
  },
  {
   "cell_type": "markdown",
   "metadata": {},
   "source": [
    "面向 Oridented：\n",
    "+ 某个东西可以作为变量\n",
    "+ 某个东西可以作为函数参数\n",
    "+ 某个东西可以作为函数返回值"
   ]
  },
  {
   "cell_type": "code",
   "execution_count": 10,
   "metadata": {},
   "outputs": [],
   "source": [
    "from functools import wraps"
   ]
  },
  {
   "cell_type": "code",
   "execution_count": 41,
   "metadata": {},
   "outputs": [],
   "source": [
    "def show_called_by(caller):\n",
    "    def decorate(func):\n",
    "        @wraps(func)\n",
    "        def _warp(*args, **kwargs):\n",
    "            print(f'{func.__name__} was called by {caller.__name__}')\n",
    "            return func(*args, **kwargs)\n",
    "        return _warp\n",
    "    return decorate"
   ]
  },
  {
   "cell_type": "code",
   "execution_count": 42,
   "metadata": {},
   "outputs": [],
   "source": [
    "def super_sub(m, n):\n",
    "    return sub(m, n) + sub(m, n)"
   ]
  },
  {
   "cell_type": "code",
   "execution_count": 43,
   "metadata": {},
   "outputs": [],
   "source": [
    "@show_called_by(super_sub)\n",
    "def sub(m, n): return m - n"
   ]
  },
  {
   "cell_type": "code",
   "execution_count": 44,
   "metadata": {},
   "outputs": [
    {
     "name": "stdout",
     "output_type": "stream",
     "text": [
      "sub was called by super_sub\n"
     ]
    },
    {
     "data": {
      "text/plain": [
       "9"
      ]
     },
     "execution_count": 44,
     "metadata": {},
     "output_type": "execute_result"
    }
   ],
   "source": [
    "sub(10, 1)"
   ]
  },
  {
   "cell_type": "code",
   "execution_count": 28,
   "metadata": {},
   "outputs": [
    {
     "name": "stdout",
     "output_type": "stream",
     "text": [
      "Help on function wraps in module functools:\n",
      "\n",
      "wraps(wrapped, assigned=('__module__', '__name__', '__qualname__', '__doc__', '__annotations__'), updated=('__dict__',))\n",
      "    Decorator factory to apply update_wrapper() to a wrapper function\n",
      "    \n",
      "    Returns a decorator that invokes update_wrapper() with the decorated\n",
      "    function as the wrapper argument and the arguments to wraps() as the\n",
      "    remaining arguments. Default arguments are as for update_wrapper().\n",
      "    This is a convenience function to simplify applying partial() to\n",
      "    update_wrapper().\n",
      "\n"
     ]
    }
   ],
   "source": [
    "help(wraps)"
   ]
  },
  {
   "cell_type": "code",
   "execution_count": 30,
   "metadata": {},
   "outputs": [],
   "source": [
    "@decorate\n",
    "def add(a, b): \n",
    "    \"\"\"\n",
    "    args: \n",
    "        a: some ... \n",
    "        b: some .. \n",
    "        return : .. \n",
    "    \"\"\"\n",
    "    return a + b"
   ]
  },
  {
   "cell_type": "code",
   "execution_count": 29,
   "metadata": {},
   "outputs": [],
   "source": [
    "add = decorate(add)"
   ]
  },
  {
   "cell_type": "code",
   "execution_count": 23,
   "metadata": {},
   "outputs": [
    {
     "name": "stdout",
     "output_type": "stream",
     "text": [
      "_warp was called\n",
      "add was called\n"
     ]
    },
    {
     "data": {
      "text/plain": [
       "21"
      ]
     },
     "execution_count": 23,
     "metadata": {},
     "output_type": "execute_result"
    }
   ],
   "source": [
    "add(10, 11)"
   ]
  },
  {
   "cell_type": "code",
   "execution_count": 31,
   "metadata": {},
   "outputs": [
    {
     "name": "stdout",
     "output_type": "stream",
     "text": [
      "Help on function add in module __main__:\n",
      "\n",
      "add(a, b)\n",
      "    args: \n",
      "        a: some ... \n",
      "        b: some .. \n",
      "        return : ..\n",
      "\n"
     ]
    }
   ],
   "source": [
    "help(add)"
   ]
  },
  {
   "cell_type": "markdown",
   "metadata": {},
   "source": [
    "## Oriented Functional Programming 函数式编程 - Part-02"
   ]
  },
  {
   "cell_type": "markdown",
   "metadata": {},
   "source": [
    "1. decorator deep learning\n",
    "2. build-in decortors in python\n",
    "3. function's objects \n",
    "4. function's initialize and immutable object \n",
    "5. positional and argument only paramters \n",
    "5. lambda \n",
    "6. map, reduce, list-comprehension, generator-comphresion, yield \n",
    "7. Type Hinting \n",
    "8. Clousera\n",
    "9. document testing "
   ]
  }
 ],
 "metadata": {
  "kernelspec": {
   "display_name": "Python 3",
   "language": "python",
   "name": "python3"
  },
  "language_info": {
   "codemirror_mode": {
    "name": "ipython",
    "version": 3
   },
   "file_extension": ".py",
   "mimetype": "text/x-python",
   "name": "python",
   "nbconvert_exporter": "python",
   "pygments_lexer": "ipython3",
   "version": "3.7.3"
  }
 },
 "nbformat": 4,
 "nbformat_minor": 2
}

{
 "cells": [
  {
   "cell_type": "markdown",
   "metadata": {},
   "source": [
    "## Lesson-14 Numpy  and Sci-Computing "
   ]
  },
  {
   "cell_type": "markdown",
   "metadata": {},
   "source": [
    "1. Numpy 的 aixs\n",
    "2. Numpy 的 数据连接操作\n",
    "3. Numpy 的 Broadcast\n",
    "4. Numpy 的 性能加速对比"
   ]
  },
  {
   "cell_type": "markdown",
   "metadata": {},
   "source": [
    "### aixs"
   ]
  },
  {
   "cell_type": "code",
   "execution_count": 22,
   "metadata": {},
   "outputs": [],
   "source": [
    "some_array = [1, 2, 3] * 100"
   ]
  },
  {
   "cell_type": "code",
   "execution_count": 21,
   "metadata": {},
   "outputs": [],
   "source": [
    "other_array = [-1, -2, -3]  * 100"
   ]
  },
  {
   "cell_type": "code",
   "execution_count": 5,
   "metadata": {},
   "outputs": [
    {
     "data": {
      "text/plain": [
       "[1, 2, 3, -1, -2, -3]"
      ]
     },
     "execution_count": 5,
     "metadata": {},
     "output_type": "execute_result"
    }
   ],
   "source": [
    "some_array + other_array"
   ]
  },
  {
   "cell_type": "code",
   "execution_count": 23,
   "metadata": {},
   "outputs": [
    {
     "name": "stdout",
     "output_type": "stream",
     "text": [
      "21.8 µs ± 50.4 ns per loop (mean ± std. dev. of 7 runs, 10000 loops each)\n"
     ]
    }
   ],
   "source": [
    "%%timeit\n",
    "\n",
    "result = []\n",
    "for s, t in zip(some_array, other_array):\n",
    "    result.append(s + t)"
   ]
  },
  {
   "cell_type": "code",
   "execution_count": 7,
   "metadata": {},
   "outputs": [
    {
     "data": {
      "text/plain": [
       "[0, 0, 0]"
      ]
     },
     "execution_count": 7,
     "metadata": {},
     "output_type": "execute_result"
    }
   ],
   "source": [
    "result"
   ]
  },
  {
   "cell_type": "code",
   "execution_count": 8,
   "metadata": {},
   "outputs": [],
   "source": [
    "import numpy as np"
   ]
  },
  {
   "cell_type": "code",
   "execution_count": 24,
   "metadata": {},
   "outputs": [],
   "source": [
    "v1 = np.array([1, 2, 3] * 100)"
   ]
  },
  {
   "cell_type": "code",
   "execution_count": 25,
   "metadata": {},
   "outputs": [],
   "source": [
    "v2 = np.array([-1, -2, -3] * 100)"
   ]
  },
  {
   "cell_type": "code",
   "execution_count": 26,
   "metadata": {},
   "outputs": [
    {
     "name": "stdout",
     "output_type": "stream",
     "text": [
      "535 ns ± 2.43 ns per loop (mean ± std. dev. of 7 runs, 1000000 loops each)\n"
     ]
    }
   ],
   "source": [
    "%%timeit\n",
    "\n",
    "v1 + v2"
   ]
  },
  {
   "cell_type": "markdown",
   "metadata": {},
   "source": [
    "Numpy 非常重要原因：因为numpy通过c语言实现了大量的操作，而且通过memoryview的方式，直接将数字没有进过赋值，就可以运算，导致运算速度非常快！"
   ]
  },
  {
   "cell_type": "markdown",
   "metadata": {},
   "source": [
    "+ tensorflow \n",
    "+ Pytorch \n",
    "+ 都是大量参考了numpy"
   ]
  },
  {
   "cell_type": "markdown",
   "metadata": {},
   "source": [
    "## axis 是什么呢？"
   ]
  },
  {
   "cell_type": "code",
   "execution_count": 33,
   "metadata": {},
   "outputs": [],
   "source": [
    "m1 = np.array([\n",
    " [1, 2], \n",
    " [3, 4],\n",
    " [5, 6],\n",
    "])\n",
    "\n",
    "m2 = np.array([\n",
    " [-1, -2], \n",
    " [-3, -4],\n",
    " [-5, -6],\n",
    "])"
   ]
  },
  {
   "cell_type": "code",
   "execution_count": 47,
   "metadata": {},
   "outputs": [
    {
     "data": {
      "text/plain": [
       "array([[  9,  12],\n",
       "       [ -9, -12]])"
      ]
     },
     "execution_count": 47,
     "metadata": {},
     "output_type": "execute_result"
    }
   ],
   "source": [
    "np.sum([m1, m2], axis=1)"
   ]
  },
  {
   "cell_type": "code",
   "execution_count": 42,
   "metadata": {},
   "outputs": [],
   "source": [
    "m4 = np.array([\n",
    "    m1, m2\n",
    "])"
   ]
  },
  {
   "cell_type": "code",
   "execution_count": 44,
   "metadata": {},
   "outputs": [
    {
     "data": {
      "text/plain": [
       "(2, 3, 2)"
      ]
     },
     "execution_count": 44,
     "metadata": {},
     "output_type": "execute_result"
    }
   ],
   "source": [
    "m4.shape"
   ]
  },
  {
   "cell_type": "code",
   "execution_count": 41,
   "metadata": {},
   "outputs": [],
   "source": [
    "m3 = np.array([\n",
    "    [1, 2, 3],\n",
    "    [-1, -2, -3]\n",
    "])"
   ]
  },
  {
   "cell_type": "code",
   "execution_count": 40,
   "metadata": {},
   "outputs": [
    {
     "data": {
      "text/plain": [
       "(2, 3)"
      ]
     },
     "execution_count": 40,
     "metadata": {},
     "output_type": "execute_result"
    }
   ],
   "source": [
    "m3.shape"
   ]
  },
  {
   "cell_type": "code",
   "execution_count": 38,
   "metadata": {},
   "outputs": [
    {
     "data": {
      "text/plain": [
       "(3, 2)"
      ]
     },
     "execution_count": 38,
     "metadata": {},
     "output_type": "execute_result"
    }
   ],
   "source": [
    "m1.shape"
   ]
  },
  {
   "cell_type": "code",
   "execution_count": 35,
   "metadata": {},
   "outputs": [
    {
     "data": {
      "text/plain": [
       "0"
      ]
     },
     "execution_count": 35,
     "metadata": {},
     "output_type": "execute_result"
    }
   ],
   "source": [
    "np.sum([m1, m2])"
   ]
  },
  {
   "cell_type": "code",
   "execution_count": 36,
   "metadata": {},
   "outputs": [
    {
     "data": {
      "text/plain": [
       "array([[0, 0],\n",
       "       [0, 0],\n",
       "       [0, 0]])"
      ]
     },
     "execution_count": 36,
     "metadata": {},
     "output_type": "execute_result"
    }
   ],
   "source": [
    "np.sum([m1, m2], axis=0)"
   ]
  },
  {
   "cell_type": "code",
   "execution_count": 32,
   "metadata": {},
   "outputs": [
    {
     "data": {
      "text/plain": [
       "0"
      ]
     },
     "execution_count": 32,
     "metadata": {},
     "output_type": "execute_result"
    }
   ],
   "source": [
    "np.sum([v1, v2])"
   ]
  },
  {
   "cell_type": "code",
   "execution_count": 31,
   "metadata": {},
   "outputs": [
    {
     "data": {
      "text/plain": [
       "array([0, 0, 0, 0, 0, 0, 0, 0, 0, 0, 0, 0, 0, 0, 0, 0, 0, 0, 0, 0, 0, 0,\n",
       "       0, 0, 0, 0, 0, 0, 0, 0, 0, 0, 0, 0, 0, 0, 0, 0, 0, 0, 0, 0, 0, 0,\n",
       "       0, 0, 0, 0, 0, 0, 0, 0, 0, 0, 0, 0, 0, 0, 0, 0, 0, 0, 0, 0, 0, 0,\n",
       "       0, 0, 0, 0, 0, 0, 0, 0, 0, 0, 0, 0, 0, 0, 0, 0, 0, 0, 0, 0, 0, 0,\n",
       "       0, 0, 0, 0, 0, 0, 0, 0, 0, 0, 0, 0, 0, 0, 0, 0, 0, 0, 0, 0, 0, 0,\n",
       "       0, 0, 0, 0, 0, 0, 0, 0, 0, 0, 0, 0, 0, 0, 0, 0, 0, 0, 0, 0, 0, 0,\n",
       "       0, 0, 0, 0, 0, 0, 0, 0, 0, 0, 0, 0, 0, 0, 0, 0, 0, 0, 0, 0, 0, 0,\n",
       "       0, 0, 0, 0, 0, 0, 0, 0, 0, 0, 0, 0, 0, 0, 0, 0, 0, 0, 0, 0, 0, 0,\n",
       "       0, 0, 0, 0, 0, 0, 0, 0, 0, 0, 0, 0, 0, 0, 0, 0, 0, 0, 0, 0, 0, 0,\n",
       "       0, 0, 0, 0, 0, 0, 0, 0, 0, 0, 0, 0, 0, 0, 0, 0, 0, 0, 0, 0, 0, 0,\n",
       "       0, 0, 0, 0, 0, 0, 0, 0, 0, 0, 0, 0, 0, 0, 0, 0, 0, 0, 0, 0, 0, 0,\n",
       "       0, 0, 0, 0, 0, 0, 0, 0, 0, 0, 0, 0, 0, 0, 0, 0, 0, 0, 0, 0, 0, 0,\n",
       "       0, 0, 0, 0, 0, 0, 0, 0, 0, 0, 0, 0, 0, 0, 0, 0, 0, 0, 0, 0, 0, 0,\n",
       "       0, 0, 0, 0, 0, 0, 0, 0, 0, 0, 0, 0, 0, 0])"
      ]
     },
     "execution_count": 31,
     "metadata": {},
     "output_type": "execute_result"
    }
   ],
   "source": [
    "np.sum([v1, v2], axis=0)"
   ]
  },
  {
   "cell_type": "code",
   "execution_count": 62,
   "metadata": {},
   "outputs": [
    {
     "data": {
      "text/plain": [
       "array([[ 1,  2],\n",
       "       [ 3,  4],\n",
       "       [ 5,  6],\n",
       "       [-1, -2],\n",
       "       [-3, -4],\n",
       "       [-5, -6]])"
      ]
     },
     "execution_count": 62,
     "metadata": {},
     "output_type": "execute_result"
    }
   ],
   "source": [
    "np.concatenate([m1, m2], axis=0)"
   ]
  },
  {
   "cell_type": "code",
   "execution_count": 51,
   "metadata": {},
   "outputs": [
    {
     "data": {
      "text/plain": [
       "array([[ 1,  2, -1, -2],\n",
       "       [ 3,  4, -3, -4],\n",
       "       [ 5,  6, -5, -6]])"
      ]
     },
     "execution_count": 51,
     "metadata": {},
     "output_type": "execute_result"
    }
   ],
   "source": [
    "np.concatenate([m1, m2], axis=1)"
   ]
  },
  {
   "cell_type": "code",
   "execution_count": 103,
   "metadata": {},
   "outputs": [
    {
     "data": {
      "text/plain": [
       "(3, 2, 20)"
      ]
     },
     "execution_count": 103,
     "metadata": {},
     "output_type": "execute_result"
    }
   ],
   "source": [
    "np.stack([m1, m2] * 10, axis=2).shape"
   ]
  },
  {
   "cell_type": "code",
   "execution_count": 99,
   "metadata": {},
   "outputs": [
    {
     "name": "stdout",
     "output_type": "stream",
     "text": [
      "Help on function stack in module numpy:\n",
      "\n",
      "stack(arrays, axis=0, out=None)\n",
      "    Join a sequence of arrays along a new axis.\n",
      "    \n",
      "    The ``axis`` parameter specifies the index of the new axis in the\n",
      "    dimensions of the result. For example, if ``axis=0`` it will be the first\n",
      "    dimension and if ``axis=-1`` it will be the last dimension.\n",
      "    \n",
      "    .. versionadded:: 1.10.0\n",
      "    \n",
      "    Parameters\n",
      "    ----------\n",
      "    arrays : sequence of array_like\n",
      "        Each array must have the same shape.\n",
      "    \n",
      "    axis : int, optional\n",
      "        The axis in the result array along which the input arrays are stacked.\n",
      "    \n",
      "    out : ndarray, optional\n",
      "        If provided, the destination to place the result. The shape must be\n",
      "        correct, matching that of what stack would have returned if no\n",
      "        out argument were specified.\n",
      "    \n",
      "    Returns\n",
      "    -------\n",
      "    stacked : ndarray\n",
      "        The stacked array has one more dimension than the input arrays.\n",
      "    \n",
      "    See Also\n",
      "    --------\n",
      "    concatenate : Join a sequence of arrays along an existing axis.\n",
      "    split : Split array into a list of multiple sub-arrays of equal size.\n",
      "    block : Assemble arrays from blocks.\n",
      "    \n",
      "    Examples\n",
      "    --------\n",
      "    >>> arrays = [np.random.randn(3, 4) for _ in range(10)]\n",
      "    >>> np.stack(arrays, axis=0).shape\n",
      "    (10, 3, 4)\n",
      "    \n",
      "    >>> np.stack(arrays, axis=1).shape\n",
      "    (3, 10, 4)\n",
      "    \n",
      "    >>> np.stack(arrays, axis=2).shape\n",
      "    (3, 4, 10)\n",
      "    \n",
      "    >>> a = np.array([1, 2, 3])\n",
      "    >>> b = np.array([2, 3, 4])\n",
      "    >>> np.stack((a, b))\n",
      "    array([[1, 2, 3],\n",
      "           [2, 3, 4]])\n",
      "    \n",
      "    >>> np.stack((a, b), axis=-1)\n",
      "    array([[1, 2],\n",
      "           [2, 3],\n",
      "           [3, 4]])\n",
      "\n"
     ]
    }
   ],
   "source": [
    "help(np.stack)"
   ]
  },
  {
   "cell_type": "code",
   "execution_count": 97,
   "metadata": {},
   "outputs": [
    {
     "data": {
      "text/plain": [
       "array([[1, 2],\n",
       "       [3, 4],\n",
       "       [5, 6]])"
      ]
     },
     "execution_count": 97,
     "metadata": {},
     "output_type": "execute_result"
    }
   ],
   "source": [
    "m1"
   ]
  },
  {
   "cell_type": "code",
   "execution_count": 98,
   "metadata": {},
   "outputs": [
    {
     "data": {
      "text/plain": [
       "array([[-1, -2],\n",
       "       [-3, -4],\n",
       "       [-5, -6]])"
      ]
     },
     "execution_count": 98,
     "metadata": {},
     "output_type": "execute_result"
    }
   ],
   "source": [
    "m2"
   ]
  },
  {
   "cell_type": "code",
   "execution_count": 96,
   "metadata": {},
   "outputs": [
    {
     "data": {
      "text/plain": [
       "array([[[ 1,  2],\n",
       "        [-1, -2]],\n",
       "\n",
       "       [[ 3,  4],\n",
       "        [-3, -4]],\n",
       "\n",
       "       [[ 5,  6],\n",
       "        [-5, -6]]])"
      ]
     },
     "execution_count": 96,
     "metadata": {},
     "output_type": "execute_result"
    }
   ],
   "source": [
    "np.stack([m1, m2], axis=1)"
   ]
  },
  {
   "cell_type": "code",
   "execution_count": 94,
   "metadata": {},
   "outputs": [
    {
     "data": {
      "text/plain": [
       "(3, 2, 2)"
      ]
     },
     "execution_count": 94,
     "metadata": {},
     "output_type": "execute_result"
    }
   ],
   "source": [
    "np.stack([m1, m2], axis=1).shape"
   ]
  },
  {
   "cell_type": "code",
   "execution_count": 73,
   "metadata": {},
   "outputs": [],
   "source": [
    "stacked_trainig_data = np.stack([m1, m2] * 10000, axis=0)"
   ]
  },
  {
   "cell_type": "code",
   "execution_count": 79,
   "metadata": {},
   "outputs": [
    {
     "data": {
      "text/plain": [
       "(20000, 3, 2)"
      ]
     },
     "execution_count": 79,
     "metadata": {},
     "output_type": "execute_result"
    }
   ],
   "source": [
    "stacked_trainig_data.shape"
   ]
  },
  {
   "cell_type": "code",
   "execution_count": 90,
   "metadata": {},
   "outputs": [],
   "source": [
    "indices = np.random.choice(range(len(stacked_trainig_data)), size=100)"
   ]
  },
  {
   "cell_type": "code",
   "execution_count": 113,
   "metadata": {},
   "outputs": [
    {
     "data": {
      "text/plain": [
       "4"
      ]
     },
     "execution_count": 113,
     "metadata": {},
     "output_type": "execute_result"
    }
   ],
   "source": [
    "stacked_trainig_data[(0, 1, 1)]"
   ]
  },
  {
   "cell_type": "code",
   "execution_count": 116,
   "metadata": {
    "collapsed": true
   },
   "outputs": [
    {
     "data": {
      "text/plain": [
       "array([[[ 1,  2],\n",
       "        [ 3,  4],\n",
       "        [ 5,  6]],\n",
       "\n",
       "       [[-1, -2],\n",
       "        [-3, -4],\n",
       "        [-5, -6]],\n",
       "\n",
       "       [[ 1,  2],\n",
       "        [ 3,  4],\n",
       "        [ 5,  6]],\n",
       "\n",
       "       [[-1, -2],\n",
       "        [-3, -4],\n",
       "        [-5, -6]],\n",
       "\n",
       "       [[ 1,  2],\n",
       "        [ 3,  4],\n",
       "        [ 5,  6]]])"
      ]
     },
     "execution_count": 116,
     "metadata": {},
     "output_type": "execute_result"
    }
   ],
   "source": [
    "stacked_trainig_data[np.array([0, 1, 2, 3, 4])]"
   ]
  },
  {
   "cell_type": "code",
   "execution_count": 91,
   "metadata": {
    "collapsed": true
   },
   "outputs": [
    {
     "data": {
      "text/plain": [
       "array([[[ 1,  2],\n",
       "        [ 3,  4],\n",
       "        [ 5,  6]],\n",
       "\n",
       "       [[-1, -2],\n",
       "        [-3, -4],\n",
       "        [-5, -6]],\n",
       "\n",
       "       [[-1, -2],\n",
       "        [-3, -4],\n",
       "        [-5, -6]],\n",
       "\n",
       "       [[ 1,  2],\n",
       "        [ 3,  4],\n",
       "        [ 5,  6]],\n",
       "\n",
       "       [[ 1,  2],\n",
       "        [ 3,  4],\n",
       "        [ 5,  6]],\n",
       "\n",
       "       [[-1, -2],\n",
       "        [-3, -4],\n",
       "        [-5, -6]],\n",
       "\n",
       "       [[ 1,  2],\n",
       "        [ 3,  4],\n",
       "        [ 5,  6]],\n",
       "\n",
       "       [[-1, -2],\n",
       "        [-3, -4],\n",
       "        [-5, -6]],\n",
       "\n",
       "       [[ 1,  2],\n",
       "        [ 3,  4],\n",
       "        [ 5,  6]],\n",
       "\n",
       "       [[-1, -2],\n",
       "        [-3, -4],\n",
       "        [-5, -6]],\n",
       "\n",
       "       [[ 1,  2],\n",
       "        [ 3,  4],\n",
       "        [ 5,  6]],\n",
       "\n",
       "       [[-1, -2],\n",
       "        [-3, -4],\n",
       "        [-5, -6]],\n",
       "\n",
       "       [[-1, -2],\n",
       "        [-3, -4],\n",
       "        [-5, -6]],\n",
       "\n",
       "       [[-1, -2],\n",
       "        [-3, -4],\n",
       "        [-5, -6]],\n",
       "\n",
       "       [[ 1,  2],\n",
       "        [ 3,  4],\n",
       "        [ 5,  6]],\n",
       "\n",
       "       [[-1, -2],\n",
       "        [-3, -4],\n",
       "        [-5, -6]],\n",
       "\n",
       "       [[ 1,  2],\n",
       "        [ 3,  4],\n",
       "        [ 5,  6]],\n",
       "\n",
       "       [[-1, -2],\n",
       "        [-3, -4],\n",
       "        [-5, -6]],\n",
       "\n",
       "       [[ 1,  2],\n",
       "        [ 3,  4],\n",
       "        [ 5,  6]],\n",
       "\n",
       "       [[ 1,  2],\n",
       "        [ 3,  4],\n",
       "        [ 5,  6]],\n",
       "\n",
       "       [[-1, -2],\n",
       "        [-3, -4],\n",
       "        [-5, -6]],\n",
       "\n",
       "       [[ 1,  2],\n",
       "        [ 3,  4],\n",
       "        [ 5,  6]],\n",
       "\n",
       "       [[-1, -2],\n",
       "        [-3, -4],\n",
       "        [-5, -6]],\n",
       "\n",
       "       [[-1, -2],\n",
       "        [-3, -4],\n",
       "        [-5, -6]],\n",
       "\n",
       "       [[-1, -2],\n",
       "        [-3, -4],\n",
       "        [-5, -6]],\n",
       "\n",
       "       [[ 1,  2],\n",
       "        [ 3,  4],\n",
       "        [ 5,  6]],\n",
       "\n",
       "       [[-1, -2],\n",
       "        [-3, -4],\n",
       "        [-5, -6]],\n",
       "\n",
       "       [[ 1,  2],\n",
       "        [ 3,  4],\n",
       "        [ 5,  6]],\n",
       "\n",
       "       [[ 1,  2],\n",
       "        [ 3,  4],\n",
       "        [ 5,  6]],\n",
       "\n",
       "       [[-1, -2],\n",
       "        [-3, -4],\n",
       "        [-5, -6]],\n",
       "\n",
       "       [[-1, -2],\n",
       "        [-3, -4],\n",
       "        [-5, -6]],\n",
       "\n",
       "       [[ 1,  2],\n",
       "        [ 3,  4],\n",
       "        [ 5,  6]],\n",
       "\n",
       "       [[ 1,  2],\n",
       "        [ 3,  4],\n",
       "        [ 5,  6]],\n",
       "\n",
       "       [[-1, -2],\n",
       "        [-3, -4],\n",
       "        [-5, -6]],\n",
       "\n",
       "       [[-1, -2],\n",
       "        [-3, -4],\n",
       "        [-5, -6]],\n",
       "\n",
       "       [[-1, -2],\n",
       "        [-3, -4],\n",
       "        [-5, -6]],\n",
       "\n",
       "       [[-1, -2],\n",
       "        [-3, -4],\n",
       "        [-5, -6]],\n",
       "\n",
       "       [[ 1,  2],\n",
       "        [ 3,  4],\n",
       "        [ 5,  6]],\n",
       "\n",
       "       [[ 1,  2],\n",
       "        [ 3,  4],\n",
       "        [ 5,  6]],\n",
       "\n",
       "       [[ 1,  2],\n",
       "        [ 3,  4],\n",
       "        [ 5,  6]],\n",
       "\n",
       "       [[ 1,  2],\n",
       "        [ 3,  4],\n",
       "        [ 5,  6]],\n",
       "\n",
       "       [[-1, -2],\n",
       "        [-3, -4],\n",
       "        [-5, -6]],\n",
       "\n",
       "       [[ 1,  2],\n",
       "        [ 3,  4],\n",
       "        [ 5,  6]],\n",
       "\n",
       "       [[ 1,  2],\n",
       "        [ 3,  4],\n",
       "        [ 5,  6]],\n",
       "\n",
       "       [[ 1,  2],\n",
       "        [ 3,  4],\n",
       "        [ 5,  6]],\n",
       "\n",
       "       [[ 1,  2],\n",
       "        [ 3,  4],\n",
       "        [ 5,  6]],\n",
       "\n",
       "       [[ 1,  2],\n",
       "        [ 3,  4],\n",
       "        [ 5,  6]],\n",
       "\n",
       "       [[-1, -2],\n",
       "        [-3, -4],\n",
       "        [-5, -6]],\n",
       "\n",
       "       [[-1, -2],\n",
       "        [-3, -4],\n",
       "        [-5, -6]],\n",
       "\n",
       "       [[-1, -2],\n",
       "        [-3, -4],\n",
       "        [-5, -6]],\n",
       "\n",
       "       [[-1, -2],\n",
       "        [-3, -4],\n",
       "        [-5, -6]],\n",
       "\n",
       "       [[-1, -2],\n",
       "        [-3, -4],\n",
       "        [-5, -6]],\n",
       "\n",
       "       [[ 1,  2],\n",
       "        [ 3,  4],\n",
       "        [ 5,  6]],\n",
       "\n",
       "       [[-1, -2],\n",
       "        [-3, -4],\n",
       "        [-5, -6]],\n",
       "\n",
       "       [[-1, -2],\n",
       "        [-3, -4],\n",
       "        [-5, -6]],\n",
       "\n",
       "       [[ 1,  2],\n",
       "        [ 3,  4],\n",
       "        [ 5,  6]],\n",
       "\n",
       "       [[-1, -2],\n",
       "        [-3, -4],\n",
       "        [-5, -6]],\n",
       "\n",
       "       [[-1, -2],\n",
       "        [-3, -4],\n",
       "        [-5, -6]],\n",
       "\n",
       "       [[-1, -2],\n",
       "        [-3, -4],\n",
       "        [-5, -6]],\n",
       "\n",
       "       [[-1, -2],\n",
       "        [-3, -4],\n",
       "        [-5, -6]],\n",
       "\n",
       "       [[ 1,  2],\n",
       "        [ 3,  4],\n",
       "        [ 5,  6]],\n",
       "\n",
       "       [[ 1,  2],\n",
       "        [ 3,  4],\n",
       "        [ 5,  6]],\n",
       "\n",
       "       [[-1, -2],\n",
       "        [-3, -4],\n",
       "        [-5, -6]],\n",
       "\n",
       "       [[ 1,  2],\n",
       "        [ 3,  4],\n",
       "        [ 5,  6]],\n",
       "\n",
       "       [[-1, -2],\n",
       "        [-3, -4],\n",
       "        [-5, -6]],\n",
       "\n",
       "       [[ 1,  2],\n",
       "        [ 3,  4],\n",
       "        [ 5,  6]],\n",
       "\n",
       "       [[-1, -2],\n",
       "        [-3, -4],\n",
       "        [-5, -6]],\n",
       "\n",
       "       [[ 1,  2],\n",
       "        [ 3,  4],\n",
       "        [ 5,  6]],\n",
       "\n",
       "       [[ 1,  2],\n",
       "        [ 3,  4],\n",
       "        [ 5,  6]],\n",
       "\n",
       "       [[-1, -2],\n",
       "        [-3, -4],\n",
       "        [-5, -6]],\n",
       "\n",
       "       [[ 1,  2],\n",
       "        [ 3,  4],\n",
       "        [ 5,  6]],\n",
       "\n",
       "       [[-1, -2],\n",
       "        [-3, -4],\n",
       "        [-5, -6]],\n",
       "\n",
       "       [[ 1,  2],\n",
       "        [ 3,  4],\n",
       "        [ 5,  6]],\n",
       "\n",
       "       [[-1, -2],\n",
       "        [-3, -4],\n",
       "        [-5, -6]],\n",
       "\n",
       "       [[ 1,  2],\n",
       "        [ 3,  4],\n",
       "        [ 5,  6]],\n",
       "\n",
       "       [[ 1,  2],\n",
       "        [ 3,  4],\n",
       "        [ 5,  6]],\n",
       "\n",
       "       [[ 1,  2],\n",
       "        [ 3,  4],\n",
       "        [ 5,  6]],\n",
       "\n",
       "       [[ 1,  2],\n",
       "        [ 3,  4],\n",
       "        [ 5,  6]],\n",
       "\n",
       "       [[ 1,  2],\n",
       "        [ 3,  4],\n",
       "        [ 5,  6]],\n",
       "\n",
       "       [[ 1,  2],\n",
       "        [ 3,  4],\n",
       "        [ 5,  6]],\n",
       "\n",
       "       [[-1, -2],\n",
       "        [-3, -4],\n",
       "        [-5, -6]],\n",
       "\n",
       "       [[-1, -2],\n",
       "        [-3, -4],\n",
       "        [-5, -6]],\n",
       "\n",
       "       [[ 1,  2],\n",
       "        [ 3,  4],\n",
       "        [ 5,  6]],\n",
       "\n",
       "       [[-1, -2],\n",
       "        [-3, -4],\n",
       "        [-5, -6]],\n",
       "\n",
       "       [[ 1,  2],\n",
       "        [ 3,  4],\n",
       "        [ 5,  6]],\n",
       "\n",
       "       [[ 1,  2],\n",
       "        [ 3,  4],\n",
       "        [ 5,  6]],\n",
       "\n",
       "       [[-1, -2],\n",
       "        [-3, -4],\n",
       "        [-5, -6]],\n",
       "\n",
       "       [[-1, -2],\n",
       "        [-3, -4],\n",
       "        [-5, -6]],\n",
       "\n",
       "       [[ 1,  2],\n",
       "        [ 3,  4],\n",
       "        [ 5,  6]],\n",
       "\n",
       "       [[ 1,  2],\n",
       "        [ 3,  4],\n",
       "        [ 5,  6]],\n",
       "\n",
       "       [[-1, -2],\n",
       "        [-3, -4],\n",
       "        [-5, -6]],\n",
       "\n",
       "       [[ 1,  2],\n",
       "        [ 3,  4],\n",
       "        [ 5,  6]],\n",
       "\n",
       "       [[-1, -2],\n",
       "        [-3, -4],\n",
       "        [-5, -6]],\n",
       "\n",
       "       [[-1, -2],\n",
       "        [-3, -4],\n",
       "        [-5, -6]],\n",
       "\n",
       "       [[-1, -2],\n",
       "        [-3, -4],\n",
       "        [-5, -6]],\n",
       "\n",
       "       [[ 1,  2],\n",
       "        [ 3,  4],\n",
       "        [ 5,  6]],\n",
       "\n",
       "       [[ 1,  2],\n",
       "        [ 3,  4],\n",
       "        [ 5,  6]],\n",
       "\n",
       "       [[ 1,  2],\n",
       "        [ 3,  4],\n",
       "        [ 5,  6]],\n",
       "\n",
       "       [[ 1,  2],\n",
       "        [ 3,  4],\n",
       "        [ 5,  6]],\n",
       "\n",
       "       [[ 1,  2],\n",
       "        [ 3,  4],\n",
       "        [ 5,  6]]])"
      ]
     },
     "execution_count": 91,
     "metadata": {},
     "output_type": "execute_result"
    }
   ],
   "source": [
    "stacked_trainig_data[indices]"
   ]
  },
  {
   "cell_type": "code",
   "execution_count": 119,
   "metadata": {},
   "outputs": [
    {
     "data": {
      "text/plain": [
       "0.0"
      ]
     },
     "execution_count": 119,
     "metadata": {},
     "output_type": "execute_result"
    }
   ],
   "source": [
    "np.mean(stacked_trainig_data)"
   ]
  },
  {
   "cell_type": "code",
   "execution_count": 126,
   "metadata": {},
   "outputs": [
    {
     "data": {
      "text/plain": [
       "array([[1, 2],\n",
       "       [3, 4],\n",
       "       [5, 6]])"
      ]
     },
     "execution_count": 126,
     "metadata": {},
     "output_type": "execute_result"
    }
   ],
   "source": [
    "m1"
   ]
  },
  {
   "cell_type": "code",
   "execution_count": 125,
   "metadata": {},
   "outputs": [
    {
     "data": {
      "text/plain": [
       "array([3., 4.])"
      ]
     },
     "execution_count": 125,
     "metadata": {},
     "output_type": "execute_result"
    }
   ],
   "source": [
    "np.mean(m1, axis=0)"
   ]
  },
  {
   "cell_type": "code",
   "execution_count": 127,
   "metadata": {},
   "outputs": [
    {
     "data": {
      "text/plain": [
       "array([1.5, 3.5, 5.5])"
      ]
     },
     "execution_count": 127,
     "metadata": {},
     "output_type": "execute_result"
    }
   ],
   "source": [
    "np.mean(m1, axis=1)"
   ]
  },
  {
   "cell_type": "code",
   "execution_count": 120,
   "metadata": {},
   "outputs": [
    {
     "data": {
      "text/plain": [
       "array([[0., 0.],\n",
       "       [0., 0.],\n",
       "       [0., 0.]])"
      ]
     },
     "execution_count": 120,
     "metadata": {},
     "output_type": "execute_result"
    }
   ],
   "source": [
    "np.mean(stacked_trainig_data, axis=0)"
   ]
  },
  {
   "cell_type": "code",
   "execution_count": 121,
   "metadata": {},
   "outputs": [
    {
     "data": {
      "text/plain": [
       "array([[ 3.,  4.],\n",
       "       [-3., -4.],\n",
       "       [ 3.,  4.],\n",
       "       ...,\n",
       "       [-3., -4.],\n",
       "       [ 3.,  4.],\n",
       "       [-3., -4.]])"
      ]
     },
     "execution_count": 121,
     "metadata": {},
     "output_type": "execute_result"
    }
   ],
   "source": [
    "np.mean(stacked_trainig_data, axis=1)"
   ]
  },
  {
   "cell_type": "code",
   "execution_count": 122,
   "metadata": {},
   "outputs": [
    {
     "data": {
      "text/plain": [
       "array([[ 1.5,  3.5,  5.5],\n",
       "       [-1.5, -3.5, -5.5],\n",
       "       [ 1.5,  3.5,  5.5],\n",
       "       ...,\n",
       "       [-1.5, -3.5, -5.5],\n",
       "       [ 1.5,  3.5,  5.5],\n",
       "       [-1.5, -3.5, -5.5]])"
      ]
     },
     "execution_count": 122,
     "metadata": {},
     "output_type": "execute_result"
    }
   ],
   "source": [
    "np.mean(stacked_trainig_data, axis=2)"
   ]
  },
  {
   "cell_type": "markdown",
   "metadata": {},
   "source": [
    "### Different. Initialized and Size"
   ]
  },
  {
   "cell_type": "code",
   "execution_count": 132,
   "metadata": {},
   "outputs": [],
   "source": [
    "m_5 = np.array([0 ,1 ,2 ,3, 4, ])"
   ]
  },
  {
   "cell_type": "code",
   "execution_count": 131,
   "metadata": {},
   "outputs": [
    {
     "data": {
      "text/plain": [
       "array([[0., 0., 0.],\n",
       "       [0., 0., 0.],\n",
       "       [0., 0., 0.]])"
      ]
     },
     "execution_count": 131,
     "metadata": {},
     "output_type": "execute_result"
    }
   ],
   "source": [
    "np.zeros((3, 3))"
   ]
  },
  {
   "cell_type": "code",
   "execution_count": 133,
   "metadata": {},
   "outputs": [
    {
     "data": {
      "text/plain": [
       "array([0, 0, 0, 0, 0])"
      ]
     },
     "execution_count": 133,
     "metadata": {},
     "output_type": "execute_result"
    }
   ],
   "source": [
    "np.zeros_like(m_5)"
   ]
  },
  {
   "cell_type": "code",
   "execution_count": 136,
   "metadata": {},
   "outputs": [
    {
     "data": {
      "text/plain": [
       "array([1, 1, 1, 1, 1])"
      ]
     },
     "execution_count": 136,
     "metadata": {},
     "output_type": "execute_result"
    }
   ],
   "source": [
    "np.ones((10, 10))\n",
    "np.ones_like(m_5)"
   ]
  },
  {
   "cell_type": "code",
   "execution_count": 138,
   "metadata": {},
   "outputs": [
    {
     "name": "stdout",
     "output_type": "stream",
     "text": [
      "Help on built-in function empty in module numpy:\n",
      "\n",
      "empty(...)\n",
      "    empty(shape, dtype=float, order='C')\n",
      "    \n",
      "    Return a new array of given shape and type, without initializing entries.\n",
      "    \n",
      "    Parameters\n",
      "    ----------\n",
      "    shape : int or tuple of int\n",
      "        Shape of the empty array, e.g., ``(2, 3)`` or ``2``.\n",
      "    dtype : data-type, optional\n",
      "        Desired output data-type for the array, e.g, `numpy.int8`. Default is\n",
      "        `numpy.float64`.\n",
      "    order : {'C', 'F'}, optional, default: 'C'\n",
      "        Whether to store multi-dimensional data in row-major\n",
      "        (C-style) or column-major (Fortran-style) order in\n",
      "        memory.\n",
      "    \n",
      "    Returns\n",
      "    -------\n",
      "    out : ndarray\n",
      "        Array of uninitialized (arbitrary) data of the given shape, dtype, and\n",
      "        order.  Object arrays will be initialized to None.\n",
      "    \n",
      "    See Also\n",
      "    --------\n",
      "    empty_like : Return an empty array with shape and type of input.\n",
      "    ones : Return a new array setting values to one.\n",
      "    zeros : Return a new array setting values to zero.\n",
      "    full : Return a new array of given shape filled with value.\n",
      "    \n",
      "    \n",
      "    Notes\n",
      "    -----\n",
      "    `empty`, unlike `zeros`, does not set the array values to zero,\n",
      "    and may therefore be marginally faster.  On the other hand, it requires\n",
      "    the user to manually set all the values in the array, and should be\n",
      "    used with caution.\n",
      "    \n",
      "    Examples\n",
      "    --------\n",
      "    >>> np.empty([2, 2])\n",
      "    array([[ -9.74499359e+001,   6.69583040e-309],\n",
      "           [  2.13182611e-314,   3.06959433e-309]])         #uninitialized\n",
      "    \n",
      "    >>> np.empty([2, 2], dtype=int)\n",
      "    array([[-1073741821, -1067949133],\n",
      "           [  496041986,    19249760]])                     #uninitialized\n",
      "\n"
     ]
    }
   ],
   "source": [
    "help(np.empty)"
   ]
  },
  {
   "cell_type": "code",
   "execution_count": 137,
   "metadata": {},
   "outputs": [
    {
     "data": {
      "text/plain": [
       "array([[0.00000000e+000, 2.47032823e-323, 0.00000000e+000],\n",
       "       [0.00000000e+000, 0.00000000e+000, 5.02034658e+175],\n",
       "       [1.10547134e+165, 3.24979765e-057, 2.44997269e-056],\n",
       "       [1.32787036e-075, 1.47763641e+248, 1.16096346e-028],\n",
       "       [7.69165785e+218, 1.35617292e+248, 3.58801215e+175],\n",
       "       [3.42044456e-032, 1.65636678e-047, 2.51361175e+180],\n",
       "       [4.26581191e-096, 6.32299154e+233, 3.65588282e+233],\n",
       "       [1.74569531e+238, 1.11763132e+261, 1.16318408e-028],\n",
       "       [2.24729310e+174, 1.56605686e-076, 1.08535842e-071],\n",
       "       [4.17328100e-057, 2.00375949e-052, 2.66289656e-312]])"
      ]
     },
     "execution_count": 137,
     "metadata": {},
     "output_type": "execute_result"
    }
   ],
   "source": [
    "np.empty((10, 3))"
   ]
  },
  {
   "cell_type": "code",
   "execution_count": 140,
   "metadata": {},
   "outputs": [
    {
     "name": "stdout",
     "output_type": "stream",
     "text": [
      "Help on function full in module numpy:\n",
      "\n",
      "full(shape, fill_value, dtype=None, order='C')\n",
      "    Return a new array of given shape and type, filled with `fill_value`.\n",
      "    \n",
      "    Parameters\n",
      "    ----------\n",
      "    shape : int or sequence of ints\n",
      "        Shape of the new array, e.g., ``(2, 3)`` or ``2``.\n",
      "    fill_value : scalar\n",
      "        Fill value.\n",
      "    dtype : data-type, optional\n",
      "        The desired data-type for the array  The default, None, means\n",
      "         `np.array(fill_value).dtype`.\n",
      "    order : {'C', 'F'}, optional\n",
      "        Whether to store multidimensional data in C- or Fortran-contiguous\n",
      "        (row- or column-wise) order in memory.\n",
      "    \n",
      "    Returns\n",
      "    -------\n",
      "    out : ndarray\n",
      "        Array of `fill_value` with the given shape, dtype, and order.\n",
      "    \n",
      "    See Also\n",
      "    --------\n",
      "    full_like : Return a new array with shape of input filled with value.\n",
      "    empty : Return a new uninitialized array.\n",
      "    ones : Return a new array setting values to one.\n",
      "    zeros : Return a new array setting values to zero.\n",
      "    \n",
      "    Examples\n",
      "    --------\n",
      "    >>> np.full((2, 2), np.inf)\n",
      "    array([[inf, inf],\n",
      "           [inf, inf]])\n",
      "    >>> np.full((2, 2), 10)\n",
      "    array([[10, 10],\n",
      "           [10, 10]])\n",
      "\n"
     ]
    }
   ],
   "source": [
    "help(np.full)"
   ]
  },
  {
   "cell_type": "code",
   "execution_count": 142,
   "metadata": {},
   "outputs": [
    {
     "data": {
      "text/plain": [
       "array([[0.82234236, 0.68734333, 0.06556701],\n",
       "       [0.339369  , 0.19362063, 0.14487851],\n",
       "       [0.85068164, 0.03225473, 0.37730373]])"
      ]
     },
     "execution_count": 142,
     "metadata": {},
     "output_type": "execute_result"
    }
   ],
   "source": [
    "np.random.uniform(size=(3, 3))"
   ]
  },
  {
   "cell_type": "code",
   "execution_count": 146,
   "metadata": {},
   "outputs": [],
   "source": [
    "random_weights = np.random.normal(size=(10, 3))"
   ]
  },
  {
   "cell_type": "code",
   "execution_count": 147,
   "metadata": {},
   "outputs": [
    {
     "data": {
      "text/plain": [
       "array([[-1.50485355,  1.04732138, -0.05088461],\n",
       "       [ 0.99940569, -1.62339551,  0.95004181],\n",
       "       [ 0.25668254, -1.06416696, -1.61435877],\n",
       "       [ 0.26323169, -1.27279186, -1.66096579],\n",
       "       [-1.00376113, -0.6323056 ,  1.53278884],\n",
       "       [ 1.24122959,  0.36579175,  0.96935839],\n",
       "       [-0.67612973, -1.58749664, -0.05263275],\n",
       "       [ 1.73272514, -0.40487562,  0.49411906],\n",
       "       [-0.14334745, -0.14302463,  0.35964735],\n",
       "       [ 1.04434921,  0.30880889, -0.19436776]])"
      ]
     },
     "execution_count": 147,
     "metadata": {},
     "output_type": "execute_result"
    }
   ],
   "source": [
    "random_weights"
   ]
  },
  {
   "cell_type": "code",
   "execution_count": 148,
   "metadata": {},
   "outputs": [
    {
     "data": {
      "text/plain": [
       "array([[-1.50485355,  1.04732138, -0.05088461,  0.99940569, -1.62339551,\n",
       "         0.95004181],\n",
       "       [ 0.25668254, -1.06416696, -1.61435877,  0.26323169, -1.27279186,\n",
       "        -1.66096579],\n",
       "       [-1.00376113, -0.6323056 ,  1.53278884,  1.24122959,  0.36579175,\n",
       "         0.96935839],\n",
       "       [-0.67612973, -1.58749664, -0.05263275,  1.73272514, -0.40487562,\n",
       "         0.49411906],\n",
       "       [-0.14334745, -0.14302463,  0.35964735,  1.04434921,  0.30880889,\n",
       "        -0.19436776]])"
      ]
     },
     "execution_count": 148,
     "metadata": {},
     "output_type": "execute_result"
    }
   ],
   "source": [
    "random_weights.reshape(5, 6)"
   ]
  },
  {
   "cell_type": "code",
   "execution_count": 149,
   "metadata": {},
   "outputs": [
    {
     "data": {
      "text/plain": [
       "array([-1.50485355,  1.04732138, -0.05088461,  0.99940569, -1.62339551,\n",
       "        0.95004181,  0.25668254, -1.06416696, -1.61435877,  0.26323169,\n",
       "       -1.27279186, -1.66096579, -1.00376113, -0.6323056 ,  1.53278884,\n",
       "        1.24122959,  0.36579175,  0.96935839, -0.67612973, -1.58749664,\n",
       "       -0.05263275,  1.73272514, -0.40487562,  0.49411906, -0.14334745,\n",
       "       -0.14302463,  0.35964735,  1.04434921,  0.30880889, -0.19436776])"
      ]
     },
     "execution_count": 149,
     "metadata": {},
     "output_type": "execute_result"
    }
   ],
   "source": [
    "random_weights.reshape(-1)"
   ]
  },
  {
   "cell_type": "code",
   "execution_count": 150,
   "metadata": {},
   "outputs": [
    {
     "data": {
      "text/plain": [
       "array([[-1.50485355,  1.04732138, -0.05088461,  0.99940569, -1.62339551,\n",
       "         0.95004181],\n",
       "       [ 0.25668254, -1.06416696, -1.61435877,  0.26323169, -1.27279186,\n",
       "        -1.66096579],\n",
       "       [-1.00376113, -0.6323056 ,  1.53278884,  1.24122959,  0.36579175,\n",
       "         0.96935839],\n",
       "       [-0.67612973, -1.58749664, -0.05263275,  1.73272514, -0.40487562,\n",
       "         0.49411906],\n",
       "       [-0.14334745, -0.14302463,  0.35964735,  1.04434921,  0.30880889,\n",
       "        -0.19436776]])"
      ]
     },
     "execution_count": 150,
     "metadata": {},
     "output_type": "execute_result"
    }
   ],
   "source": [
    "random_weights.reshape(-1, 6)"
   ]
  },
  {
   "cell_type": "code",
   "execution_count": 163,
   "metadata": {},
   "outputs": [
    {
     "data": {
      "text/plain": [
       "array([[-1.50485355,  0.25668254, -1.00376113, -0.67612973, -0.14334745],\n",
       "       [ 1.04732138, -1.06416696, -0.6323056 , -1.58749664, -0.14302463],\n",
       "       [-0.05088461, -1.61435877,  1.53278884, -0.05263275,  0.35964735],\n",
       "       [ 0.99940569,  0.26323169,  1.24122959,  1.73272514,  1.04434921],\n",
       "       [-1.62339551, -1.27279186,  0.36579175, -0.40487562,  0.30880889],\n",
       "       [ 0.95004181, -1.66096579,  0.96935839,  0.49411906, -0.19436776]])"
      ]
     },
     "execution_count": 163,
     "metadata": {},
     "output_type": "execute_result"
    }
   ],
   "source": [
    "random_weights.reshape(-1, 6).T"
   ]
  },
  {
   "cell_type": "code",
   "execution_count": 164,
   "metadata": {},
   "outputs": [
    {
     "data": {
      "text/plain": [
       "array([[[-1.50485355,  1.04732138, -0.05088461,  0.99940569,\n",
       "         -1.62339551,  0.95004181]],\n",
       "\n",
       "       [[ 0.25668254, -1.06416696, -1.61435877,  0.26323169,\n",
       "         -1.27279186, -1.66096579]],\n",
       "\n",
       "       [[-1.00376113, -0.6323056 ,  1.53278884,  1.24122959,\n",
       "          0.36579175,  0.96935839]],\n",
       "\n",
       "       [[-0.67612973, -1.58749664, -0.05263275,  1.73272514,\n",
       "         -0.40487562,  0.49411906]],\n",
       "\n",
       "       [[-0.14334745, -0.14302463,  0.35964735,  1.04434921,\n",
       "          0.30880889, -0.19436776]]])"
      ]
     },
     "execution_count": 164,
     "metadata": {},
     "output_type": "execute_result"
    }
   ],
   "source": [
    "random_weights.reshape(-1, 1, 6)"
   ]
  },
  {
   "cell_type": "code",
   "execution_count": 145,
   "metadata": {},
   "outputs": [
    {
     "data": {
      "text/plain": [
       "array([[1., 0., 0., 0., 0., 0., 0., 0., 0., 0.],\n",
       "       [0., 1., 0., 0., 0., 0., 0., 0., 0., 0.],\n",
       "       [0., 0., 1., 0., 0., 0., 0., 0., 0., 0.],\n",
       "       [0., 0., 0., 1., 0., 0., 0., 0., 0., 0.],\n",
       "       [0., 0., 0., 0., 1., 0., 0., 0., 0., 0.],\n",
       "       [0., 0., 0., 0., 0., 1., 0., 0., 0., 0.],\n",
       "       [0., 0., 0., 0., 0., 0., 1., 0., 0., 0.],\n",
       "       [0., 0., 0., 0., 0., 0., 0., 1., 0., 0.],\n",
       "       [0., 0., 0., 0., 0., 0., 0., 0., 1., 0.],\n",
       "       [0., 0., 0., 0., 0., 0., 0., 0., 0., 1.]])"
      ]
     },
     "execution_count": 145,
     "metadata": {},
     "output_type": "execute_result"
    }
   ],
   "source": [
    "np.eye(10)"
   ]
  },
  {
   "cell_type": "code",
   "execution_count": 167,
   "metadata": {},
   "outputs": [],
   "source": [
    "m = np.genfromtxt('numbers.dat', delimiter=',')"
   ]
  },
  {
   "cell_type": "code",
   "execution_count": 174,
   "metadata": {},
   "outputs": [],
   "source": [
    "np.savetxt('new_data.dat', m)"
   ]
  },
  {
   "cell_type": "code",
   "execution_count": 175,
   "metadata": {},
   "outputs": [
    {
     "name": "stdout",
     "output_type": "stream",
     "text": [
      "lesson-14.ipynb new_data.dat    numbers.dat\r\n"
     ]
    }
   ],
   "source": [
    "!ls"
   ]
  },
  {
   "cell_type": "code",
   "execution_count": 176,
   "metadata": {},
   "outputs": [
    {
     "name": "stdout",
     "output_type": "stream",
     "text": [
      "5.819602537672219356e-01 5.087776563724527579e-01 2.784142127232769326e-03 5.957\u001b[m311390647657134e-01 8.689860709925093518e-01\u001b[m\n",
      "9.264195805336176148e-01 7.800147882622944229e-01 9.676056206751270095e-01 2.205\u001b[m256712547208897e-01 2.061922083494628355e-01\u001b[m\n",
      "6.783337181089943435e-01 5.869145106077806595e-01 2.952358654499552815e-01 3.801\u001b[m997771883158794e-01 6.889636599796673533e-01\u001b[m\n",
      "4.292230072013289988e-01 4.257627535426546928e-01 7.021841592214385086e-01 8.686\u001b[m417248472499963e-02 3.583006283237899492e-02\u001b[m\n",
      "5.263115697205873467e-01 8.799444420949060763e-01 1.194754090830576487e-01 7.479\u001b[m153109619839368e-01 9.440646400270436001e-02\u001b[m\n",
      "1.232809121329454527e-01 5.186331522192256793e-01 9.809687646542244455e-01 8.783\u001b[m019711016459841e-02 3.133205853162499555e-01\u001b[m\n",
      "7.516376862486182642e-01 8.785274617838342293e-01 8.784804332149217521e-01 8.749\u001b[m962343094666029e-01 4.158675577860713179e-01\u001b[m\n",
      "1.320108327988774866e-01 5.535512918624858614e-01 7.234839929208859433e-01 8.580\u001b[m655831714277815e-01 2.624920180979781748e-01\u001b[m\n",
      "\u001b[K\u001b[7m(END)\u001b[m\u001b[KEND)\u001b[m\u001b[K\u0007"
     ]
    }
   ],
   "source": [
    "!less new_data.dat"
   ]
  },
  {
   "cell_type": "markdown",
   "metadata": {},
   "source": [
    "## Data Access"
   ]
  },
  {
   "cell_type": "code",
   "execution_count": 181,
   "metadata": {},
   "outputs": [
    {
     "data": {
      "text/plain": [
       "(8, 5)"
      ]
     },
     "execution_count": 181,
     "metadata": {},
     "output_type": "execute_result"
    }
   ],
   "source": [
    "m.shape"
   ]
  },
  {
   "cell_type": "code",
   "execution_count": 183,
   "metadata": {},
   "outputs": [
    {
     "data": {
      "text/plain": [
       "array([[0.58196025, 0.50877766, 0.00278414, 0.59573114, 0.86898607],\n",
       "       [0.92641958, 0.78001479, 0.96760562, 0.22052567, 0.20619221],\n",
       "       [0.67833372, 0.58691451, 0.29523587, 0.38019978, 0.68896366],\n",
       "       [0.42922301, 0.42576275, 0.70218416, 0.08686417, 0.03583006],\n",
       "       [0.52631157, 0.87994444, 0.11947541, 0.74791531, 0.09440646],\n",
       "       [0.12328091, 0.51863315, 0.98096876, 0.0878302 , 0.31332059],\n",
       "       [0.75163769, 0.87852746, 0.87848043, 0.87499623, 0.41586756],\n",
       "       [0.13201083, 0.55355129, 0.72348399, 0.85806558, 0.26249202]])"
      ]
     },
     "execution_count": 183,
     "metadata": {},
     "output_type": "execute_result"
    }
   ],
   "source": [
    "m"
   ]
  },
  {
   "cell_type": "markdown",
   "metadata": {},
   "source": [
    "### 直接索引   "
   ]
  },
  {
   "cell_type": "code",
   "execution_count": 184,
   "metadata": {},
   "outputs": [
    {
     "data": {
      "text/plain": [
       "0.967605620675127"
      ]
     },
     "execution_count": 184,
     "metadata": {},
     "output_type": "execute_result"
    }
   ],
   "source": [
    "m[1, 2]"
   ]
  },
  {
   "cell_type": "code",
   "execution_count": 185,
   "metadata": {},
   "outputs": [
    {
     "data": {
      "text/plain": [
       "0.967605620675127"
      ]
     },
     "execution_count": 185,
     "metadata": {},
     "output_type": "execute_result"
    }
   ],
   "source": [
    "m[(1, 2)]"
   ]
  },
  {
   "cell_type": "code",
   "execution_count": 186,
   "metadata": {},
   "outputs": [],
   "source": [
    "import random"
   ]
  },
  {
   "cell_type": "code",
   "execution_count": 227,
   "metadata": {},
   "outputs": [],
   "source": [
    "def generate_coord():\n",
    "    return random.randint(0, 7), random.randint(0, 4)"
   ]
  },
  {
   "cell_type": "code",
   "execution_count": 242,
   "metadata": {},
   "outputs": [
    {
     "data": {
      "text/plain": [
       "0.967605620675127"
      ]
     },
     "execution_count": 242,
     "metadata": {},
     "output_type": "execute_result"
    }
   ],
   "source": [
    "m[generate_coord()]"
   ]
  },
  {
   "cell_type": "markdown",
   "metadata": {},
   "source": [
    "### slice切片"
   ]
  },
  {
   "cell_type": "code",
   "execution_count": 261,
   "metadata": {},
   "outputs": [
    {
     "data": {
      "text/plain": [
       "array([[0.58196025, 0.50877766, 0.00278414, 0.59573114, 0.86898607],\n",
       "       [0.92641958, 0.78001479, 0.96760562, 0.22052567, 0.20619221],\n",
       "       [0.67833372, 0.58691451, 0.29523587, 0.38019978, 0.68896366],\n",
       "       [0.42922301, 0.42576275, 0.70218416, 0.08686417, 0.03583006],\n",
       "       [0.52631157, 0.87994444, 0.11947541, 0.74791531, 0.09440646],\n",
       "       [0.12328091, 0.51863315, 0.98096876, 0.0878302 , 0.31332059],\n",
       "       [0.75163769, 0.87852746, 0.87848043, 0.87499623, 0.41586756],\n",
       "       [0.13201083, 0.55355129, 0.72348399, 0.85806558, 0.26249202]])"
      ]
     },
     "execution_count": 261,
     "metadata": {},
     "output_type": "execute_result"
    }
   ],
   "source": [
    "m"
   ]
  },
  {
   "cell_type": "code",
   "execution_count": 270,
   "metadata": {},
   "outputs": [
    {
     "data": {
      "text/plain": [
       "array([[0.58196025, 0.50877766],\n",
       "       [0.92641958, 0.78001479],\n",
       "       [0.67833372, 0.58691451],\n",
       "       [0.42922301, 0.42576275],\n",
       "       [0.52631157, 0.87994444],\n",
       "       [0.12328091, 0.51863315],\n",
       "       [0.75163769, 0.87852746],\n",
       "       [0.13201083, 0.55355129]])"
      ]
     },
     "execution_count": 270,
     "metadata": {},
     "output_type": "execute_result"
    }
   ],
   "source": [
    "m[:, 0:2]"
   ]
  },
  {
   "cell_type": "code",
   "execution_count": 245,
   "metadata": {},
   "outputs": [
    {
     "data": {
      "text/plain": [
       "array([0.67833372, 0.58691451, 0.29523587, 0.38019978, 0.68896366])"
      ]
     },
     "execution_count": 245,
     "metadata": {},
     "output_type": "execute_result"
    }
   ],
   "source": [
    "m[2]"
   ]
  },
  {
   "cell_type": "code",
   "execution_count": 274,
   "metadata": {},
   "outputs": [
    {
     "name": "stdout",
     "output_type": "stream",
     "text": [
      "3.92 µs ± 13.9 ns per loop (mean ± std. dev. of 7 runs, 100000 loops each)\n"
     ]
    }
   ],
   "source": [
    "%%timeit \n",
    "\n",
    "array = []\n",
    "for row in m:\n",
    "    array.append(row[2])\n",
    "array = np.array(array)"
   ]
  },
  {
   "cell_type": "code",
   "execution_count": 273,
   "metadata": {},
   "outputs": [
    {
     "name": "stdout",
     "output_type": "stream",
     "text": [
      "191 ns ± 0.483 ns per loop (mean ± std. dev. of 7 runs, 10000000 loops each)\n"
     ]
    }
   ],
   "source": [
    "%%timeit \n",
    "\n",
    "sub_m = m[:, 2]"
   ]
  },
  {
   "cell_type": "code",
   "execution_count": 275,
   "metadata": {},
   "outputs": [
    {
     "data": {
      "text/plain": [
       "array([[0.58196025, 0.50877766, 0.00278414, 0.59573114, 0.86898607],\n",
       "       [0.92641958, 0.78001479, 0.96760562, 0.22052567, 0.20619221],\n",
       "       [0.67833372, 0.58691451, 0.29523587, 0.38019978, 0.68896366],\n",
       "       [0.42922301, 0.42576275, 0.70218416, 0.08686417, 0.03583006],\n",
       "       [0.52631157, 0.87994444, 0.11947541, 0.74791531, 0.09440646],\n",
       "       [0.12328091, 0.51863315, 0.98096876, 0.0878302 , 0.31332059],\n",
       "       [0.75163769, 0.87852746, 0.87848043, 0.87499623, 0.41586756],\n",
       "       [0.13201083, 0.55355129, 0.72348399, 0.85806558, 0.26249202]])"
      ]
     },
     "execution_count": 275,
     "metadata": {},
     "output_type": "execute_result"
    }
   ],
   "source": [
    "m"
   ]
  },
  {
   "cell_type": "markdown",
   "metadata": {},
   "source": [
    "## 为什么切片，numpy的索引这么快呢？ \n",
    "\n",
    "使用了python的memoryview机制"
   ]
  },
  {
   "cell_type": "code",
   "execution_count": 280,
   "metadata": {},
   "outputs": [],
   "source": [
    "sub_m = m[0:2, 3: 6]"
   ]
  },
  {
   "cell_type": "code",
   "execution_count": 283,
   "metadata": {},
   "outputs": [],
   "source": [
    "sub_m[1, 1] = -0.2"
   ]
  },
  {
   "cell_type": "code",
   "execution_count": 284,
   "metadata": {},
   "outputs": [
    {
     "data": {
      "text/plain": [
       "array([[ 0.58196025,  0.50877766,  0.00278414,  0.59573114,  0.86898607],\n",
       "       [ 0.92641958,  0.78001479,  0.96760562,  0.22052567, -0.2       ],\n",
       "       [ 0.67833372,  0.58691451,  0.29523587,  0.38019978,  0.68896366],\n",
       "       [ 0.42922301,  0.42576275,  0.70218416,  0.08686417,  0.03583006],\n",
       "       [ 0.52631157,  0.87994444,  0.11947541,  0.74791531,  0.09440646],\n",
       "       [ 0.12328091,  0.51863315,  0.98096876,  0.0878302 ,  0.31332059],\n",
       "       [ 0.75163769,  0.87852746,  0.87848043,  0.87499623,  0.41586756],\n",
       "       [ 0.13201083,  0.55355129,  0.72348399,  0.85806558,  0.26249202]])"
      ]
     },
     "execution_count": 284,
     "metadata": {},
     "output_type": "execute_result"
    }
   ],
   "source": [
    "m"
   ]
  },
  {
   "cell_type": "code",
   "execution_count": 287,
   "metadata": {},
   "outputs": [
    {
     "data": {
      "text/plain": [
       "array([0.92641958, 0.70218416])"
      ]
     },
     "execution_count": 287,
     "metadata": {},
     "output_type": "execute_result"
    }
   ],
   "source": [
    "m[[1, 3], [0, 2]]"
   ]
  },
  {
   "cell_type": "markdown",
   "metadata": {},
   "source": [
    "## boolean / 条件索引"
   ]
  },
  {
   "cell_type": "code",
   "execution_count": 293,
   "metadata": {},
   "outputs": [
    {
     "data": {
      "text/plain": [
       "array([ 0.58196025,  0.50877766,  0.00278414,  0.59573114,  0.86898607,\n",
       "        0.92641958,  0.78001479,  0.96760562,  0.22052567, -0.2       ,\n",
       "        0.67833372,  0.58691451,  0.29523587,  0.38019978,  0.68896366,\n",
       "        0.42922301,  0.42576275,  0.70218416,  0.08686417,  0.03583006,\n",
       "        0.52631157,  0.87994444,  0.11947541,  0.74791531,  0.09440646,\n",
       "        0.12328091,  0.51863315,  0.98096876,  0.0878302 ,  0.31332059,\n",
       "        0.75163769,  0.87852746,  0.87848043,  0.87499623,  0.41586756,\n",
       "        0.13201083,  0.55355129,  0.72348399,  0.85806558,  0.26249202])"
      ]
     },
     "execution_count": 293,
     "metadata": {},
     "output_type": "execute_result"
    }
   ],
   "source": [
    "m.reshape(-1)"
   ]
  }
 ],
 "metadata": {
  "kernelspec": {
   "display_name": "Python 3",
   "language": "python",
   "name": "python3"
  },
  "language_info": {
   "codemirror_mode": {
    "name": "ipython",
    "version": 3
   },
   "file_extension": ".py",
   "mimetype": "text/x-python",
   "name": "python",
   "nbconvert_exporter": "python",
   "pygments_lexer": "ipython3",
   "version": "3.7.3"
  }
 },
 "nbformat": 4,
 "nbformat_minor": 2
}

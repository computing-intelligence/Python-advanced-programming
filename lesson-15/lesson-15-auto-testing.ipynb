{
 "cells": [
  {
   "cell_type": "markdown",
   "metadata": {},
   "source": [
    "## Lesson-15 Auto-Testing"
   ]
  },
  {
   "cell_type": "code",
   "execution_count": 46,
   "metadata": {},
   "outputs": [],
   "source": [
    "grammar = \"\"\"\n",
    "num = 1 | 2 | 3 | 4 | 5\n",
    "number = number num | num\n",
    "\"\"\""
   ]
  },
  {
   "cell_type": "markdown",
   "metadata": {},
   "source": [
    "The above is a grammar. What we expected is: build a function `gen`, which receives two parameters, the first parameters is string, which is the grammar; the second is string, is the target we want to create. "
   ]
  },
  {
   "cell_type": "markdown",
   "metadata": {},
   "source": [
    "## Convert grammer"
   ]
  },
  {
   "cell_type": "code",
   "execution_count": 141,
   "metadata": {},
   "outputs": [
    {
     "name": "stdout",
     "output_type": "stream",
     "text": [
      "done\n"
     ]
    }
   ],
   "source": [
    "def convert(grammar_string, split='='): \n",
    "    \"\"\"\n",
    "    1. grammar_string -> dictionary \n",
    "    2. dictionary: key: string; value: list [[1], [2], [3], [4], [5]] [[number num], [num]] \n",
    "    \"\"\"\n",
    "    grammar_dict = {}\n",
    "    for line in grammar_string.split('\\n'):\n",
    "        if not line: continue\n",
    "        expr, stmt = line.split(split)\n",
    "        grammar_dict[expr.strip()] = [s.split() for s in stmt.split('|')]\n",
    "    return grammar_dict\n",
    "\n",
    "r = convert(grammar)\n",
    "assert isinstance(r, dict)\n",
    "assert 'number' in r\n",
    "assert isinstance(r['number'], list)\n",
    "for key in r:\n",
    "    assert ' ' not in key\n",
    "print('done')"
   ]
  },
  {
   "cell_type": "code",
   "execution_count": 142,
   "metadata": {},
   "outputs": [],
   "source": [
    "import random"
   ]
  },
  {
   "cell_type": "code",
   "execution_count": 147,
   "metadata": {},
   "outputs": [],
   "source": [
    "def gene(grammar_string, target):\n",
    "    gram_dict = convert(grammar_string)\n",
    "    \n",
    "    def _gen(target):\n",
    "        if target not in gram_dict: return target\n",
    "        else:\n",
    "            stmt = random.choice(gram_dict[target])\n",
    "            assert isinstance(stmt, list)\n",
    "            return ' '.join(_gen(s) for s in stmt)\n",
    "        \n",
    "    return _gen(target)"
   ]
  },
  {
   "cell_type": "code",
   "execution_count": 148,
   "metadata": {},
   "outputs": [],
   "source": [
    "program_struct = \"\"\"\n",
    "prog = while_exp | for_exp | cond_exp | assign\n",
    "assign = var <- value\n",
    "var = var char | char\n",
    "char = a | b | c | d | e | f | g | h | i | j | k \n",
    "value = value n | n\n",
    "n = 1 | 2 | 3 | 4 | 5 | 6\n",
    "while_exp = while ( var )  { prog }\n",
    "for_exp = for ( var in range ( value ) ) { prog }\n",
    "cond_exp = if ( var ) else ( var ) { prog }\n",
    "\"\"\""
   ]
  },
  {
   "cell_type": "markdown",
   "metadata": {},
   "source": [
    "## Complicated && Intriguing"
   ]
  },
  {
   "cell_type": "code",
   "execution_count": 149,
   "metadata": {},
   "outputs": [
    {
     "name": "stdout",
     "output_type": "stream",
     "text": [
      "if ( a ) else ( a ) { if ( c ) else ( h b e a ) { if ( h ) else ( b g h ) { i <- 6 } } }\n",
      "for ( a in range ( 6 3 6 ) ) { for ( k in range ( 6 2 ) ) { while ( c ) { if ( h g a h d ) else ( d ) { for ( j in range ( 2 ) ) { while ( b ) { if ( g ) else ( i j ) { while ( e ) { if ( e ) else ( k a j i ) { for ( h e e in range ( 5 2 ) ) { if ( k ) else ( d b ) { c h <- 3 4 2 } } } } } } } } } } }\n",
      "for ( e in range ( 1 ) ) { if ( k ) else ( k ) { b <- 4 } }\n",
      "if ( b h b ) else ( b ) { while ( h k b j e g ) { g f f d c <- 5 } }\n",
      "if ( g c a g ) else ( g ) { if ( g ) else ( e ) { if ( k ) else ( g f ) { f <- 2 4 4 } } }\n",
      "if ( f d ) else ( d ) { a f <- 5 2 }\n",
      "while ( e h f k k ) { while ( c ) { e <- 3 } }\n",
      "g <- 5\n",
      "a i <- 4 1\n",
      "while ( c f h ) { while ( f ) { if ( j ) else ( c ) { if ( g ) else ( g e f ) { while ( d f b d h ) { if ( h ) else ( a d ) { while ( c b j f b b ) { if ( e k ) else ( d e ) { while ( j g c i d k ) { h <- 1 } } } } } } } } }\n"
     ]
    }
   ],
   "source": [
    "for _ in range(10):\n",
    "    print(gene(program_struct, 'prog'))"
   ]
  },
  {
   "cell_type": "markdown",
   "metadata": {},
   "source": []
  },
  {
   "cell_type": "markdown",
   "metadata": {},
   "source": [
    "## doc-testing"
   ]
  },
  {
   "cell_type": "markdown",
   "metadata": {},
   "source": [
    "## numpy  testing"
   ]
  },
  {
   "cell_type": "code",
   "execution_count": 151,
   "metadata": {},
   "outputs": [],
   "source": [
    "import numpy as np"
   ]
  },
  {
   "cell_type": "code",
   "execution_count": 190,
   "metadata": {},
   "outputs": [],
   "source": [
    "a = np.array([[1.0000000001, 2.], [3., 4.]])"
   ]
  },
  {
   "cell_type": "code",
   "execution_count": 191,
   "metadata": {},
   "outputs": [],
   "source": [
    "b = np.array([[1, 2], [3, 4]])"
   ]
  },
  {
   "cell_type": "code",
   "execution_count": 192,
   "metadata": {},
   "outputs": [
    {
     "ename": "ValueError",
     "evalue": "The truth value of an array with more than one element is ambiguous. Use a.any() or a.all()",
     "output_type": "error",
     "traceback": [
      "\u001b[0;31m---------------------------------------------------------------------------\u001b[0m",
      "\u001b[0;31mValueError\u001b[0m                                Traceback (most recent call last)",
      "\u001b[0;32m<ipython-input-192-46f3032e8f4c>\u001b[0m in \u001b[0;36m<module>\u001b[0;34m\u001b[0m\n\u001b[0;32m----> 1\u001b[0;31m \u001b[0;32massert\u001b[0m \u001b[0ma\u001b[0m \u001b[0;34m==\u001b[0m \u001b[0mb\u001b[0m\u001b[0;34m\u001b[0m\u001b[0;34m\u001b[0m\u001b[0m\n\u001b[0m",
      "\u001b[0;31mValueError\u001b[0m: The truth value of an array with more than one element is ambiguous. Use a.any() or a.all()"
     ]
    }
   ],
   "source": [
    "assert a == b"
   ]
  },
  {
   "cell_type": "code",
   "execution_count": 159,
   "metadata": {},
   "outputs": [],
   "source": [
    "from numpy import testing"
   ]
  },
  {
   "cell_type": "code",
   "execution_count": 194,
   "metadata": {},
   "outputs": [
    {
     "name": "stdout",
     "output_type": "stream",
     "text": [
      "done\n"
     ]
    }
   ],
   "source": [
    "testing.assert_array_almost_equal(a, b)\n",
    "print('done')"
   ]
  }
 ],
 "metadata": {
  "kernelspec": {
   "display_name": "Python 3",
   "language": "python",
   "name": "python3"
  },
  "language_info": {
   "codemirror_mode": {
    "name": "ipython",
    "version": 3
   },
   "file_extension": ".py",
   "mimetype": "text/x-python",
   "name": "python",
   "nbconvert_exporter": "python",
   "pygments_lexer": "ipython3",
   "version": "3.7.3"
  }
 },
 "nbformat": 4,
 "nbformat_minor": 2
}

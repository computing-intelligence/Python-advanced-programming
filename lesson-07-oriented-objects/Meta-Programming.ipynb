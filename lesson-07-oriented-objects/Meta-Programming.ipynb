{
 "cells": [
  {
   "cell_type": "markdown",
   "metadata": {},
   "source": [
    "MyClass = type('MyClass', (MySuperClass, MyMixin),\n",
    "               {'x': 42, 'x2': lambda self: self.x * 2})"
   ]
  },
  {
   "cell_type": "markdown",
   "metadata": {},
   "source": [
    "```\n",
    "class InstanceCountingClass:\n",
    "    created = 0\n",
    "    number: int\n",
    "    def __new__(cls, *args, **kwargs):\n",
    "        instance = super().__new__(cls)\n",
    "        instance.number = cls.created\n",
    "        cls.created += 1\n",
    "        return instance\n",
    "    def __repr__(self):\n",
    "        return (\n",
    "            f\"<{self.__class__.__name__}: \"\n",
    "            f\"{self.number} of {self.created}>\"\n",
    "        )\n",
    "```"
   ]
  },
  {
   "cell_type": "markdown",
   "metadata": {},
   "source": [
    "he __prepare__ method *\n",
    "This method is called before the class body is executed and it must return a dictionary-like object that's used as the local namespace for all the code from the class body. It was added in Python 3.0, see PEP-3115."
   ]
  },
  {
   "cell_type": "code",
   "execution_count": 2,
   "metadata": {},
   "outputs": [],
   "source": [
    "from typing import Any\n",
    "import inflection\n",
    "class CaseInterpolationDict(dict):\n",
    "    def __setitem__(self, key: str, value: Any):\n",
    "        super().__setitem__(key, value)\n",
    "        super().__setitem__(inflection.underscore(key), value)"
   ]
  },
  {
   "cell_type": "code",
   "execution_count": 8,
   "metadata": {},
   "outputs": [],
   "source": [
    "class CaseInterpolatedMeta(type):\n",
    "    @classmethod\n",
    "    def __prepare__(mcs, name, bases):\n",
    "        return CaseInterpolationDict()"
   ]
  },
  {
   "cell_type": "code",
   "execution_count": 9,
   "metadata": {},
   "outputs": [],
   "source": [
    "class User(metaclass=CaseInterpolatedMeta):\n",
    "    def __init__(self, firstName: str, lastName: str):\n",
    "        self.firstName = firstName\n",
    "        self.lastName = lastName\n",
    "    def getDisplayName(self):\n",
    "        return f\"{self.firstName} {self.lastName}\"\n",
    "    def greetUser(self):\n",
    "        return f\"Hello {self.getDisplayName()}!\""
   ]
  },
  {
   "cell_type": "markdown",
   "metadata": {},
   "source": [
    "```\n",
    ">>> user = User(\"John\", \"Doe\") >>> user.getDisplayName() 'John Doe'\n",
    ">>> user.get_display_name() 'John Doe'\n",
    ">>> user.greetUser() 'Hello John Doe!' >>> user.greet_user() 'Hello John Doe!'\n",
    "```"
   ]
  },
  {
   "cell_type": "markdown",
   "metadata": {},
   "source": [
    "Like some other advanced Python features, metaclasses are very elastic and can be easily abused. While the call signature of the class is rather strict, Python does not enforce the type of the return parameter. It can be anything as long as it accepts incoming arguments on calls and has the required attributes whenever it is needed."
   ]
  },
  {
   "cell_type": "markdown",
   "metadata": {},
   "source": [
    "The main purpose of a metaclass is to change the class automatically, when it's created."
   ]
  },
  {
   "cell_type": "code",
   "execution_count": null,
   "metadata": {},
   "outputs": [],
   "source": []
  }
 ],
 "metadata": {
  "kernelspec": {
   "display_name": "Python 3",
   "language": "python",
   "name": "python3"
  },
  "language_info": {
   "codemirror_mode": {
    "name": "ipython",
    "version": 3
   },
   "file_extension": ".py",
   "mimetype": "text/x-python",
   "name": "python",
   "nbconvert_exporter": "python",
   "pygments_lexer": "ipython3",
   "version": "3.7.3"
  }
 },
 "nbformat": 4,
 "nbformat_minor": 2
}

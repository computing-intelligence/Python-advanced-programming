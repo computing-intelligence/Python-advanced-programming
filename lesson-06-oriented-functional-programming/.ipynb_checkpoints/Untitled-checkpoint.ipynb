{
 "cells": [
  {
   "cell_type": "code",
   "execution_count": 117,
   "id": "9ce68caf",
   "metadata": {},
   "outputs": [],
   "source": [
    "class Speak:\n",
    "    count = 0 \n",
    "    \n",
    "    def __init__(self, name): \n",
    "        pass\n",
    "    \n",
    "    def send_to_server(self):\n",
    "        pass\n",
    "\n",
    "def speak():\n",
    "    speak.count = 0\n",
    "\n",
    "    def send_to_server(obj): \n",
    "        print(f'{obj} am called!')\n",
    "\n",
    "    speak.send_to_server = send_to_server\n",
    "\n",
    "    def inner(name):\n",
    "        print('I am {}'.format(name))\n",
    "        speak.count += 1\n",
    "#        speak.send_to_server()\n",
    "        speak.send_to_server(speak)\n",
    "\n",
    "    return inner\n"
   ]
  },
  {
   "cell_type": "code",
   "execution_count": 123,
   "id": "1dcb119a",
   "metadata": {},
   "outputs": [
    {
     "data": {
      "text/plain": [
       "<function __main__.Speak.send_to_server(self)>"
      ]
     },
     "execution_count": 123,
     "metadata": {},
     "output_type": "execute_result"
    }
   ],
   "source": [
    "Speak.send_to_server"
   ]
  },
  {
   "cell_type": "code",
   "execution_count": 105,
   "id": "e9bb33a7",
   "metadata": {},
   "outputs": [],
   "source": [
    "s = speak()"
   ]
  },
  {
   "cell_type": "code",
   "execution_count": 106,
   "id": "fd8176c8",
   "metadata": {},
   "outputs": [
    {
     "data": {
      "text/plain": [
       "0"
      ]
     },
     "execution_count": 106,
     "metadata": {},
     "output_type": "execute_result"
    }
   ],
   "source": [
    "speak.count"
   ]
  },
  {
   "cell_type": "code",
   "execution_count": 107,
   "id": "0bc1707d",
   "metadata": {},
   "outputs": [
    {
     "name": "stdout",
     "output_type": "stream",
     "text": [
      "I am Hu\n",
      "<function speak at 0x7f776807dc60> am called!\n"
     ]
    }
   ],
   "source": [
    "s('Hu')"
   ]
  },
  {
   "cell_type": "code",
   "execution_count": 88,
   "id": "5ceea2d5",
   "metadata": {},
   "outputs": [
    {
     "name": "stdout",
     "output_type": "stream",
     "text": [
      "I am Hu\n"
     ]
    }
   ],
   "source": [
    "s('Hu')"
   ]
  },
  {
   "cell_type": "code",
   "execution_count": 70,
   "id": "61395988",
   "metadata": {},
   "outputs": [
    {
     "data": {
      "text/plain": [
       "2"
      ]
     },
     "execution_count": 70,
     "metadata": {},
     "output_type": "execute_result"
    }
   ],
   "source": [
    "speak.count"
   ]
  },
  {
   "cell_type": "code",
   "execution_count": 78,
   "id": "be5643eb",
   "metadata": {},
   "outputs": [],
   "source": [
    "def func(a, b): \n",
    "    func.c = 3\n",
    "    c = 3\n",
    "    return a + b"
   ]
  },
  {
   "cell_type": "code",
   "execution_count": 80,
   "id": "8b2f590c",
   "metadata": {},
   "outputs": [
    {
     "data": {
      "text/plain": [
       "3"
      ]
     },
     "execution_count": 80,
     "metadata": {},
     "output_type": "execute_result"
    }
   ],
   "source": [
    "func(1, 2)"
   ]
  },
  {
   "cell_type": "code",
   "execution_count": 81,
   "id": "2a72275c",
   "metadata": {},
   "outputs": [
    {
     "data": {
      "text/plain": [
       "3"
      ]
     },
     "execution_count": 81,
     "metadata": {},
     "output_type": "execute_result"
    }
   ],
   "source": [
    "func.c"
   ]
  }
 ],
 "metadata": {
  "kernelspec": {
   "display_name": "Python 3 (ipykernel)",
   "language": "python",
   "name": "python3"
  },
  "language_info": {
   "codemirror_mode": {
    "name": "ipython",
    "version": 3
   },
   "file_extension": ".py",
   "mimetype": "text/x-python",
   "name": "python",
   "nbconvert_exporter": "python",
   "pygments_lexer": "ipython3",
   "version": "3.10.0"
  }
 },
 "nbformat": 4,
 "nbformat_minor": 5
}

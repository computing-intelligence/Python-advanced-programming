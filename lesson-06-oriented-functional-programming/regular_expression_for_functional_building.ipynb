{
 "cells": [
  {
   "cell_type": "code",
   "execution_count": 2,
   "metadata": {},
   "outputs": [],
   "source": [
    "import re"
   ]
  },
  {
   "cell_type": "code",
   "execution_count": 12,
   "metadata": {},
   "outputs": [
    {
     "data": {
      "text/plain": [
       "<re.Match object; span=(0, 0), match=''>"
      ]
     },
     "execution_count": 12,
     "metadata": {},
     "output_type": "execute_result"
    }
   ],
   "source": [
    "re.match('', 'test')"
   ]
  },
  {
   "cell_type": "code",
   "execution_count": 16,
   "metadata": {},
   "outputs": [
    {
     "data": {
      "text/plain": [
       "<re.Match object; span=(2, 4), match='st'>"
      ]
     },
     "execution_count": 16,
     "metadata": {},
     "output_type": "execute_result"
    }
   ],
   "source": [
    "re.search('st', 'test')"
   ]
  },
  {
   "cell_type": "code",
   "execution_count": 21,
   "metadata": {},
   "outputs": [],
   "source": [
    "def match1(p, text):\n",
    "    if not text: return False\n",
    "    \n",
    "    return p == '.' or p == text[0]"
   ]
  },
  {
   "cell_type": "code",
   "execution_count": 23,
   "metadata": {},
   "outputs": [],
   "source": [
    "def match_star(p, pattern, text):\n",
    "    return match(pattern, text) or (\n",
    "        match1(p, text) and match_star(p, pattern, text[1:])\n",
    "    )"
   ]
  },
  {
   "cell_type": "code",
   "execution_count": 24,
   "metadata": {},
   "outputs": [],
   "source": [
    "def match(pat, text):\n",
    "    if pat == '': return True\n",
    "    elif pat == '$': return text == ''\n",
    "    elif len(pat) > 1 and pat[1] in '*?': \n",
    "        p, op, _pat = pat[0], pat[1], pat[2:]\n",
    "        if op == '*': return match_star(p, _pat, text)\n",
    "        elif op == '?':\n",
    "            if match1(p, text) and match(_pat, text[1:]):\n",
    "                return True\n",
    "            else:\n",
    "                return match(_pat, text)\n",
    "    else:\n",
    "        return match1(pat[0], text) and match(pat[1:], text[1:])\n",
    "\n",
    "\n",
    "def search(pat, text):\n",
    "    if pat.startswith('^'):\n",
    "        return match(pat[1:], text)\n",
    "    else:\n",
    "        return match('.*' + pat, text)"
   ]
  },
  {
   "cell_type": "code",
   "execution_count": 29,
   "metadata": {},
   "outputs": [
    {
     "data": {
      "text/plain": [
       "True"
      ]
     },
     "execution_count": 29,
     "metadata": {},
     "output_type": "execute_result"
    }
   ],
   "source": [
    "search('^phone.*call*!', 'phone calllllll!')"
   ]
  },
  {
   "cell_type": "code",
   "execution_count": 30,
   "metadata": {},
   "outputs": [
    {
     "data": {
      "text/plain": [
       "False"
      ]
     },
     "execution_count": 30,
     "metadata": {},
     "output_type": "execute_result"
    }
   ],
   "source": [
    "search('^phone.*call*!', 'phone calllillll!')"
   ]
  }
 ],
 "metadata": {
  "kernelspec": {
   "display_name": "Python 3",
   "language": "python",
   "name": "python3"
  },
  "language_info": {
   "codemirror_mode": {
    "name": "ipython",
    "version": 3
   },
   "file_extension": ".py",
   "mimetype": "text/x-python",
   "name": "python",
   "nbconvert_exporter": "python",
   "pygments_lexer": "ipython3",
   "version": "3.7.3"
  }
 },
 "nbformat": 4,
 "nbformat_minor": 2
}

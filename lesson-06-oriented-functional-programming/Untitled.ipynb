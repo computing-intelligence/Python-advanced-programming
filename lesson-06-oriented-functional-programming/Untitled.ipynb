{
 "cells": [
  {
   "cell_type": "code",
   "execution_count": 166,
   "id": "277dd888",
   "metadata": {},
   "outputs": [],
   "source": [
    "class Speak:\n",
    "    count = 0 \n",
    "    \n",
    "    def __init__(self, name): \n",
    "        pass\n",
    "    \n",
    "    def send_to_server(self):\n",
    "        pass\n",
    "\n",
    "def speak(server_name):\n",
    "    speak.count = 0\n",
    "\n",
    "    def send_to_server(obj): \n",
    "        print(f'{obj} am called, and send to server {server_name} !')\n",
    "\n",
    "    speak.send_to_server = send_to_server\n",
    "\n",
    "    def _speak(name):\n",
    "        def show(obj):\n",
    "            print(f'{obj} am ready to print name {name} ... ')\n",
    "            \n",
    "            _speak.name = name\n",
    "            _speak.show = show\n",
    "        \n",
    "            _speak.show(_speak)\n",
    "            print('I am {}'.format(name))\n",
    "            speak.count += 1\n",
    "#        speak.send_to_server()\n",
    "            speak.send_to_server(speak)\n",
    "\n",
    "    return _speak"
   ]
  },
  {
   "cell_type": "code",
   "execution_count": 167,
   "id": "7cbf8d9f",
   "metadata": {},
   "outputs": [],
   "source": [
    "s = speak('192')"
   ]
  },
  {
   "cell_type": "code",
   "execution_count": 168,
   "id": "a13bedd5",
   "metadata": {},
   "outputs": [
    {
     "data": {
      "text/plain": [
       "0"
      ]
     },
     "execution_count": 168,
     "metadata": {},
     "output_type": "execute_result"
    }
   ],
   "source": [
    "speak.count"
   ]
  },
  {
   "cell_type": "code",
   "execution_count": 170,
   "id": "7e6f3cd6",
   "metadata": {},
   "outputs": [],
   "source": [
    "s"
   ]
  },
  {
   "cell_type": "code",
   "execution_count": 159,
   "id": "978c1005",
   "metadata": {},
   "outputs": [
    {
     "name": "stdout",
     "output_type": "stream",
     "text": [
      "I am Hu\n",
      "<function speak at 0x7f778070f640> am called, and send to server 192 !\n"
     ]
    }
   ],
   "source": [
    "s('Hu')"
   ]
  },
  {
   "cell_type": "code",
   "execution_count": 160,
   "id": "0626c312",
   "metadata": {},
   "outputs": [
    {
     "data": {
      "text/plain": [
       "2"
      ]
     },
     "execution_count": 160,
     "metadata": {},
     "output_type": "execute_result"
    }
   ],
   "source": [
    "speak.count"
   ]
  },
  {
   "cell_type": "code",
   "execution_count": 141,
   "id": "baf6a7cd",
   "metadata": {},
   "outputs": [],
   "source": [
    "def func(a, b): \n",
    "    func.c = 3\n",
    "    c = 3\n",
    "    return a + b"
   ]
  },
  {
   "cell_type": "code",
   "execution_count": 142,
   "id": "854093b4",
   "metadata": {},
   "outputs": [
    {
     "data": {
      "text/plain": [
       "3"
      ]
     },
     "execution_count": 142,
     "metadata": {},
     "output_type": "execute_result"
    }
   ],
   "source": [
    "func(1, 2)"
   ]
  },
  {
   "cell_type": "code",
   "execution_count": 143,
   "id": "fab5a216",
   "metadata": {},
   "outputs": [
    {
     "data": {
      "text/plain": [
       "3"
      ]
     },
     "execution_count": 143,
     "metadata": {},
     "output_type": "execute_result"
    }
   ],
   "source": [
    "func.c"
   ]
  }
 ],
 "metadata": {
  "kernelspec": {
   "display_name": "Python 3 (ipykernel)",
   "language": "python",
   "name": "python3"
  },
  "language_info": {
   "codemirror_mode": {
    "name": "ipython",
    "version": 3
   },
   "file_extension": ".py",
   "mimetype": "text/x-python",
   "name": "python",
   "nbconvert_exporter": "python",
   "pygments_lexer": "ipython3",
   "version": "3.10.0"
  }
 },
 "nbformat": 4,
 "nbformat_minor": 5
}

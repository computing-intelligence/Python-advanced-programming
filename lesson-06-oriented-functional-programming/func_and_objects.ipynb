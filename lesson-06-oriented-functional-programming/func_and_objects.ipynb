{
 "cells": [
  {
   "cell_type": "markdown",
   "metadata": {},
   "source": [
    "## 梳理几个重要的概念："
   ]
  },
  {
   "cell_type": "markdown",
   "metadata": {},
   "source": [
    "1. 为什么要有面向对象？ 为什么要有class，class到底做了什么事情？ \n",
    "    1. method的申明和绑定；\n",
    "    2. method调用时的值自动传递（self）\n",
    "    3. 可以初始化多个实体，且实体之前是互相隔离的"
   ]
  },
  {
   "cell_type": "markdown",
   "metadata": {},
   "source": [
    "因为有了以上诸多方便，所以人们发现很多事情，可以用一个一个class的思考方法来解决，那么，就需要：\n",
    "\n",
    "1. 能够将class的实例作为变量\n",
    "2. 能够将class的实例作为参数\n",
    "3. 能够将class的实例作为返回值"
   ]
  },
  {
   "cell_type": "markdown",
   "metadata": {},
   "source": [
    "如果编程语言，能够支持以上的值绑定及变量申明，那么我们就说，这个语言是可以面向对象的。"
   ]
  },
  {
   "cell_type": "markdown",
   "metadata": {},
   "source": [
    "申明是对象呢？ "
   ]
  },
  {
   "cell_type": "markdown",
   "metadata": {},
   "source": [
    "在python里，函数是对象"
   ]
  },
  {
   "cell_type": "markdown",
   "metadata": {},
   "source": [
    "如果某个东西，它有与自己绑定的值（value），称为attribute；有自己可以进行的行为（actions），称为method，这个东西就是一个对象（object）"
   ]
  },
  {
   "cell_type": "code",
   "execution_count": 3,
   "metadata": {},
   "outputs": [],
   "source": [
    "num  = 1"
   ]
  },
  {
   "cell_type": "code",
   "execution_count": 12,
   "metadata": {},
   "outputs": [
    {
     "data": {
      "text/plain": [
       "154"
      ]
     },
     "execution_count": 12,
     "metadata": {},
     "output_type": "execute_result"
    }
   ],
   "source": [
    "num.from_bytes(b'\\x9a', 'little')"
   ]
  },
  {
   "cell_type": "code",
   "execution_count": 17,
   "metadata": {},
   "outputs": [],
   "source": [
    "some_list = [1, 2, 3]"
   ]
  },
  {
   "cell_type": "code",
   "execution_count": 18,
   "metadata": {},
   "outputs": [
    {
     "data": {
      "text/plain": [
       "['__add__',\n",
       " '__class__',\n",
       " '__contains__',\n",
       " '__delattr__',\n",
       " '__delitem__',\n",
       " '__dir__',\n",
       " '__doc__',\n",
       " '__eq__',\n",
       " '__format__',\n",
       " '__ge__',\n",
       " '__getattribute__',\n",
       " '__getitem__',\n",
       " '__gt__',\n",
       " '__hash__',\n",
       " '__iadd__',\n",
       " '__imul__',\n",
       " '__init__',\n",
       " '__init_subclass__',\n",
       " '__iter__',\n",
       " '__le__',\n",
       " '__len__',\n",
       " '__lt__',\n",
       " '__mul__',\n",
       " '__ne__',\n",
       " '__new__',\n",
       " '__reduce__',\n",
       " '__reduce_ex__',\n",
       " '__repr__',\n",
       " '__reversed__',\n",
       " '__rmul__',\n",
       " '__setattr__',\n",
       " '__setitem__',\n",
       " '__sizeof__',\n",
       " '__str__',\n",
       " '__subclasshook__',\n",
       " 'append',\n",
       " 'clear',\n",
       " 'copy',\n",
       " 'count',\n",
       " 'extend',\n",
       " 'index',\n",
       " 'insert',\n",
       " 'pop',\n",
       " 'remove',\n",
       " 'reverse',\n",
       " 'sort']"
      ]
     },
     "execution_count": 18,
     "metadata": {},
     "output_type": "execute_result"
    }
   ],
   "source": [
    "dir(some_list)"
   ]
  },
  {
   "cell_type": "code",
   "execution_count": 65,
   "metadata": {},
   "outputs": [
    {
     "data": {
      "text/plain": [
       "object"
      ]
     },
     "execution_count": 65,
     "metadata": {},
     "output_type": "execute_result"
    }
   ],
   "source": [
    "object"
   ]
  },
  {
   "cell_type": "code",
   "execution_count": 73,
   "metadata": {},
   "outputs": [],
   "source": [
    "#class SomeObjCannotAddAttr(object):\n",
    "class SomeObjCannotAddAttr:\n",
    "    def __init__(self, value): \n",
    "        self.value = value\n",
    "        \n",
    "    def __setattr__(self, key, value):\n",
    "        print(f\"I am trying to set: {key} = {value}\")\n",
    "        if key != 'value':\n",
    "            raise AttributeError(f'{self} do not have {key}')\n",
    "        else:\n",
    "            super().__setattr__(key, value)\n",
    "            #self.value = value\n",
    "    \n",
    "    def speak(self):\n",
    "        print(f'I am level: {self.level}')"
   ]
  },
  {
   "cell_type": "code",
   "execution_count": 75,
   "metadata": {},
   "outputs": [
    {
     "name": "stdout",
     "output_type": "stream",
     "text": [
      "I am trying to set: value = 100\n"
     ]
    }
   ],
   "source": [
    "sb = SomeObjCannotAddAttr(100)"
   ]
  },
  {
   "cell_type": "code",
   "execution_count": 77,
   "metadata": {},
   "outputs": [
    {
     "data": {
      "text/plain": [
       "['__class__',\n",
       " '__delattr__',\n",
       " '__dict__',\n",
       " '__dir__',\n",
       " '__doc__',\n",
       " '__eq__',\n",
       " '__format__',\n",
       " '__ge__',\n",
       " '__getattribute__',\n",
       " '__gt__',\n",
       " '__hash__',\n",
       " '__init__',\n",
       " '__init_subclass__',\n",
       " '__le__',\n",
       " '__lt__',\n",
       " '__module__',\n",
       " '__ne__',\n",
       " '__new__',\n",
       " '__reduce__',\n",
       " '__reduce_ex__',\n",
       " '__repr__',\n",
       " '__setattr__',\n",
       " '__sizeof__',\n",
       " '__str__',\n",
       " '__subclasshook__',\n",
       " '__weakref__',\n",
       " 'speak',\n",
       " 'value']"
      ]
     },
     "execution_count": 77,
     "metadata": {},
     "output_type": "execute_result"
    }
   ],
   "source": [
    "dir(sb)"
   ]
  },
  {
   "cell_type": "code",
   "execution_count": 83,
   "metadata": {},
   "outputs": [
    {
     "name": "stdout",
     "output_type": "stream",
     "text": [
      "# <class '__main__.SomeObjCannotAddAttr'> # is a method\n",
      "# <method-wrapper '__delattr__' of SomeObjCannotAddAttr object at 0x7fc2e04ee4e0> # is a method\n",
      "# {'value': 100} # is a attribute\n",
      "# <built-in method __dir__ of SomeObjCannotAddAttr object at 0x7fc2e04ee4e0> # is a method\n",
      "# None # is a attribute\n",
      "# <method-wrapper '__eq__' of SomeObjCannotAddAttr object at 0x7fc2e04ee4e0> # is a method\n",
      "# <built-in method __format__ of SomeObjCannotAddAttr object at 0x7fc2e04ee4e0> # is a method\n",
      "# <method-wrapper '__ge__' of SomeObjCannotAddAttr object at 0x7fc2e04ee4e0> # is a method\n",
      "# <method-wrapper '__getattribute__' of SomeObjCannotAddAttr object at 0x7fc2e04ee4e0> # is a method\n",
      "# <method-wrapper '__gt__' of SomeObjCannotAddAttr object at 0x7fc2e04ee4e0> # is a method\n",
      "# <method-wrapper '__hash__' of SomeObjCannotAddAttr object at 0x7fc2e04ee4e0> # is a method\n",
      "# <bound method SomeObjCannotAddAttr.__init__ of <__main__.SomeObjCannotAddAttr object at 0x7fc2e04ee4e0>> # is a method\n",
      "# <built-in method __init_subclass__ of type object at 0x7fc2d9886c48> # is a method\n",
      "# <method-wrapper '__le__' of SomeObjCannotAddAttr object at 0x7fc2e04ee4e0> # is a method\n",
      "# <method-wrapper '__lt__' of SomeObjCannotAddAttr object at 0x7fc2e04ee4e0> # is a method\n",
      "# '__main__' # is a attribute\n",
      "# <method-wrapper '__ne__' of SomeObjCannotAddAttr object at 0x7fc2e04ee4e0> # is a method\n",
      "# <built-in method __new__ of type object at 0x1009b65e8> # is a method\n",
      "# <built-in method __reduce__ of SomeObjCannotAddAttr object at 0x7fc2e04ee4e0> # is a method\n",
      "# <built-in method __reduce_ex__ of SomeObjCannotAddAttr object at 0x7fc2e04ee4e0> # is a method\n",
      "# <method-wrapper '__repr__' of SomeObjCannotAddAttr object at 0x7fc2e04ee4e0> # is a method\n",
      "# <bound method SomeObjCannotAddAttr.__setattr__ of <__main__.SomeObjCannotAddAttr object at 0x7fc2e04ee4e0>> # is a method\n",
      "# <built-in method __sizeof__ of SomeObjCannotAddAttr object at 0x7fc2e04ee4e0> # is a method\n",
      "# <method-wrapper '__str__' of SomeObjCannotAddAttr object at 0x7fc2e04ee4e0> # is a method\n",
      "# <built-in method __subclasshook__ of type object at 0x7fc2d9886c48> # is a method\n",
      "# None # is a attribute\n",
      "# <bound method SomeObjCannotAddAttr.speak of <__main__.SomeObjCannotAddAttr object at 0x7fc2e04ee4e0>> # is a method\n",
      "# 100 # is a attribute\n"
     ]
    }
   ],
   "source": [
    "for attr in dir(sb):\n",
    "    getted = sb.__getattribute__(attr)\n",
    "    if callable(getted):\n",
    "        print(f'# {repr(getted)} # is a method')\n",
    "    else:\n",
    "        print(f'# {repr(getted)} # is a attribute')"
   ]
  },
  {
   "cell_type": "code",
   "execution_count": 84,
   "metadata": {},
   "outputs": [],
   "source": [
    "import dis"
   ]
  },
  {
   "cell_type": "code",
   "execution_count": 85,
   "metadata": {},
   "outputs": [
    {
     "name": "stdout",
     "output_type": "stream",
     "text": [
      "Disassembly of __init__:\n",
      "  4           0 LOAD_FAST                1 (value)\n",
      "              2 LOAD_FAST                0 (self)\n",
      "              4 STORE_ATTR               0 (value)\n",
      "              6 LOAD_CONST               0 (None)\n",
      "              8 RETURN_VALUE\n",
      "\n",
      "Disassembly of __setattr__:\n",
      "  7           0 LOAD_GLOBAL              0 (print)\n",
      "              2 LOAD_CONST               1 ('I am trying to set: ')\n",
      "              4 LOAD_FAST                1 (key)\n",
      "              6 FORMAT_VALUE             0\n",
      "              8 LOAD_CONST               2 (' = ')\n",
      "             10 LOAD_FAST                2 (value)\n",
      "             12 FORMAT_VALUE             0\n",
      "             14 BUILD_STRING             4\n",
      "             16 CALL_FUNCTION            1\n",
      "             18 POP_TOP\n",
      "\n",
      "  8          20 LOAD_FAST                1 (key)\n",
      "             22 LOAD_CONST               3 ('value')\n",
      "             24 COMPARE_OP               3 (!=)\n",
      "             26 POP_JUMP_IF_FALSE       48\n",
      "\n",
      "  9          28 LOAD_GLOBAL              1 (AttributeError)\n",
      "             30 LOAD_FAST                0 (self)\n",
      "             32 FORMAT_VALUE             0\n",
      "             34 LOAD_CONST               4 (' do not have ')\n",
      "             36 LOAD_FAST                1 (key)\n",
      "             38 FORMAT_VALUE             0\n",
      "             40 BUILD_STRING             3\n",
      "             42 CALL_FUNCTION            1\n",
      "             44 RAISE_VARARGS            1\n",
      "             46 JUMP_FORWARD            14 (to 62)\n",
      "\n",
      " 11     >>   48 LOAD_GLOBAL              2 (super)\n",
      "             50 CALL_FUNCTION            0\n",
      "             52 LOAD_METHOD              3 (__setattr__)\n",
      "             54 LOAD_FAST                1 (key)\n",
      "             56 LOAD_FAST                2 (value)\n",
      "             58 CALL_METHOD              2\n",
      "             60 POP_TOP\n",
      "        >>   62 LOAD_CONST               0 (None)\n",
      "             64 RETURN_VALUE\n",
      "\n",
      "Disassembly of speak:\n",
      " 15           0 LOAD_GLOBAL              0 (print)\n",
      "              2 LOAD_CONST               1 ('I am level: ')\n",
      "              4 LOAD_FAST                0 (self)\n",
      "              6 LOAD_ATTR                1 (level)\n",
      "              8 FORMAT_VALUE             0\n",
      "             10 BUILD_STRING             2\n",
      "             12 CALL_FUNCTION            1\n",
      "             14 POP_TOP\n",
      "             16 LOAD_CONST               0 (None)\n",
      "             18 RETURN_VALUE\n",
      "\n"
     ]
    }
   ],
   "source": [
    "dis.dis(SomeObjCannotAddAttr)"
   ]
  },
  {
   "cell_type": "code",
   "execution_count": 64,
   "metadata": {},
   "outputs": [
    {
     "name": "stdout",
     "output_type": "stream",
     "text": [
      "I am trying to set: value = 100\n"
     ]
    }
   ],
   "source": [
    "sb = SomeObjCannotAddAttr(100)"
   ]
  },
  {
   "cell_type": "code",
   "execution_count": 58,
   "metadata": {},
   "outputs": [
    {
     "name": "stdout",
     "output_type": "stream",
     "text": [
      "I am trying to set: value = 101\n"
     ]
    }
   ],
   "source": [
    "sb.value = 101"
   ]
  },
  {
   "cell_type": "code",
   "execution_count": 59,
   "metadata": {},
   "outputs": [
    {
     "name": "stdout",
     "output_type": "stream",
     "text": [
      "101\n"
     ]
    }
   ],
   "source": [
    "print(sb.value)"
   ]
  },
  {
   "cell_type": "code",
   "execution_count": 60,
   "metadata": {},
   "outputs": [
    {
     "name": "stdout",
     "output_type": "stream",
     "text": [
      "I am trying to set: another = 1\n"
     ]
    },
    {
     "ename": "AttributeError",
     "evalue": "<__main__.SomeObjCannotAddAttr object at 0x7fc2a0463e48> do not have another",
     "output_type": "error",
     "traceback": [
      "\u001b[0;31m---------------------------------------------------------------------------\u001b[0m",
      "\u001b[0;31mAttributeError\u001b[0m                            Traceback (most recent call last)",
      "\u001b[0;32m<ipython-input-60-b983eafcd043>\u001b[0m in \u001b[0;36m<module>\u001b[0;34m\u001b[0m\n\u001b[0;32m----> 1\u001b[0;31m \u001b[0msb\u001b[0m\u001b[0;34m.\u001b[0m\u001b[0manother\u001b[0m \u001b[0;34m=\u001b[0m \u001b[0;36m1\u001b[0m\u001b[0;34m\u001b[0m\u001b[0;34m\u001b[0m\u001b[0m\n\u001b[0m",
      "\u001b[0;32m<ipython-input-56-1e7e78b7da90>\u001b[0m in \u001b[0;36m__setattr__\u001b[0;34m(self, key, value)\u001b[0m\n\u001b[1;32m      6\u001b[0m         \u001b[0mprint\u001b[0m\u001b[0;34m(\u001b[0m\u001b[0;34mf\"I am trying to set: {key} = {value}\"\u001b[0m\u001b[0;34m)\u001b[0m\u001b[0;34m\u001b[0m\u001b[0;34m\u001b[0m\u001b[0m\n\u001b[1;32m      7\u001b[0m         \u001b[0;32mif\u001b[0m \u001b[0mkey\u001b[0m \u001b[0;34m!=\u001b[0m \u001b[0;34m'value'\u001b[0m\u001b[0;34m:\u001b[0m\u001b[0;34m\u001b[0m\u001b[0;34m\u001b[0m\u001b[0m\n\u001b[0;32m----> 8\u001b[0;31m             \u001b[0;32mraise\u001b[0m \u001b[0mAttributeError\u001b[0m\u001b[0;34m(\u001b[0m\u001b[0;34mf'{self} do not have {key}'\u001b[0m\u001b[0;34m)\u001b[0m\u001b[0;34m\u001b[0m\u001b[0;34m\u001b[0m\u001b[0m\n\u001b[0m\u001b[1;32m      9\u001b[0m         \u001b[0;32melse\u001b[0m\u001b[0;34m:\u001b[0m\u001b[0;34m\u001b[0m\u001b[0;34m\u001b[0m\u001b[0m\n\u001b[1;32m     10\u001b[0m             \u001b[0msuper\u001b[0m\u001b[0;34m(\u001b[0m\u001b[0;34m)\u001b[0m\u001b[0;34m.\u001b[0m\u001b[0m__setattr__\u001b[0m\u001b[0;34m(\u001b[0m\u001b[0mkey\u001b[0m\u001b[0;34m,\u001b[0m \u001b[0mvalue\u001b[0m\u001b[0;34m)\u001b[0m\u001b[0;34m\u001b[0m\u001b[0;34m\u001b[0m\u001b[0m\n",
      "\u001b[0;31mAttributeError\u001b[0m: <__main__.SomeObjCannotAddAttr object at 0x7fc2a0463e48> do not have another"
     ]
    }
   ],
   "source": [
    "sb.another = 1"
   ]
  },
  {
   "cell_type": "code",
   "execution_count": 50,
   "metadata": {},
   "outputs": [
    {
     "data": {
      "text/plain": [
       "['__class__',\n",
       " '__delattr__',\n",
       " '__dict__',\n",
       " '__dir__',\n",
       " '__doc__',\n",
       " '__eq__',\n",
       " '__format__',\n",
       " '__ge__',\n",
       " '__getattribute__',\n",
       " '__gt__',\n",
       " '__hash__',\n",
       " '__init__',\n",
       " '__init_subclass__',\n",
       " '__le__',\n",
       " '__lt__',\n",
       " '__module__',\n",
       " '__ne__',\n",
       " '__new__',\n",
       " '__reduce__',\n",
       " '__reduce_ex__',\n",
       " '__repr__',\n",
       " '__setattr__',\n",
       " '__sizeof__',\n",
       " '__str__',\n",
       " '__subclasshook__',\n",
       " '__weakref__',\n",
       " 'value']"
      ]
     },
     "execution_count": 50,
     "metadata": {},
     "output_type": "execute_result"
    }
   ],
   "source": [
    "dir(sb)"
   ]
  },
  {
   "cell_type": "code",
   "execution_count": 54,
   "metadata": {},
   "outputs": [
    {
     "data": {
      "text/plain": [
       "<method-wrapper '__str__' of list object at 0x7fc2b838ac88>"
      ]
     },
     "execution_count": 54,
     "metadata": {},
     "output_type": "execute_result"
    }
   ],
   "source": [
    "some_list.__str__"
   ]
  },
  {
   "cell_type": "code",
   "execution_count": 55,
   "metadata": {},
   "outputs": [
    {
     "ename": "AttributeError",
     "evalue": "'list' object has no attribute 'z'",
     "output_type": "error",
     "traceback": [
      "\u001b[0;31m---------------------------------------------------------------------------\u001b[0m",
      "\u001b[0;31mAttributeError\u001b[0m                            Traceback (most recent call last)",
      "\u001b[0;32m<ipython-input-55-455430f42ef5>\u001b[0m in \u001b[0;36m<module>\u001b[0;34m\u001b[0m\n\u001b[0;32m----> 1\u001b[0;31m \u001b[0msome_list\u001b[0m\u001b[0;34m.\u001b[0m\u001b[0mz\u001b[0m \u001b[0;34m=\u001b[0m \u001b[0;36m3\u001b[0m\u001b[0;34m\u001b[0m\u001b[0;34m\u001b[0m\u001b[0m\n\u001b[0m",
      "\u001b[0;31mAttributeError\u001b[0m: 'list' object has no attribute 'z'"
     ]
    }
   ],
   "source": [
    "some_list.z = 3"
   ]
  },
  {
   "cell_type": "code",
   "execution_count": 14,
   "metadata": {},
   "outputs": [],
   "source": [
    "c = 'a'"
   ]
  },
  {
   "cell_type": "code",
   "execution_count": 16,
   "metadata": {},
   "outputs": [
    {
     "data": {
      "text/plain": [
       "['__add__',\n",
       " '__class__',\n",
       " '__contains__',\n",
       " '__delattr__',\n",
       " '__dir__',\n",
       " '__doc__',\n",
       " '__eq__',\n",
       " '__format__',\n",
       " '__ge__',\n",
       " '__getattribute__',\n",
       " '__getitem__',\n",
       " '__getnewargs__',\n",
       " '__gt__',\n",
       " '__hash__',\n",
       " '__init__',\n",
       " '__init_subclass__',\n",
       " '__iter__',\n",
       " '__le__',\n",
       " '__len__',\n",
       " '__lt__',\n",
       " '__mod__',\n",
       " '__mul__',\n",
       " '__ne__',\n",
       " '__new__',\n",
       " '__reduce__',\n",
       " '__reduce_ex__',\n",
       " '__repr__',\n",
       " '__rmod__',\n",
       " '__rmul__',\n",
       " '__setattr__',\n",
       " '__sizeof__',\n",
       " '__str__',\n",
       " '__subclasshook__',\n",
       " 'capitalize',\n",
       " 'casefold',\n",
       " 'center',\n",
       " 'count',\n",
       " 'encode',\n",
       " 'endswith',\n",
       " 'expandtabs',\n",
       " 'find',\n",
       " 'format',\n",
       " 'format_map',\n",
       " 'index',\n",
       " 'isalnum',\n",
       " 'isalpha',\n",
       " 'isascii',\n",
       " 'isdecimal',\n",
       " 'isdigit',\n",
       " 'isidentifier',\n",
       " 'islower',\n",
       " 'isnumeric',\n",
       " 'isprintable',\n",
       " 'isspace',\n",
       " 'istitle',\n",
       " 'isupper',\n",
       " 'join',\n",
       " 'ljust',\n",
       " 'lower',\n",
       " 'lstrip',\n",
       " 'maketrans',\n",
       " 'partition',\n",
       " 'replace',\n",
       " 'rfind',\n",
       " 'rindex',\n",
       " 'rjust',\n",
       " 'rpartition',\n",
       " 'rsplit',\n",
       " 'rstrip',\n",
       " 'split',\n",
       " 'splitlines',\n",
       " 'startswith',\n",
       " 'strip',\n",
       " 'swapcase',\n",
       " 'title',\n",
       " 'translate',\n",
       " 'upper',\n",
       " 'zfill']"
      ]
     },
     "execution_count": 16,
     "metadata": {},
     "output_type": "execute_result"
    }
   ],
   "source": [
    "dir(c)"
   ]
  },
  {
   "cell_type": "code",
   "execution_count": 6,
   "metadata": {},
   "outputs": [
    {
     "data": {
      "text/plain": [
       "['__abs__',\n",
       " '__add__',\n",
       " '__and__',\n",
       " '__bool__',\n",
       " '__ceil__',\n",
       " '__class__',\n",
       " '__delattr__',\n",
       " '__dir__',\n",
       " '__divmod__',\n",
       " '__doc__',\n",
       " '__eq__',\n",
       " '__float__',\n",
       " '__floor__',\n",
       " '__floordiv__',\n",
       " '__format__',\n",
       " '__ge__',\n",
       " '__getattribute__',\n",
       " '__getnewargs__',\n",
       " '__gt__',\n",
       " '__hash__',\n",
       " '__index__',\n",
       " '__init__',\n",
       " '__init_subclass__',\n",
       " '__int__',\n",
       " '__invert__',\n",
       " '__le__',\n",
       " '__lshift__',\n",
       " '__lt__',\n",
       " '__mod__',\n",
       " '__mul__',\n",
       " '__ne__',\n",
       " '__neg__',\n",
       " '__new__',\n",
       " '__or__',\n",
       " '__pos__',\n",
       " '__pow__',\n",
       " '__radd__',\n",
       " '__rand__',\n",
       " '__rdivmod__',\n",
       " '__reduce__',\n",
       " '__reduce_ex__',\n",
       " '__repr__',\n",
       " '__rfloordiv__',\n",
       " '__rlshift__',\n",
       " '__rmod__',\n",
       " '__rmul__',\n",
       " '__ror__',\n",
       " '__round__',\n",
       " '__rpow__',\n",
       " '__rrshift__',\n",
       " '__rshift__',\n",
       " '__rsub__',\n",
       " '__rtruediv__',\n",
       " '__rxor__',\n",
       " '__setattr__',\n",
       " '__sizeof__',\n",
       " '__str__',\n",
       " '__sub__',\n",
       " '__subclasshook__',\n",
       " '__truediv__',\n",
       " '__trunc__',\n",
       " '__xor__',\n",
       " 'bit_length',\n",
       " 'conjugate',\n",
       " 'denominator',\n",
       " 'from_bytes',\n",
       " 'imag',\n",
       " 'numerator',\n",
       " 'real',\n",
       " 'to_bytes']"
      ]
     },
     "execution_count": 6,
     "metadata": {},
     "output_type": "execute_result"
    }
   ],
   "source": [
    "dir(num)"
   ]
  }
 ],
 "metadata": {
  "kernelspec": {
   "display_name": "Python 3",
   "language": "python",
   "name": "python3"
  },
  "language_info": {
   "codemirror_mode": {
    "name": "ipython",
    "version": 3
   },
   "file_extension": ".py",
   "mimetype": "text/x-python",
   "name": "python",
   "nbconvert_exporter": "python",
   "pygments_lexer": "ipython3",
   "version": "3.7.3"
  }
 },
 "nbformat": 4,
 "nbformat_minor": 2
}
